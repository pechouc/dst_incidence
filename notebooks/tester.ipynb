{
 "cells": [
  {
   "cell_type": "code",
   "execution_count": 1,
   "metadata": {},
   "outputs": [],
   "source": [
    "%load_ext autoreload\n",
    "%autoreload 2"
   ]
  },
  {
   "cell_type": "code",
   "execution_count": 2,
   "metadata": {
    "scrolled": true
   },
   "outputs": [],
   "source": [
    "from dst_incidence.amazon_prices import PriceHistoryCollector"
   ]
  },
  {
   "cell_type": "code",
   "execution_count": 3,
   "metadata": {},
   "outputs": [],
   "source": [
    "collector = PriceHistoryCollector(\n",
    "    sku_reference='B0000C73CQ', \n",
    "    country='France', \n",
    "    temp_folder='.'\n",
    ")"
   ]
  },
  {
   "cell_type": "code",
   "execution_count": 4,
   "metadata": {},
   "outputs": [],
   "source": [
    "collector.fetch_product_information()"
   ]
  },
  {
   "cell_type": "code",
   "execution_count": 5,
   "metadata": {},
   "outputs": [
    {
     "data": {
      "text/html": [
       "<div>\n",
       "<style scoped>\n",
       "    .dataframe tbody tr th:only-of-type {\n",
       "        vertical-align: middle;\n",
       "    }\n",
       "\n",
       "    .dataframe tbody tr th {\n",
       "        vertical-align: top;\n",
       "    }\n",
       "\n",
       "    .dataframe thead th {\n",
       "        text-align: right;\n",
       "    }\n",
       "</style>\n",
       "<table border=\"1\" class=\"dataframe\">\n",
       "  <thead>\n",
       "    <tr style=\"text-align: right;\">\n",
       "      <th></th>\n",
       "      <th>0</th>\n",
       "      <th>1</th>\n",
       "    </tr>\n",
       "  </thead>\n",
       "  <tbody>\n",
       "    <tr>\n",
       "      <th>0</th>\n",
       "      <td>Groupe de produits</td>\n",
       "      <td>Appareil-photos</td>\n",
       "    </tr>\n",
       "    <tr>\n",
       "      <th>1</th>\n",
       "      <td>Catégorie</td>\n",
       "      <td>Accessoire</td>\n",
       "    </tr>\n",
       "    <tr>\n",
       "      <th>2</th>\n",
       "      <td>Fabricant</td>\n",
       "      <td>Fujifilm</td>\n",
       "    </tr>\n",
       "    <tr>\n",
       "      <th>3</th>\n",
       "      <td>Modèle</td>\n",
       "      <td>16386016 mini 2pack</td>\n",
       "    </tr>\n",
       "    <tr>\n",
       "      <th>4</th>\n",
       "      <td>Locale</td>\n",
       "      <td>FR</td>\n",
       "    </tr>\n",
       "    <tr>\n",
       "      <th>5</th>\n",
       "      <td>Prix de vente</td>\n",
       "      <td>16,99€</td>\n",
       "    </tr>\n",
       "    <tr>\n",
       "      <th>6</th>\n",
       "      <td>UPC</td>\n",
       "      <td>745313129931</td>\n",
       "    </tr>\n",
       "    <tr>\n",
       "      <th>7</th>\n",
       "      <td>SKU</td>\n",
       "      <td>B0000C73CQ</td>\n",
       "    </tr>\n",
       "    <tr>\n",
       "      <th>8</th>\n",
       "      <td>Dernier scan de mise à jour</td>\n",
       "      <td>il y a4 heures</td>\n",
       "    </tr>\n",
       "    <tr>\n",
       "      <th>9</th>\n",
       "      <td>Dernier suivi</td>\n",
       "      <td>11 jours</td>\n",
       "    </tr>\n",
       "  </tbody>\n",
       "</table>\n",
       "</div>"
      ],
      "text/plain": [
       "                             0                    1\n",
       "0           Groupe de produits      Appareil-photos\n",
       "1                    Catégorie           Accessoire\n",
       "2                    Fabricant             Fujifilm\n",
       "3                       Modèle  16386016 mini 2pack\n",
       "4                       Locale                   FR\n",
       "5                Prix de vente               16,99€\n",
       "6                          UPC         745313129931\n",
       "7                          SKU           B0000C73CQ\n",
       "8  Dernier scan de mise à jour       il y a4 heures\n",
       "9                Dernier suivi             11 jours"
      ]
     },
     "execution_count": 5,
     "metadata": {},
     "output_type": "execute_result"
    }
   ],
   "source": [
    "collector.product_data"
   ]
  },
  {
   "cell_type": "code",
   "execution_count": 6,
   "metadata": {},
   "outputs": [
    {
     "data": {
      "text/html": [
       "<div>\n",
       "<style scoped>\n",
       "    .dataframe tbody tr th:only-of-type {\n",
       "        vertical-align: middle;\n",
       "    }\n",
       "\n",
       "    .dataframe tbody tr th {\n",
       "        vertical-align: top;\n",
       "    }\n",
       "\n",
       "    .dataframe thead th {\n",
       "        text-align: right;\n",
       "    }\n",
       "</style>\n",
       "<table border=\"1\" class=\"dataframe\">\n",
       "  <thead>\n",
       "    <tr style=\"text-align: right;\">\n",
       "      <th></th>\n",
       "      <th>Type de prix</th>\n",
       "      <th>Le plus bas jamais atteint *</th>\n",
       "      <th>Le plus élevé de tous les temps *</th>\n",
       "      <th>Actuel +</th>\n",
       "      <th>Moyenne *</th>\n",
       "    </tr>\n",
       "  </thead>\n",
       "  <tbody>\n",
       "    <tr>\n",
       "      <th>0</th>\n",
       "      <td>Amazon</td>\n",
       "      <td>10,99€ (29 mar. 2019)</td>\n",
       "      <td>126,94€ (27 sept. 2012)</td>\n",
       "      <td>16,90€ (07 sept. 2023)</td>\n",
       "      <td>16,22€</td>\n",
       "    </tr>\n",
       "    <tr>\n",
       "      <th>1</th>\n",
       "      <td>Nouveauté 3ème partie</td>\n",
       "      <td>1,99€ (31 mai 2013)</td>\n",
       "      <td>29,07€ (07 juin 2023)</td>\n",
       "      <td>-</td>\n",
       "      <td>16,54€</td>\n",
       "    </tr>\n",
       "    <tr>\n",
       "      <th>2</th>\n",
       "      <td>3eme occasion</td>\n",
       "      <td>8,90€ (09 oct. 2019)</td>\n",
       "      <td>68,03€ (08 mai 2017)</td>\n",
       "      <td>16,56€ (16 jan. 2024)</td>\n",
       "      <td>16,63€</td>\n",
       "    </tr>\n",
       "  </tbody>\n",
       "</table>\n",
       "</div>"
      ],
      "text/plain": [
       "            Type de prix Le plus bas jamais atteint *  \\\n",
       "0                 Amazon        10,99€ (29 mar. 2019)   \n",
       "1  Nouveauté 3ème partie          1,99€ (31 mai 2013)   \n",
       "2          3eme occasion         8,90€ (09 oct. 2019)   \n",
       "\n",
       "  Le plus élevé de tous les temps *                Actuel + Moyenne *  \n",
       "0           126,94€ (27 sept. 2012)  16,90€ (07 sept. 2023)    16,22€  \n",
       "1             29,07€ (07 juin 2023)                       -    16,54€  \n",
       "2              68,03€ (08 mai 2017)   16,56€ (16 jan. 2024)    16,63€  "
      ]
     },
     "execution_count": 6,
     "metadata": {},
     "output_type": "execute_result"
    }
   ],
   "source": [
    "collector.price_history_summary"
   ]
  },
  {
   "cell_type": "code",
   "execution_count": 7,
   "metadata": {},
   "outputs": [
    {
     "name": "stderr",
     "output_type": "stream",
     "text": [
      "/Users/Paul-Emmanuel/.pyenv/versions/3.7.7/envs/lewagon-data/lib/python3.7/site-packages/dst_incidence/amazon_prices.py:226: RuntimeWarning: Mean of empty slice.\n",
      "  avg_y_coord = img_array.shape[0] - y_coords.mean()\n",
      "/Users/Paul-Emmanuel/.pyenv/versions/3.7.7/envs/lewagon-data/lib/python3.7/site-packages/numpy/core/_methods.py:161: RuntimeWarning: invalid value encountered in double_scalars\n",
      "  ret = ret.dtype.type(ret / rcount)\n"
     ]
    }
   ],
   "source": [
    "collector.build_price_history_from_charts()"
   ]
  },
  {
   "cell_type": "code",
   "execution_count": 8,
   "metadata": {},
   "outputs": [
    {
     "data": {
      "text/plain": [
       "{'amazon':       x_axis_coord      price\n",
       " 0             80.0        NaN\n",
       " 1             81.0        NaN\n",
       " 2             82.0  80.938098\n",
       " 3             83.0  80.938098\n",
       " 4             84.0  80.880810\n",
       " ...            ...        ...\n",
       " 2901        3091.0  16.947905\n",
       " 2902        3092.0  16.947905\n",
       " 2903        3093.0  16.947905\n",
       " 2904        3094.0  16.947905\n",
       " 2905        3095.0  16.947905\n",
       " \n",
       " [2906 rows x 2 columns]}"
      ]
     },
     "execution_count": 8,
     "metadata": {},
     "output_type": "execute_result"
    }
   ],
   "source": [
    "collector.price_histories"
   ]
  },
  {
   "cell_type": "code",
   "execution_count": 9,
   "metadata": {},
   "outputs": [],
   "source": [
    "collector.get_start_end_dates_from_charts()"
   ]
  },
  {
   "cell_type": "code",
   "execution_count": 10,
   "metadata": {},
   "outputs": [],
   "source": [
    "collector.get_end_date_from_price_history_summary()"
   ]
  },
  {
   "cell_type": "code",
   "execution_count": 11,
   "metadata": {},
   "outputs": [],
   "source": [
    "collector.convert_coordinates_to_timestamps()"
   ]
  },
  {
   "cell_type": "code",
   "execution_count": 12,
   "metadata": {},
   "outputs": [],
   "source": [
    "collector.format_price_histories()"
   ]
  },
  {
   "cell_type": "code",
   "execution_count": 13,
   "metadata": {},
   "outputs": [
    {
     "data": {
      "text/plain": [
       "{'amazon':           price                          date         sku country unit  seller\n",
       " 0           NaN 2013-10-01 00:00:00.000000000  B0000C73CQ  France    €  amazon\n",
       " 1           NaN 2013-10-02 05:57:46.207846800  B0000C73CQ  France    €  amazon\n",
       " 2     80.938098 2013-10-03 11:55:32.415690000  B0000C73CQ  France    €  amazon\n",
       " 3     80.938098 2013-10-04 17:53:18.623536800  B0000C73CQ  France    €  amazon\n",
       " 4     80.880810 2013-10-05 23:51:04.831383600  B0000C73CQ  France    €  amazon\n",
       " ...         ...                           ...         ...     ...  ...     ...\n",
       " 2901  16.947905 2024-01-16 02:05:51.823813200  B0000C73CQ  France    €  amazon\n",
       " 2902  16.947905 2024-01-17 08:03:38.031660000  B0000C73CQ  France    €  amazon\n",
       " 2903  16.947905 2024-01-18 14:01:24.239503200  B0000C73CQ  France    €  amazon\n",
       " 2904  16.947905 2024-01-19 19:59:10.447350000  B0000C73CQ  France    €  amazon\n",
       " 2905  16.947905 2024-01-21 01:56:56.655196800  B0000C73CQ  France    €  amazon\n",
       " \n",
       " [2906 rows x 6 columns]}"
      ]
     },
     "execution_count": 13,
     "metadata": {},
     "output_type": "execute_result"
    }
   ],
   "source": [
    "collector.price_histories"
   ]
  },
  {
   "cell_type": "code",
   "execution_count": 14,
   "metadata": {},
   "outputs": [
    {
     "name": "stderr",
     "output_type": "stream",
     "text": [
      "/Users/Paul-Emmanuel/.pyenv/versions/3.7.7/envs/lewagon-data/lib/python3.7/site-packages/dst_incidence/amazon_prices.py:226: RuntimeWarning: Mean of empty slice.\n",
      "  avg_y_coord = img_array.shape[0] - y_coords.mean()\n",
      "/Users/Paul-Emmanuel/.pyenv/versions/3.7.7/envs/lewagon-data/lib/python3.7/site-packages/numpy/core/_methods.py:161: RuntimeWarning: invalid value encountered in double_scalars\n",
      "  ret = ret.dtype.type(ret / rcount)\n"
     ]
    }
   ],
   "source": [
    "collector.fetch_product_information()\n",
    "\n",
    "collector.build_price_history_from_charts()\n",
    "collector.get_start_end_dates_from_charts()\n",
    "collector.get_end_date_from_price_history_summary()\n",
    "collector.convert_coordinates_to_timestamps()\n",
    "\n",
    "collector.format_price_histories()\n",
    "collector.format_price_history_summary()\n",
    "collector.format_product_data()\n",
    "collector.build_collection_metadata()"
   ]
  },
  {
   "cell_type": "code",
   "execution_count": 15,
   "metadata": {},
   "outputs": [
    {
     "data": {
      "text/html": [
       "<div>\n",
       "<style scoped>\n",
       "    .dataframe tbody tr th:only-of-type {\n",
       "        vertical-align: middle;\n",
       "    }\n",
       "\n",
       "    .dataframe tbody tr th {\n",
       "        vertical-align: top;\n",
       "    }\n",
       "\n",
       "    .dataframe thead th {\n",
       "        text-align: right;\n",
       "    }\n",
       "</style>\n",
       "<table border=\"1\" class=\"dataframe\">\n",
       "  <thead>\n",
       "    <tr style=\"text-align: right;\">\n",
       "      <th></th>\n",
       "      <th>sku</th>\n",
       "      <th>country</th>\n",
       "      <th>unit</th>\n",
       "      <th>seller</th>\n",
       "      <th>min_price</th>\n",
       "      <th>min_price_date</th>\n",
       "      <th>max_price</th>\n",
       "      <th>max_price_date</th>\n",
       "      <th>current_price</th>\n",
       "      <th>current_price_date</th>\n",
       "      <th>average_price</th>\n",
       "    </tr>\n",
       "  </thead>\n",
       "  <tbody>\n",
       "    <tr>\n",
       "      <th>0</th>\n",
       "      <td>B0000C73CQ</td>\n",
       "      <td>France</td>\n",
       "      <td>€</td>\n",
       "      <td>amazon</td>\n",
       "      <td>10.99</td>\n",
       "      <td>2019-03-29</td>\n",
       "      <td>126.94</td>\n",
       "      <td>2012-09-27</td>\n",
       "      <td>16.90</td>\n",
       "      <td>2023-09-07</td>\n",
       "      <td>16.22</td>\n",
       "    </tr>\n",
       "    <tr>\n",
       "      <th>1</th>\n",
       "      <td>B0000C73CQ</td>\n",
       "      <td>France</td>\n",
       "      <td>€</td>\n",
       "      <td>new</td>\n",
       "      <td>1.99</td>\n",
       "      <td>2013-05-31</td>\n",
       "      <td>29.07</td>\n",
       "      <td>2023-06-07</td>\n",
       "      <td>NaN</td>\n",
       "      <td>NaT</td>\n",
       "      <td>16.54</td>\n",
       "    </tr>\n",
       "    <tr>\n",
       "      <th>2</th>\n",
       "      <td>B0000C73CQ</td>\n",
       "      <td>France</td>\n",
       "      <td>€</td>\n",
       "      <td>used</td>\n",
       "      <td>8.90</td>\n",
       "      <td>2019-10-09</td>\n",
       "      <td>68.03</td>\n",
       "      <td>2017-05-08</td>\n",
       "      <td>16.56</td>\n",
       "      <td>2024-01-16</td>\n",
       "      <td>16.63</td>\n",
       "    </tr>\n",
       "  </tbody>\n",
       "</table>\n",
       "</div>"
      ],
      "text/plain": [
       "          sku country unit  seller  min_price min_price_date  max_price  \\\n",
       "0  B0000C73CQ  France    €  amazon      10.99     2019-03-29     126.94   \n",
       "1  B0000C73CQ  France    €     new       1.99     2013-05-31      29.07   \n",
       "2  B0000C73CQ  France    €    used       8.90     2019-10-09      68.03   \n",
       "\n",
       "  max_price_date  current_price current_price_date  average_price  \n",
       "0     2012-09-27          16.90         2023-09-07          16.22  \n",
       "1     2023-06-07            NaN                NaT          16.54  \n",
       "2     2017-05-08          16.56         2024-01-16          16.63  "
      ]
     },
     "execution_count": 15,
     "metadata": {},
     "output_type": "execute_result"
    }
   ],
   "source": [
    "collector.price_history_summary # ['first_date']"
   ]
  },
  {
   "cell_type": "code",
   "execution_count": 16,
   "metadata": {},
   "outputs": [
    {
     "data": {
      "text/plain": [
       "{'amazon':           price                          date         sku country unit  seller\n",
       " 0           NaN 2013-10-01 00:00:00.000000000  B0000C73CQ  France    €  amazon\n",
       " 1           NaN 2013-10-02 05:57:46.207846800  B0000C73CQ  France    €  amazon\n",
       " 2     80.938098 2013-10-03 11:55:32.415690000  B0000C73CQ  France    €  amazon\n",
       " 3     80.938098 2013-10-04 17:53:18.623536800  B0000C73CQ  France    €  amazon\n",
       " 4     80.880810 2013-10-05 23:51:04.831383600  B0000C73CQ  France    €  amazon\n",
       " ...         ...                           ...         ...     ...  ...     ...\n",
       " 2901  16.947905 2024-01-16 02:05:51.823813200  B0000C73CQ  France    €  amazon\n",
       " 2902  16.947905 2024-01-17 08:03:38.031660000  B0000C73CQ  France    €  amazon\n",
       " 2903  16.947905 2024-01-18 14:01:24.239503200  B0000C73CQ  France    €  amazon\n",
       " 2904  16.947905 2024-01-19 19:59:10.447350000  B0000C73CQ  France    €  amazon\n",
       " 2905  16.947905 2024-01-21 01:56:56.655196800  B0000C73CQ  France    €  amazon\n",
       " \n",
       " [2906 rows x 6 columns]}"
      ]
     },
     "execution_count": 16,
     "metadata": {},
     "output_type": "execute_result"
    }
   ],
   "source": [
    "collector.price_histories"
   ]
  },
  {
   "cell_type": "code",
   "execution_count": 17,
   "metadata": {},
   "outputs": [
    {
     "data": {
      "text/plain": [
       "{'amazon': {}}"
      ]
     },
     "execution_count": 17,
     "metadata": {},
     "output_type": "execute_result"
    }
   ],
   "source": [
    "collector.sellers"
   ]
  },
  {
   "cell_type": "code",
   "execution_count": null,
   "metadata": {},
   "outputs": [],
   "source": []
  }
 ],
 "metadata": {
  "kernelspec": {
   "display_name": "Python 3",
   "language": "python",
   "name": "python3"
  },
  "language_info": {
   "codemirror_mode": {
    "name": "ipython",
    "version": 3
   },
   "file_extension": ".py",
   "mimetype": "text/x-python",
   "name": "python",
   "nbconvert_exporter": "python",
   "pygments_lexer": "ipython3",
   "version": "3.7.7"
  },
  "toc": {
   "base_numbering": 1,
   "nav_menu": {},
   "number_sections": false,
   "sideBar": true,
   "skip_h1_title": false,
   "title_cell": "Table of Contents",
   "title_sidebar": "Contents",
   "toc_cell": false,
   "toc_position": {},
   "toc_section_display": true,
   "toc_window_display": false
  }
 },
 "nbformat": 4,
 "nbformat_minor": 4
}
