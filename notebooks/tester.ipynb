{
 "cells": [
  {
   "cell_type": "code",
   "execution_count": 1,
   "metadata": {},
   "outputs": [],
   "source": [
    "%load_ext autoreload\n",
    "%autoreload 2"
   ]
  },
  {
   "cell_type": "code",
   "execution_count": 2,
   "metadata": {},
   "outputs": [],
   "source": [
    "import os\n",
    "import copy"
   ]
  },
  {
   "cell_type": "code",
   "execution_count": 3,
   "metadata": {},
   "outputs": [],
   "source": [
    "from datetime import datetime"
   ]
  },
  {
   "cell_type": "code",
   "execution_count": 4,
   "metadata": {},
   "outputs": [],
   "source": [
    "from bs4 import BeautifulSoup"
   ]
  },
  {
   "cell_type": "code",
   "execution_count": 5,
   "metadata": {},
   "outputs": [],
   "source": [
    "from PIL import Image"
   ]
  },
  {
   "cell_type": "code",
   "execution_count": 6,
   "metadata": {},
   "outputs": [],
   "source": [
    "import numpy as np\n",
    "import pandas as pd"
   ]
  },
  {
   "cell_type": "code",
   "execution_count": 7,
   "metadata": {
    "scrolled": true
   },
   "outputs": [],
   "source": [
    "from dst_incidence.amazon_prices import PriceHistoryCollector"
   ]
  },
  {
   "cell_type": "code",
   "execution_count": 8,
   "metadata": {},
   "outputs": [],
   "source": [
    "import pytesseract\n",
    "pytesseract.pytesseract.tesseract_cmd = \"/usr/local/Cellar/tesseract/5.2.0/bin/tesseract\""
   ]
  },
  {
   "cell_type": "code",
   "execution_count": 9,
   "metadata": {},
   "outputs": [],
   "source": [
    "import re"
   ]
  },
  {
   "cell_type": "code",
   "execution_count": 10,
   "metadata": {},
   "outputs": [],
   "source": [
    "import matplotlib.pyplot as plt"
   ]
  },
  {
   "cell_type": "code",
   "execution_count": 155,
   "metadata": {},
   "outputs": [],
   "source": [
    "collector = PriceHistoryCollector(\n",
    "    data_raw_dir=\"/Users/Paul-Emmanuel/Desktop/PhD/3_DST_incidence/data_raw\",\n",
    "    sku_reference='B002OHKHOQ', \n",
    "    country='Germany'\n",
    ")"
   ]
  },
  {
   "cell_type": "code",
   "execution_count": 156,
   "metadata": {},
   "outputs": [],
   "source": [
    "collector.fetch_product_information()"
   ]
  },
  {
   "cell_type": "code",
   "execution_count": 157,
   "metadata": {},
   "outputs": [
    {
     "data": {
      "text/html": [
       "<div>\n",
       "<style scoped>\n",
       "    .dataframe tbody tr th:only-of-type {\n",
       "        vertical-align: middle;\n",
       "    }\n",
       "\n",
       "    .dataframe tbody tr th {\n",
       "        vertical-align: top;\n",
       "    }\n",
       "\n",
       "    .dataframe thead th {\n",
       "        text-align: right;\n",
       "    }\n",
       "</style>\n",
       "<table border=\"1\" class=\"dataframe\">\n",
       "  <thead>\n",
       "    <tr style=\"text-align: right;\">\n",
       "      <th></th>\n",
       "      <th>Type de prix</th>\n",
       "      <th>Le plus bas jamais atteint *</th>\n",
       "      <th>Le plus élevé de tous les temps *</th>\n",
       "      <th>Actuel +</th>\n",
       "      <th>Moyenne *</th>\n",
       "    </tr>\n",
       "  </thead>\n",
       "  <tbody>\n",
       "    <tr>\n",
       "      <th>0</th>\n",
       "      <td>Amazon</td>\n",
       "      <td>1,69€ (05 mar. 2019)</td>\n",
       "      <td>3,21€ (24 août 2022)</td>\n",
       "      <td>2,99€ (21 sept. 2022)</td>\n",
       "      <td>2,78€</td>\n",
       "    </tr>\n",
       "    <tr>\n",
       "      <th>1</th>\n",
       "      <td>Nouveauté 3ème partie</td>\n",
       "      <td>1,60€ (30 jan. 2018)</td>\n",
       "      <td>6,97€ (28 fév. 2023)</td>\n",
       "      <td>-</td>\n",
       "      <td>6,33€</td>\n",
       "    </tr>\n",
       "    <tr>\n",
       "      <th>2</th>\n",
       "      <td>3eme occasion</td>\n",
       "      <td>1,57€ (05 mar. 2019)</td>\n",
       "      <td>2,64€ (21 fév. 2019)</td>\n",
       "      <td>-</td>\n",
       "      <td>1,90€</td>\n",
       "    </tr>\n",
       "  </tbody>\n",
       "</table>\n",
       "</div>"
      ],
      "text/plain": [
       "            Type de prix Le plus bas jamais atteint *  \\\n",
       "0                 Amazon         1,69€ (05 mar. 2019)   \n",
       "1  Nouveauté 3ème partie         1,60€ (30 jan. 2018)   \n",
       "2          3eme occasion         1,57€ (05 mar. 2019)   \n",
       "\n",
       "  Le plus élevé de tous les temps *               Actuel + Moyenne *  \n",
       "0              3,21€ (24 août 2022)  2,99€ (21 sept. 2022)     2,78€  \n",
       "1              6,97€ (28 fév. 2023)                      -     6,33€  \n",
       "2              2,64€ (21 fév. 2019)                      -     1,90€  "
      ]
     },
     "execution_count": 157,
     "metadata": {},
     "output_type": "execute_result"
    }
   ],
   "source": [
    "collector.price_history_summary"
   ]
  },
  {
   "cell_type": "code",
   "execution_count": 158,
   "metadata": {},
   "outputs": [
    {
     "data": {
      "text/plain": [
       "'wolfcraft Standard-Abbrechklingen-Messer 18 mm I 4146000 I Kunststoffmesser mit Metallführung | traq.html'"
      ]
     },
     "execution_count": 158,
     "metadata": {},
     "output_type": "execute_result"
    }
   ],
   "source": [
    "collector.full_product_name"
   ]
  },
  {
   "cell_type": "code",
   "execution_count": 159,
   "metadata": {},
   "outputs": [],
   "source": [
    "collector.build_price_history_from_charts()"
   ]
  },
  {
   "cell_type": "code",
   "execution_count": 160,
   "metadata": {},
   "outputs": [
    {
     "data": {
      "text/html": [
       "<div>\n",
       "<style scoped>\n",
       "    .dataframe tbody tr th:only-of-type {\n",
       "        vertical-align: middle;\n",
       "    }\n",
       "\n",
       "    .dataframe tbody tr th {\n",
       "        vertical-align: top;\n",
       "    }\n",
       "\n",
       "    .dataframe thead th {\n",
       "        text-align: right;\n",
       "    }\n",
       "</style>\n",
       "<table border=\"1\" class=\"dataframe\">\n",
       "  <thead>\n",
       "    <tr style=\"text-align: right;\">\n",
       "      <th></th>\n",
       "      <th>x_axis_coord</th>\n",
       "      <th>trusted</th>\n",
       "      <th>price</th>\n",
       "    </tr>\n",
       "  </thead>\n",
       "  <tbody>\n",
       "    <tr>\n",
       "      <th>0</th>\n",
       "      <td>88.0</td>\n",
       "      <td>True</td>\n",
       "      <td>2.790121</td>\n",
       "    </tr>\n",
       "    <tr>\n",
       "      <th>1</th>\n",
       "      <td>89.0</td>\n",
       "      <td>True</td>\n",
       "      <td>2.790121</td>\n",
       "    </tr>\n",
       "    <tr>\n",
       "      <th>2</th>\n",
       "      <td>90.0</td>\n",
       "      <td>True</td>\n",
       "      <td>2.790121</td>\n",
       "    </tr>\n",
       "    <tr>\n",
       "      <th>3</th>\n",
       "      <td>91.0</td>\n",
       "      <td>True</td>\n",
       "      <td>2.790121</td>\n",
       "    </tr>\n",
       "    <tr>\n",
       "      <th>4</th>\n",
       "      <td>92.0</td>\n",
       "      <td>True</td>\n",
       "      <td>2.790121</td>\n",
       "    </tr>\n",
       "    <tr>\n",
       "      <th>...</th>\n",
       "      <td>...</td>\n",
       "      <td>...</td>\n",
       "      <td>...</td>\n",
       "    </tr>\n",
       "    <tr>\n",
       "      <th>3003</th>\n",
       "      <td>3117.0</td>\n",
       "      <td>True</td>\n",
       "      <td>2.989976</td>\n",
       "    </tr>\n",
       "    <tr>\n",
       "      <th>3004</th>\n",
       "      <td>3118.0</td>\n",
       "      <td>True</td>\n",
       "      <td>2.989976</td>\n",
       "    </tr>\n",
       "    <tr>\n",
       "      <th>3005</th>\n",
       "      <td>3119.0</td>\n",
       "      <td>True</td>\n",
       "      <td>2.989976</td>\n",
       "    </tr>\n",
       "    <tr>\n",
       "      <th>3006</th>\n",
       "      <td>3120.0</td>\n",
       "      <td>True</td>\n",
       "      <td>2.989976</td>\n",
       "    </tr>\n",
       "    <tr>\n",
       "      <th>3007</th>\n",
       "      <td>3121.0</td>\n",
       "      <td>True</td>\n",
       "      <td>2.989976</td>\n",
       "    </tr>\n",
       "  </tbody>\n",
       "</table>\n",
       "<p>3008 rows × 3 columns</p>\n",
       "</div>"
      ],
      "text/plain": [
       "      x_axis_coord  trusted     price\n",
       "0             88.0     True  2.790121\n",
       "1             89.0     True  2.790121\n",
       "2             90.0     True  2.790121\n",
       "3             91.0     True  2.790121\n",
       "4             92.0     True  2.790121\n",
       "...            ...      ...       ...\n",
       "3003        3117.0     True  2.989976\n",
       "3004        3118.0     True  2.989976\n",
       "3005        3119.0     True  2.989976\n",
       "3006        3120.0     True  2.989976\n",
       "3007        3121.0     True  2.989976\n",
       "\n",
       "[3008 rows x 3 columns]"
      ]
     },
     "execution_count": 160,
     "metadata": {},
     "output_type": "execute_result"
    }
   ],
   "source": [
    "collector.price_histories['amazon']"
   ]
  },
  {
   "cell_type": "code",
   "execution_count": 161,
   "metadata": {},
   "outputs": [],
   "source": [
    "collector.get_start_end_dates_from_charts()"
   ]
  },
  {
   "cell_type": "code",
   "execution_count": 162,
   "metadata": {},
   "outputs": [
    {
     "data": {
      "text/plain": [
       "{'amazon': {'first_date': datetime.datetime(2016, 9, 1, 0, 0),\n",
       "  'last_date': datetime.datetime(2024, 1, 1, 0, 0)},\n",
       " 'new': {'first_date': datetime.datetime(2016, 9, 1, 0, 0),\n",
       "  'last_date': datetime.datetime(2017, 9, 1, 0, 0)}}"
      ]
     },
     "execution_count": 162,
     "metadata": {},
     "output_type": "execute_result"
    }
   ],
   "source": [
    "collector.start_end_dates"
   ]
  },
  {
   "cell_type": "code",
   "execution_count": 163,
   "metadata": {},
   "outputs": [
    {
     "name": "stdout",
     "output_type": "stream",
     "text": [
      "'Manually' correcting the final date for seller == new\n"
     ]
    }
   ],
   "source": [
    "collector.convert_coordinates_to_timestamps()"
   ]
  },
  {
   "cell_type": "code",
   "execution_count": 164,
   "metadata": {},
   "outputs": [],
   "source": [
    "collector.format_price_histories()"
   ]
  },
  {
   "cell_type": "code",
   "execution_count": 165,
   "metadata": {},
   "outputs": [
    {
     "data": {
      "text/html": [
       "<div>\n",
       "<style scoped>\n",
       "    .dataframe tbody tr th:only-of-type {\n",
       "        vertical-align: middle;\n",
       "    }\n",
       "\n",
       "    .dataframe tbody tr th {\n",
       "        vertical-align: top;\n",
       "    }\n",
       "\n",
       "    .dataframe thead th {\n",
       "        text-align: right;\n",
       "    }\n",
       "</style>\n",
       "<table border=\"1\" class=\"dataframe\">\n",
       "  <thead>\n",
       "    <tr style=\"text-align: right;\">\n",
       "      <th></th>\n",
       "      <th>trusted</th>\n",
       "      <th>price</th>\n",
       "      <th>date</th>\n",
       "      <th>sku</th>\n",
       "      <th>country</th>\n",
       "      <th>unit</th>\n",
       "      <th>seller</th>\n",
       "    </tr>\n",
       "  </thead>\n",
       "  <tbody>\n",
       "    <tr>\n",
       "      <th>0</th>\n",
       "      <td>True</td>\n",
       "      <td>2.790121</td>\n",
       "      <td>2016-09-01 00:00:00.000000000</td>\n",
       "      <td>B002OHKHOQ</td>\n",
       "      <td>Germany</td>\n",
       "      <td>€</td>\n",
       "      <td>amazon</td>\n",
       "    </tr>\n",
       "    <tr>\n",
       "      <th>1</th>\n",
       "      <td>True</td>\n",
       "      <td>2.790121</td>\n",
       "      <td>2016-09-01 21:11:27.240356400</td>\n",
       "      <td>B002OHKHOQ</td>\n",
       "      <td>Germany</td>\n",
       "      <td>€</td>\n",
       "      <td>amazon</td>\n",
       "    </tr>\n",
       "    <tr>\n",
       "      <th>2</th>\n",
       "      <td>True</td>\n",
       "      <td>2.790121</td>\n",
       "      <td>2016-09-02 18:22:54.480712800</td>\n",
       "      <td>B002OHKHOQ</td>\n",
       "      <td>Germany</td>\n",
       "      <td>€</td>\n",
       "      <td>amazon</td>\n",
       "    </tr>\n",
       "    <tr>\n",
       "      <th>3</th>\n",
       "      <td>True</td>\n",
       "      <td>2.790121</td>\n",
       "      <td>2016-09-03 15:34:21.721069200</td>\n",
       "      <td>B002OHKHOQ</td>\n",
       "      <td>Germany</td>\n",
       "      <td>€</td>\n",
       "      <td>amazon</td>\n",
       "    </tr>\n",
       "    <tr>\n",
       "      <th>4</th>\n",
       "      <td>True</td>\n",
       "      <td>2.790121</td>\n",
       "      <td>2016-09-04 12:45:48.961425600</td>\n",
       "      <td>B002OHKHOQ</td>\n",
       "      <td>Germany</td>\n",
       "      <td>€</td>\n",
       "      <td>amazon</td>\n",
       "    </tr>\n",
       "    <tr>\n",
       "      <th>...</th>\n",
       "      <td>...</td>\n",
       "      <td>...</td>\n",
       "      <td>...</td>\n",
       "      <td>...</td>\n",
       "      <td>...</td>\n",
       "      <td>...</td>\n",
       "      <td>...</td>\n",
       "    </tr>\n",
       "    <tr>\n",
       "      <th>3003</th>\n",
       "      <td>True</td>\n",
       "      <td>2.989976</td>\n",
       "      <td>2023-12-28 11:14:11.038574400</td>\n",
       "      <td>B002OHKHOQ</td>\n",
       "      <td>Germany</td>\n",
       "      <td>€</td>\n",
       "      <td>amazon</td>\n",
       "    </tr>\n",
       "    <tr>\n",
       "      <th>3004</th>\n",
       "      <td>True</td>\n",
       "      <td>2.989976</td>\n",
       "      <td>2023-12-29 08:25:38.278930800</td>\n",
       "      <td>B002OHKHOQ</td>\n",
       "      <td>Germany</td>\n",
       "      <td>€</td>\n",
       "      <td>amazon</td>\n",
       "    </tr>\n",
       "    <tr>\n",
       "      <th>3005</th>\n",
       "      <td>True</td>\n",
       "      <td>2.989976</td>\n",
       "      <td>2023-12-30 05:37:05.519287200</td>\n",
       "      <td>B002OHKHOQ</td>\n",
       "      <td>Germany</td>\n",
       "      <td>€</td>\n",
       "      <td>amazon</td>\n",
       "    </tr>\n",
       "    <tr>\n",
       "      <th>3006</th>\n",
       "      <td>True</td>\n",
       "      <td>2.989976</td>\n",
       "      <td>2023-12-31 02:48:32.759643600</td>\n",
       "      <td>B002OHKHOQ</td>\n",
       "      <td>Germany</td>\n",
       "      <td>€</td>\n",
       "      <td>amazon</td>\n",
       "    </tr>\n",
       "    <tr>\n",
       "      <th>3007</th>\n",
       "      <td>True</td>\n",
       "      <td>2.989976</td>\n",
       "      <td>2024-01-01 00:00:00.000000000</td>\n",
       "      <td>B002OHKHOQ</td>\n",
       "      <td>Germany</td>\n",
       "      <td>€</td>\n",
       "      <td>amazon</td>\n",
       "    </tr>\n",
       "  </tbody>\n",
       "</table>\n",
       "<p>3008 rows × 7 columns</p>\n",
       "</div>"
      ],
      "text/plain": [
       "      trusted     price                          date         sku  country  \\\n",
       "0        True  2.790121 2016-09-01 00:00:00.000000000  B002OHKHOQ  Germany   \n",
       "1        True  2.790121 2016-09-01 21:11:27.240356400  B002OHKHOQ  Germany   \n",
       "2        True  2.790121 2016-09-02 18:22:54.480712800  B002OHKHOQ  Germany   \n",
       "3        True  2.790121 2016-09-03 15:34:21.721069200  B002OHKHOQ  Germany   \n",
       "4        True  2.790121 2016-09-04 12:45:48.961425600  B002OHKHOQ  Germany   \n",
       "...       ...       ...                           ...         ...      ...   \n",
       "3003     True  2.989976 2023-12-28 11:14:11.038574400  B002OHKHOQ  Germany   \n",
       "3004     True  2.989976 2023-12-29 08:25:38.278930800  B002OHKHOQ  Germany   \n",
       "3005     True  2.989976 2023-12-30 05:37:05.519287200  B002OHKHOQ  Germany   \n",
       "3006     True  2.989976 2023-12-31 02:48:32.759643600  B002OHKHOQ  Germany   \n",
       "3007     True  2.989976 2024-01-01 00:00:00.000000000  B002OHKHOQ  Germany   \n",
       "\n",
       "     unit  seller  \n",
       "0       €  amazon  \n",
       "1       €  amazon  \n",
       "2       €  amazon  \n",
       "3       €  amazon  \n",
       "4       €  amazon  \n",
       "...   ...     ...  \n",
       "3003    €  amazon  \n",
       "3004    €  amazon  \n",
       "3005    €  amazon  \n",
       "3006    €  amazon  \n",
       "3007    €  amazon  \n",
       "\n",
       "[3008 rows x 7 columns]"
      ]
     },
     "execution_count": 165,
     "metadata": {},
     "output_type": "execute_result"
    }
   ],
   "source": [
    "collector.price_histories['amazon']"
   ]
  },
  {
   "cell_type": "code",
   "execution_count": 37,
   "metadata": {},
   "outputs": [
    {
     "data": {
      "image/png": "[encoded data removed]",
      "text/plain": [
       "<Figure size 1080x720 with 1 Axes>"
      ]
     },
     "metadata": {
      "needs_background": "light"
     },
     "output_type": "display_data"
    }
   ],
   "source": [
    "plt.figure(figsize=(15, 10))\n",
    "plt.plot(collector.price_histories['amazon']['date'], collector.price_histories['amazon']['price'])\n",
    "# plt.plot(collector.price_histories['amazon']['date'], collector.price_histories['amazon']['trusted'])\n",
    "plt.show();"
   ]
  },
  {
   "cell_type": "code",
   "execution_count": 55,
   "metadata": {},
   "outputs": [],
   "source": [
    "path_to_price_history_csv = os.path.join(\n",
    "    os.path.dirname(os.path.dirname(os.path.abspath(\"__file__\"))),\n",
    "    \"dst_incidence\", \"data\", \"prices\", \"price_history.csv\"\n",
    ")"
   ]
  },
  {
   "cell_type": "code",
   "execution_count": 61,
   "metadata": {},
   "outputs": [
    {
     "data": {
      "text/plain": [
       "45"
      ]
     },
     "execution_count": 61,
     "metadata": {},
     "output_type": "execute_result"
    }
   ],
   "source": [
    "price_history_csv['sku'].nunique()"
   ]
  },
  {
   "cell_type": "code",
   "execution_count": 62,
   "metadata": {},
   "outputs": [
    {
     "data": {
      "text/html": [
       "<div>\n",
       "<style scoped>\n",
       "    .dataframe tbody tr th:only-of-type {\n",
       "        vertical-align: middle;\n",
       "    }\n",
       "\n",
       "    .dataframe tbody tr th {\n",
       "        vertical-align: top;\n",
       "    }\n",
       "\n",
       "    .dataframe thead th {\n",
       "        text-align: right;\n",
       "    }\n",
       "</style>\n",
       "<table border=\"1\" class=\"dataframe\">\n",
       "  <thead>\n",
       "    <tr style=\"text-align: right;\">\n",
       "      <th></th>\n",
       "      <th>trusted</th>\n",
       "      <th>price</th>\n",
       "      <th>date</th>\n",
       "      <th>sku</th>\n",
       "      <th>country</th>\n",
       "      <th>unit</th>\n",
       "      <th>seller</th>\n",
       "    </tr>\n",
       "  </thead>\n",
       "  <tbody>\n",
       "    <tr>\n",
       "      <th>0</th>\n",
       "      <td>True</td>\n",
       "      <td>80.938098</td>\n",
       "      <td>2012-10-01 00:00:00.000000000</td>\n",
       "      <td>B0000C73CQ</td>\n",
       "      <td>France</td>\n",
       "      <td>€</td>\n",
       "      <td>amazon</td>\n",
       "    </tr>\n",
       "    <tr>\n",
       "      <th>1</th>\n",
       "      <td>True</td>\n",
       "      <td>80.938098</td>\n",
       "      <td>2012-10-02 07:48:22.223696400</td>\n",
       "      <td>B0000C73CQ</td>\n",
       "      <td>France</td>\n",
       "      <td>€</td>\n",
       "      <td>amazon</td>\n",
       "    </tr>\n",
       "    <tr>\n",
       "      <th>2</th>\n",
       "      <td>True</td>\n",
       "      <td>80.880810</td>\n",
       "      <td>2012-10-03 15:36:44.447396400</td>\n",
       "      <td>B0000C73CQ</td>\n",
       "      <td>France</td>\n",
       "      <td>€</td>\n",
       "      <td>amazon</td>\n",
       "    </tr>\n",
       "    <tr>\n",
       "      <th>3</th>\n",
       "      <td>True</td>\n",
       "      <td>80.880810</td>\n",
       "      <td>2012-10-04 23:25:06.671092800</td>\n",
       "      <td>B0000C73CQ</td>\n",
       "      <td>France</td>\n",
       "      <td>€</td>\n",
       "      <td>amazon</td>\n",
       "    </tr>\n",
       "    <tr>\n",
       "      <th>4</th>\n",
       "      <td>True</td>\n",
       "      <td>34.821621</td>\n",
       "      <td>2012-10-06 07:13:28.894789200</td>\n",
       "      <td>B0000C73CQ</td>\n",
       "      <td>France</td>\n",
       "      <td>€</td>\n",
       "      <td>amazon</td>\n",
       "    </tr>\n",
       "  </tbody>\n",
       "</table>\n",
       "</div>"
      ],
      "text/plain": [
       "  trusted      price                           date         sku country unit  \\\n",
       "0    True  80.938098  2012-10-01 00:00:00.000000000  B0000C73CQ  France    €   \n",
       "1    True  80.938098  2012-10-02 07:48:22.223696400  B0000C73CQ  France    €   \n",
       "2    True  80.880810  2012-10-03 15:36:44.447396400  B0000C73CQ  France    €   \n",
       "3    True  80.880810  2012-10-04 23:25:06.671092800  B0000C73CQ  France    €   \n",
       "4    True  34.821621  2012-10-06 07:13:28.894789200  B0000C73CQ  France    €   \n",
       "\n",
       "   seller  \n",
       "0  amazon  \n",
       "1  amazon  \n",
       "2  amazon  \n",
       "3  amazon  \n",
       "4  amazon  "
      ]
     },
     "execution_count": 62,
     "metadata": {},
     "output_type": "execute_result"
    }
   ],
   "source": [
    "price_history_csv.head()"
   ]
  },
  {
   "cell_type": "code",
   "execution_count": 67,
   "metadata": {},
   "outputs": [
    {
     "data": {
      "text/plain": [
       "0        2012-10-01 00:00:00.000000000\n",
       "1        2012-10-02 07:48:22.223696400\n",
       "2        2012-10-03 15:36:44.447396400\n",
       "3        2012-10-04 23:25:06.671092800\n",
       "4        2012-10-06 07:13:28.894789200\n",
       "                      ...             \n",
       "450835   2023-12-27 15:06:16.619065200\n",
       "450836   2023-12-30 08:39:51.232147200\n",
       "450837   2023-12-30 21:46:34.154767200\n",
       "450838   2023-12-31 10:53:17.077383600\n",
       "450839   2024-01-01 00:00:00.000000000\n",
       "Name: date, Length: 450840, dtype: datetime64[ns]"
      ]
     },
     "execution_count": 67,
     "metadata": {},
     "output_type": "execute_result"
    }
   ],
   "source": [
    "pd.to_datetime(price_history_csv['date'])"
   ]
  },
  {
   "cell_type": "code",
   "execution_count": 71,
   "metadata": {},
   "outputs": [
    {
     "data": {
      "text/html": [
       "<div>\n",
       "<style scoped>\n",
       "    .dataframe tbody tr th:only-of-type {\n",
       "        vertical-align: middle;\n",
       "    }\n",
       "\n",
       "    .dataframe tbody tr th {\n",
       "        vertical-align: top;\n",
       "    }\n",
       "\n",
       "    .dataframe thead th {\n",
       "        text-align: right;\n",
       "    }\n",
       "</style>\n",
       "<table border=\"1\" class=\"dataframe\">\n",
       "  <thead>\n",
       "    <tr style=\"text-align: right;\">\n",
       "      <th></th>\n",
       "      <th>trusted</th>\n",
       "      <th>price</th>\n",
       "      <th>date</th>\n",
       "      <th>sku</th>\n",
       "      <th>country</th>\n",
       "      <th>unit</th>\n",
       "      <th>seller</th>\n",
       "    </tr>\n",
       "  </thead>\n",
       "  <tbody>\n",
       "    <tr>\n",
       "      <th>125060</th>\n",
       "      <td>1.0</td>\n",
       "      <td>29.898911</td>\n",
       "      <td>2017-11-01 00:00:00</td>\n",
       "      <td>B019H693FA</td>\n",
       "      <td>France</td>\n",
       "      <td>€</td>\n",
       "      <td>new</td>\n",
       "    </tr>\n",
       "    <tr>\n",
       "      <th>125061</th>\n",
       "      <td>1.0</td>\n",
       "      <td>29.898911</td>\n",
       "      <td>2017-11-01 17:51:35.027989200</td>\n",
       "      <td>B019H693FA</td>\n",
       "      <td>France</td>\n",
       "      <td>€</td>\n",
       "      <td>new</td>\n",
       "    </tr>\n",
       "    <tr>\n",
       "      <th>125062</th>\n",
       "      <td>1.0</td>\n",
       "      <td>29.898911</td>\n",
       "      <td>2017-11-02 11:43:10.055974800</td>\n",
       "      <td>B019H693FA</td>\n",
       "      <td>France</td>\n",
       "      <td>€</td>\n",
       "      <td>new</td>\n",
       "    </tr>\n",
       "    <tr>\n",
       "      <th>125063</th>\n",
       "      <td>1.0</td>\n",
       "      <td>29.898911</td>\n",
       "      <td>2017-11-03 05:34:45.083964</td>\n",
       "      <td>B019H693FA</td>\n",
       "      <td>France</td>\n",
       "      <td>€</td>\n",
       "      <td>new</td>\n",
       "    </tr>\n",
       "    <tr>\n",
       "      <th>125064</th>\n",
       "      <td>1.0</td>\n",
       "      <td>28.936507</td>\n",
       "      <td>2017-11-03 23:26:20.111953200</td>\n",
       "      <td>B019H693FA</td>\n",
       "      <td>France</td>\n",
       "      <td>€</td>\n",
       "      <td>new</td>\n",
       "    </tr>\n",
       "    <tr>\n",
       "      <th>...</th>\n",
       "      <td>...</td>\n",
       "      <td>...</td>\n",
       "      <td>...</td>\n",
       "      <td>...</td>\n",
       "      <td>...</td>\n",
       "      <td>...</td>\n",
       "      <td>...</td>\n",
       "    </tr>\n",
       "    <tr>\n",
       "      <th>192243</th>\n",
       "      <td>1.0</td>\n",
       "      <td>13.969152</td>\n",
       "      <td>2023-08-28 11:45:32.301612</td>\n",
       "      <td>B073YQ5KSX</td>\n",
       "      <td>France</td>\n",
       "      <td>€</td>\n",
       "      <td>new</td>\n",
       "    </tr>\n",
       "    <tr>\n",
       "      <th>192244</th>\n",
       "      <td>1.0</td>\n",
       "      <td>13.969152</td>\n",
       "      <td>2023-08-29 02:40:15.805070400</td>\n",
       "      <td>B073YQ5KSX</td>\n",
       "      <td>France</td>\n",
       "      <td>€</td>\n",
       "      <td>new</td>\n",
       "    </tr>\n",
       "    <tr>\n",
       "      <th>192245</th>\n",
       "      <td>1.0</td>\n",
       "      <td>13.969152</td>\n",
       "      <td>2023-08-29 17:34:59.308528800</td>\n",
       "      <td>B073YQ5KSX</td>\n",
       "      <td>France</td>\n",
       "      <td>€</td>\n",
       "      <td>new</td>\n",
       "    </tr>\n",
       "    <tr>\n",
       "      <th>192246</th>\n",
       "      <td>1.0</td>\n",
       "      <td>13.969152</td>\n",
       "      <td>2023-08-30 08:29:42.811987200</td>\n",
       "      <td>B073YQ5KSX</td>\n",
       "      <td>France</td>\n",
       "      <td>€</td>\n",
       "      <td>new</td>\n",
       "    </tr>\n",
       "    <tr>\n",
       "      <th>192247</th>\n",
       "      <td>1.0</td>\n",
       "      <td>13.969152</td>\n",
       "      <td>2023-08-30 23:24:26.315442</td>\n",
       "      <td>B073YQ5KSX</td>\n",
       "      <td>France</td>\n",
       "      <td>€</td>\n",
       "      <td>new</td>\n",
       "    </tr>\n",
       "  </tbody>\n",
       "</table>\n",
       "<p>5706 rows × 7 columns</p>\n",
       "</div>"
      ],
      "text/plain": [
       "       trusted      price                           date         sku country  \\\n",
       "125060     1.0  29.898911            2017-11-01 00:00:00  B019H693FA  France   \n",
       "125061     1.0  29.898911  2017-11-01 17:51:35.027989200  B019H693FA  France   \n",
       "125062     1.0  29.898911  2017-11-02 11:43:10.055974800  B019H693FA  France   \n",
       "125063     1.0  29.898911     2017-11-03 05:34:45.083964  B019H693FA  France   \n",
       "125064     1.0  28.936507  2017-11-03 23:26:20.111953200  B019H693FA  France   \n",
       "...        ...        ...                            ...         ...     ...   \n",
       "192243     1.0  13.969152     2023-08-28 11:45:32.301612  B073YQ5KSX  France   \n",
       "192244     1.0  13.969152  2023-08-29 02:40:15.805070400  B073YQ5KSX  France   \n",
       "192245     1.0  13.969152  2023-08-29 17:34:59.308528800  B073YQ5KSX  France   \n",
       "192246     1.0  13.969152  2023-08-30 08:29:42.811987200  B073YQ5KSX  France   \n",
       "192247     1.0  13.969152     2023-08-30 23:24:26.315442  B073YQ5KSX  France   \n",
       "\n",
       "       unit seller  \n",
       "125060    €    new  \n",
       "125061    €    new  \n",
       "125062    €    new  \n",
       "125063    €    new  \n",
       "125064    €    new  \n",
       "...     ...    ...  \n",
       "192243    €    new  \n",
       "192244    €    new  \n",
       "192245    €    new  \n",
       "192246    €    new  \n",
       "192247    €    new  \n",
       "\n",
       "[5706 rows x 7 columns]"
      ]
     },
     "execution_count": 71,
     "metadata": {},
     "output_type": "execute_result"
    }
   ],
   "source": [
    "price_history_csv[price_history_csv['trusted'] == '1.0']"
   ]
  },
  {
   "cell_type": "code",
   "execution_count": 68,
   "metadata": {},
   "outputs": [
    {
     "ename": "ValueError",
     "evalue": "cannot safely convert passed user dtype of bool for object dtyped data in column 0",
     "output_type": "error",
     "traceback": [
      "\u001b[0;31m---------------------------------------------------------------------------\u001b[0m",
      "\u001b[0;31mTypeError\u001b[0m                                 Traceback (most recent call last)",
      "\u001b[0;32m~/.pyenv/versions/3.7.7/envs/lewagon-data/lib/python3.7/site-packages/pandas/_libs/parsers.pyx\u001b[0m in \u001b[0;36mpandas._libs.parsers.TextReader._convert_tokens\u001b[0;34m()\u001b[0m\n",
      "\u001b[0;31mTypeError\u001b[0m: Cannot cast array from dtype('O') to dtype('bool') according to the rule 'safe'",
      "\nDuring handling of the above exception, another exception occurred:\n",
      "\u001b[0;31mValueError\u001b[0m                                Traceback (most recent call last)",
      "\u001b[0;32m<ipython-input-68-f00f6215a318>\u001b[0m in \u001b[0;36m<module>\u001b[0;34m\u001b[0m\n\u001b[1;32m      2\u001b[0m     \u001b[0mpath_to_price_history_csv\u001b[0m\u001b[0;34m,\u001b[0m\u001b[0;34m\u001b[0m\u001b[0;34m\u001b[0m\u001b[0m\n\u001b[1;32m      3\u001b[0m     \u001b[0mdtype\u001b[0m\u001b[0;34m=\u001b[0m\u001b[0;34m{\u001b[0m\u001b[0;34m\"trusted\"\u001b[0m\u001b[0;34m:\u001b[0m \u001b[0mbool\u001b[0m\u001b[0;34m,\u001b[0m \u001b[0;34m\"price\"\u001b[0m\u001b[0;34m:\u001b[0m \u001b[0mfloat\u001b[0m\u001b[0;34m,\u001b[0m \u001b[0;34m\"date\"\u001b[0m\u001b[0;34m:\u001b[0m \u001b[0mstr\u001b[0m\u001b[0;34m,\u001b[0m \u001b[0;34m\"sku\"\u001b[0m\u001b[0;34m:\u001b[0m \u001b[0mstr\u001b[0m\u001b[0;34m,\u001b[0m \u001b[0;34m\"country\"\u001b[0m\u001b[0;34m:\u001b[0m \u001b[0mstr\u001b[0m\u001b[0;34m,\u001b[0m \u001b[0;34m\"seller\"\u001b[0m\u001b[0;34m:\u001b[0m \u001b[0mstr\u001b[0m\u001b[0;34m}\u001b[0m\u001b[0;34m,\u001b[0m\u001b[0;34m\u001b[0m\u001b[0;34m\u001b[0m\u001b[0m\n\u001b[0;32m----> 4\u001b[0;31m     \u001b[0mparse_dates\u001b[0m\u001b[0;34m=\u001b[0m\u001b[0;34m[\u001b[0m\u001b[0;34m'date'\u001b[0m\u001b[0;34m]\u001b[0m\u001b[0;34m\u001b[0m\u001b[0;34m\u001b[0m\u001b[0m\n\u001b[0m\u001b[1;32m      5\u001b[0m )\n\u001b[1;32m      6\u001b[0m price_history_csv[\n",
      "\u001b[0;32m~/.pyenv/versions/3.7.7/envs/lewagon-data/lib/python3.7/site-packages/pandas/util/_decorators.py\u001b[0m in \u001b[0;36mwrapper\u001b[0;34m(*args, **kwargs)\u001b[0m\n\u001b[1;32m    309\u001b[0m                     \u001b[0mstacklevel\u001b[0m\u001b[0;34m=\u001b[0m\u001b[0mstacklevel\u001b[0m\u001b[0;34m,\u001b[0m\u001b[0;34m\u001b[0m\u001b[0;34m\u001b[0m\u001b[0m\n\u001b[1;32m    310\u001b[0m                 )\n\u001b[0;32m--> 311\u001b[0;31m             \u001b[0;32mreturn\u001b[0m \u001b[0mfunc\u001b[0m\u001b[0;34m(\u001b[0m\u001b[0;34m*\u001b[0m\u001b[0margs\u001b[0m\u001b[0;34m,\u001b[0m \u001b[0;34m**\u001b[0m\u001b[0mkwargs\u001b[0m\u001b[0;34m)\u001b[0m\u001b[0;34m\u001b[0m\u001b[0;34m\u001b[0m\u001b[0m\n\u001b[0m\u001b[1;32m    312\u001b[0m \u001b[0;34m\u001b[0m\u001b[0m\n\u001b[1;32m    313\u001b[0m         \u001b[0;32mreturn\u001b[0m \u001b[0mwrapper\u001b[0m\u001b[0;34m\u001b[0m\u001b[0;34m\u001b[0m\u001b[0m\n",
      "\u001b[0;32m~/.pyenv/versions/3.7.7/envs/lewagon-data/lib/python3.7/site-packages/pandas/io/parsers/readers.py\u001b[0m in \u001b[0;36mread_csv\u001b[0;34m(filepath_or_buffer, sep, delimiter, header, names, index_col, usecols, squeeze, prefix, mangle_dupe_cols, dtype, engine, converters, true_values, false_values, skipinitialspace, skiprows, skipfooter, nrows, na_values, keep_default_na, na_filter, verbose, skip_blank_lines, parse_dates, infer_datetime_format, keep_date_col, date_parser, dayfirst, cache_dates, iterator, chunksize, compression, thousands, decimal, lineterminator, quotechar, quoting, doublequote, escapechar, comment, encoding, encoding_errors, dialect, error_bad_lines, warn_bad_lines, on_bad_lines, delim_whitespace, low_memory, memory_map, float_precision, storage_options)\u001b[0m\n\u001b[1;32m    584\u001b[0m     \u001b[0mkwds\u001b[0m\u001b[0;34m.\u001b[0m\u001b[0mupdate\u001b[0m\u001b[0;34m(\u001b[0m\u001b[0mkwds_defaults\u001b[0m\u001b[0;34m)\u001b[0m\u001b[0;34m\u001b[0m\u001b[0;34m\u001b[0m\u001b[0m\n\u001b[1;32m    585\u001b[0m \u001b[0;34m\u001b[0m\u001b[0m\n\u001b[0;32m--> 586\u001b[0;31m     \u001b[0;32mreturn\u001b[0m \u001b[0m_read\u001b[0m\u001b[0;34m(\u001b[0m\u001b[0mfilepath_or_buffer\u001b[0m\u001b[0;34m,\u001b[0m \u001b[0mkwds\u001b[0m\u001b[0;34m)\u001b[0m\u001b[0;34m\u001b[0m\u001b[0;34m\u001b[0m\u001b[0m\n\u001b[0m\u001b[1;32m    587\u001b[0m \u001b[0;34m\u001b[0m\u001b[0m\n\u001b[1;32m    588\u001b[0m \u001b[0;34m\u001b[0m\u001b[0m\n",
      "\u001b[0;32m~/.pyenv/versions/3.7.7/envs/lewagon-data/lib/python3.7/site-packages/pandas/io/parsers/readers.py\u001b[0m in \u001b[0;36m_read\u001b[0;34m(filepath_or_buffer, kwds)\u001b[0m\n\u001b[1;32m    486\u001b[0m \u001b[0;34m\u001b[0m\u001b[0m\n\u001b[1;32m    487\u001b[0m     \u001b[0;32mwith\u001b[0m \u001b[0mparser\u001b[0m\u001b[0;34m:\u001b[0m\u001b[0;34m\u001b[0m\u001b[0;34m\u001b[0m\u001b[0m\n\u001b[0;32m--> 488\u001b[0;31m         \u001b[0;32mreturn\u001b[0m \u001b[0mparser\u001b[0m\u001b[0;34m.\u001b[0m\u001b[0mread\u001b[0m\u001b[0;34m(\u001b[0m\u001b[0mnrows\u001b[0m\u001b[0;34m)\u001b[0m\u001b[0;34m\u001b[0m\u001b[0;34m\u001b[0m\u001b[0m\n\u001b[0m\u001b[1;32m    489\u001b[0m \u001b[0;34m\u001b[0m\u001b[0m\n\u001b[1;32m    490\u001b[0m \u001b[0;34m\u001b[0m\u001b[0m\n",
      "\u001b[0;32m~/.pyenv/versions/3.7.7/envs/lewagon-data/lib/python3.7/site-packages/pandas/io/parsers/readers.py\u001b[0m in \u001b[0;36mread\u001b[0;34m(self, nrows)\u001b[0m\n\u001b[1;32m   1045\u001b[0m     \u001b[0;32mdef\u001b[0m \u001b[0mread\u001b[0m\u001b[0;34m(\u001b[0m\u001b[0mself\u001b[0m\u001b[0;34m,\u001b[0m \u001b[0mnrows\u001b[0m\u001b[0;34m=\u001b[0m\u001b[0;32mNone\u001b[0m\u001b[0;34m)\u001b[0m\u001b[0;34m:\u001b[0m\u001b[0;34m\u001b[0m\u001b[0;34m\u001b[0m\u001b[0m\n\u001b[1;32m   1046\u001b[0m         \u001b[0mnrows\u001b[0m \u001b[0;34m=\u001b[0m \u001b[0mvalidate_integer\u001b[0m\u001b[0;34m(\u001b[0m\u001b[0;34m\"nrows\"\u001b[0m\u001b[0;34m,\u001b[0m \u001b[0mnrows\u001b[0m\u001b[0;34m)\u001b[0m\u001b[0;34m\u001b[0m\u001b[0;34m\u001b[0m\u001b[0m\n\u001b[0;32m-> 1047\u001b[0;31m         \u001b[0mindex\u001b[0m\u001b[0;34m,\u001b[0m \u001b[0mcolumns\u001b[0m\u001b[0;34m,\u001b[0m \u001b[0mcol_dict\u001b[0m \u001b[0;34m=\u001b[0m \u001b[0mself\u001b[0m\u001b[0;34m.\u001b[0m\u001b[0m_engine\u001b[0m\u001b[0;34m.\u001b[0m\u001b[0mread\u001b[0m\u001b[0;34m(\u001b[0m\u001b[0mnrows\u001b[0m\u001b[0;34m)\u001b[0m\u001b[0;34m\u001b[0m\u001b[0;34m\u001b[0m\u001b[0m\n\u001b[0m\u001b[1;32m   1048\u001b[0m \u001b[0;34m\u001b[0m\u001b[0m\n\u001b[1;32m   1049\u001b[0m         \u001b[0;32mif\u001b[0m \u001b[0mindex\u001b[0m \u001b[0;32mis\u001b[0m \u001b[0;32mNone\u001b[0m\u001b[0;34m:\u001b[0m\u001b[0;34m\u001b[0m\u001b[0;34m\u001b[0m\u001b[0m\n",
      "\u001b[0;32m~/.pyenv/versions/3.7.7/envs/lewagon-data/lib/python3.7/site-packages/pandas/io/parsers/c_parser_wrapper.py\u001b[0m in \u001b[0;36mread\u001b[0;34m(self, nrows)\u001b[0m\n\u001b[1;32m    222\u001b[0m         \u001b[0;32mtry\u001b[0m\u001b[0;34m:\u001b[0m\u001b[0;34m\u001b[0m\u001b[0;34m\u001b[0m\u001b[0m\n\u001b[1;32m    223\u001b[0m             \u001b[0;32mif\u001b[0m \u001b[0mself\u001b[0m\u001b[0;34m.\u001b[0m\u001b[0mlow_memory\u001b[0m\u001b[0;34m:\u001b[0m\u001b[0;34m\u001b[0m\u001b[0;34m\u001b[0m\u001b[0m\n\u001b[0;32m--> 224\u001b[0;31m                 \u001b[0mchunks\u001b[0m \u001b[0;34m=\u001b[0m \u001b[0mself\u001b[0m\u001b[0;34m.\u001b[0m\u001b[0m_reader\u001b[0m\u001b[0;34m.\u001b[0m\u001b[0mread_low_memory\u001b[0m\u001b[0;34m(\u001b[0m\u001b[0mnrows\u001b[0m\u001b[0;34m)\u001b[0m\u001b[0;34m\u001b[0m\u001b[0;34m\u001b[0m\u001b[0m\n\u001b[0m\u001b[1;32m    225\u001b[0m                 \u001b[0;31m# destructive to chunks\u001b[0m\u001b[0;34m\u001b[0m\u001b[0;34m\u001b[0m\u001b[0;34m\u001b[0m\u001b[0m\n\u001b[1;32m    226\u001b[0m                 \u001b[0mdata\u001b[0m \u001b[0;34m=\u001b[0m \u001b[0m_concatenate_chunks\u001b[0m\u001b[0;34m(\u001b[0m\u001b[0mchunks\u001b[0m\u001b[0;34m)\u001b[0m\u001b[0;34m\u001b[0m\u001b[0;34m\u001b[0m\u001b[0m\n",
      "\u001b[0;32m~/.pyenv/versions/3.7.7/envs/lewagon-data/lib/python3.7/site-packages/pandas/_libs/parsers.pyx\u001b[0m in \u001b[0;36mpandas._libs.parsers.TextReader.read_low_memory\u001b[0;34m()\u001b[0m\n",
      "\u001b[0;32m~/.pyenv/versions/3.7.7/envs/lewagon-data/lib/python3.7/site-packages/pandas/_libs/parsers.pyx\u001b[0m in \u001b[0;36mpandas._libs.parsers.TextReader._read_rows\u001b[0;34m()\u001b[0m\n",
      "\u001b[0;32m~/.pyenv/versions/3.7.7/envs/lewagon-data/lib/python3.7/site-packages/pandas/_libs/parsers.pyx\u001b[0m in \u001b[0;36mpandas._libs.parsers.TextReader._convert_column_data\u001b[0;34m()\u001b[0m\n",
      "\u001b[0;32m~/.pyenv/versions/3.7.7/envs/lewagon-data/lib/python3.7/site-packages/pandas/_libs/parsers.pyx\u001b[0m in \u001b[0;36mpandas._libs.parsers.TextReader._convert_tokens\u001b[0;34m()\u001b[0m\n",
      "\u001b[0;31mValueError\u001b[0m: cannot safely convert passed user dtype of bool for object dtyped data in column 0"
     ]
    }
   ],
   "source": [
    "price_history_csv = pd.read_csv(\n",
    "    path_to_price_history_csv,\n",
    "    dtype={\"trusted\": bool, \"price\": float, \"date\": str, \"sku\": str, \"country\": str, \"seller\": str},\n",
    "    parse_dates=['date']\n",
    ")\n",
    "price_history_csv[\n",
    "    np.logical_and(\n",
    "        price_history_csv['country'] == collector.country,\n",
    "        np.logical_and(\n",
    "            price_history_csv['sku'] == collector.sku_reference,\n",
    "            price_history_csv['seller'] == \"amazon\"\n",
    "        )\n",
    "    )\n",
    "]"
   ]
  },
  {
   "cell_type": "code",
   "execution_count": 64,
   "metadata": {},
   "outputs": [
    {
     "data": {
      "text/plain": [
       "trusted     object\n",
       "price      float64\n",
       "date        object\n",
       "sku         object\n",
       "country     object\n",
       "unit        object\n",
       "seller      object\n",
       "dtype: object"
      ]
     },
     "execution_count": 64,
     "metadata": {},
     "output_type": "execute_result"
    }
   ],
   "source": [
    "price_history_csv.dtypes"
   ]
  },
  {
   "cell_type": "code",
   "execution_count": 14,
   "metadata": {},
   "outputs": [
    {
     "name": "stderr",
     "output_type": "stream",
     "text": [
      "/Users/Paul-Emmanuel/.pyenv/versions/3.7.7/envs/lewagon-data/lib/python3.7/site-packages/dst_incidence/amazon_prices.py:226: RuntimeWarning: Mean of empty slice.\n",
      "  avg_y_coord = img_array.shape[0] - y_coords.mean()\n",
      "/Users/Paul-Emmanuel/.pyenv/versions/3.7.7/envs/lewagon-data/lib/python3.7/site-packages/numpy/core/_methods.py:161: RuntimeWarning: invalid value encountered in double_scalars\n",
      "  ret = ret.dtype.type(ret / rcount)\n"
     ]
    }
   ],
   "source": [
    "collector.fetch_product_information()\n",
    "\n",
    "collector.build_price_history_from_charts()\n",
    "collector.get_start_end_dates_from_charts()\n",
    "collector.get_end_date_from_price_history_summary()\n",
    "collector.convert_coordinates_to_timestamps()\n",
    "\n",
    "collector.format_price_histories()\n",
    "collector.format_price_history_summary()\n",
    "collector.format_product_data()\n",
    "collector.build_collection_metadata()"
   ]
  },
  {
   "cell_type": "code",
   "execution_count": 15,
   "metadata": {},
   "outputs": [
    {
     "data": {
      "text/html": [
       "<div>\n",
       "<style scoped>\n",
       "    .dataframe tbody tr th:only-of-type {\n",
       "        vertical-align: middle;\n",
       "    }\n",
       "\n",
       "    .dataframe tbody tr th {\n",
       "        vertical-align: top;\n",
       "    }\n",
       "\n",
       "    .dataframe thead th {\n",
       "        text-align: right;\n",
       "    }\n",
       "</style>\n",
       "<table border=\"1\" class=\"dataframe\">\n",
       "  <thead>\n",
       "    <tr style=\"text-align: right;\">\n",
       "      <th></th>\n",
       "      <th>sku</th>\n",
       "      <th>country</th>\n",
       "      <th>unit</th>\n",
       "      <th>seller</th>\n",
       "      <th>min_price</th>\n",
       "      <th>min_price_date</th>\n",
       "      <th>max_price</th>\n",
       "      <th>max_price_date</th>\n",
       "      <th>current_price</th>\n",
       "      <th>current_price_date</th>\n",
       "      <th>average_price</th>\n",
       "    </tr>\n",
       "  </thead>\n",
       "  <tbody>\n",
       "    <tr>\n",
       "      <th>0</th>\n",
       "      <td>B0000C73CQ</td>\n",
       "      <td>France</td>\n",
       "      <td>€</td>\n",
       "      <td>amazon</td>\n",
       "      <td>10.99</td>\n",
       "      <td>2019-03-29</td>\n",
       "      <td>126.94</td>\n",
       "      <td>2012-09-27</td>\n",
       "      <td>16.90</td>\n",
       "      <td>2023-09-07</td>\n",
       "      <td>16.22</td>\n",
       "    </tr>\n",
       "    <tr>\n",
       "      <th>1</th>\n",
       "      <td>B0000C73CQ</td>\n",
       "      <td>France</td>\n",
       "      <td>€</td>\n",
       "      <td>new</td>\n",
       "      <td>1.99</td>\n",
       "      <td>2013-05-31</td>\n",
       "      <td>29.07</td>\n",
       "      <td>2023-06-07</td>\n",
       "      <td>NaN</td>\n",
       "      <td>NaT</td>\n",
       "      <td>16.54</td>\n",
       "    </tr>\n",
       "    <tr>\n",
       "      <th>2</th>\n",
       "      <td>B0000C73CQ</td>\n",
       "      <td>France</td>\n",
       "      <td>€</td>\n",
       "      <td>used</td>\n",
       "      <td>8.90</td>\n",
       "      <td>2019-10-09</td>\n",
       "      <td>68.03</td>\n",
       "      <td>2017-05-08</td>\n",
       "      <td>16.56</td>\n",
       "      <td>2024-01-16</td>\n",
       "      <td>16.63</td>\n",
       "    </tr>\n",
       "  </tbody>\n",
       "</table>\n",
       "</div>"
      ],
      "text/plain": [
       "          sku country unit  seller  min_price min_price_date  max_price  \\\n",
       "0  B0000C73CQ  France    €  amazon      10.99     2019-03-29     126.94   \n",
       "1  B0000C73CQ  France    €     new       1.99     2013-05-31      29.07   \n",
       "2  B0000C73CQ  France    €    used       8.90     2019-10-09      68.03   \n",
       "\n",
       "  max_price_date  current_price current_price_date  average_price  \n",
       "0     2012-09-27          16.90         2023-09-07          16.22  \n",
       "1     2023-06-07            NaN                NaT          16.54  \n",
       "2     2017-05-08          16.56         2024-01-16          16.63  "
      ]
     },
     "execution_count": 15,
     "metadata": {},
     "output_type": "execute_result"
    }
   ],
   "source": [
    "collector.price_history_summary # ['first_date']"
   ]
  },
  {
   "cell_type": "code",
   "execution_count": 16,
   "metadata": {},
   "outputs": [
    {
     "data": {
      "text/plain": [
       "{'amazon':           price                          date         sku country unit  seller\n",
       " 0           NaN 2013-10-01 00:00:00.000000000  B0000C73CQ  France    €  amazon\n",
       " 1           NaN 2013-10-02 05:57:46.207846800  B0000C73CQ  France    €  amazon\n",
       " 2     80.938098 2013-10-03 11:55:32.415690000  B0000C73CQ  France    €  amazon\n",
       " 3     80.938098 2013-10-04 17:53:18.623536800  B0000C73CQ  France    €  amazon\n",
       " 4     80.880810 2013-10-05 23:51:04.831383600  B0000C73CQ  France    €  amazon\n",
       " ...         ...                           ...         ...     ...  ...     ...\n",
       " 2901  16.947905 2024-01-16 02:05:51.823813200  B0000C73CQ  France    €  amazon\n",
       " 2902  16.947905 2024-01-17 08:03:38.031660000  B0000C73CQ  France    €  amazon\n",
       " 2903  16.947905 2024-01-18 14:01:24.239503200  B0000C73CQ  France    €  amazon\n",
       " 2904  16.947905 2024-01-19 19:59:10.447350000  B0000C73CQ  France    €  amazon\n",
       " 2905  16.947905 2024-01-21 01:56:56.655196800  B0000C73CQ  France    €  amazon\n",
       " \n",
       " [2906 rows x 6 columns]}"
      ]
     },
     "execution_count": 16,
     "metadata": {},
     "output_type": "execute_result"
    }
   ],
   "source": [
    "collector.price_histories"
   ]
  },
  {
   "cell_type": "code",
   "execution_count": 17,
   "metadata": {},
   "outputs": [
    {
     "data": {
      "text/plain": [
       "{'amazon': {}}"
      ]
     },
     "execution_count": 17,
     "metadata": {},
     "output_type": "execute_result"
    }
   ],
   "source": [
    "collector.sellers"
   ]
  },
  {
   "cell_type": "code",
   "execution_count": null,
   "metadata": {},
   "outputs": [],
   "source": []
  }
 ],
 "metadata": {
  "kernelspec": {
   "display_name": "Python 3",
   "language": "python",
   "name": "python3"
  },
  "language_info": {
   "codemirror_mode": {
    "name": "ipython",
    "version": 3
   },
   "file_extension": ".py",
   "mimetype": "text/x-python",
   "name": "python",
   "nbconvert_exporter": "python",
   "pygments_lexer": "ipython3",
   "version": "3.7.7"
  },
  "toc": {
   "base_numbering": 1,
   "nav_menu": {},
   "number_sections": false,
   "sideBar": true,
   "skip_h1_title": false,
   "title_cell": "Table of Contents",
   "title_sidebar": "Contents",
   "toc_cell": false,
   "toc_position": {},
   "toc_section_display": true,
   "toc_window_display": false
  }
 },
 "nbformat": 4,
 "nbformat_minor": 4
}
