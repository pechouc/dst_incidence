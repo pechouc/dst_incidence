{
 "cells": [
  {
   "cell_type": "markdown",
   "metadata": {},
   "source": [
    "# Amazon's marketplace fees"
   ]
  },
  {
   "cell_type": "markdown",
   "metadata": {},
   "source": [
    "This notebook serves as a Proof of Concept (PoC) for the collection of Amazon's history of marketplace fees (`commissions` henceforth)."
   ]
  },
  {
   "cell_type": "markdown",
   "metadata": {},
   "source": [
    "## Housekeeping"
   ]
  },
  {
   "cell_type": "markdown",
   "metadata": {},
   "source": [
    "Useful imports."
   ]
  },
  {
   "cell_type": "code",
   "execution_count": 1,
   "metadata": {},
   "outputs": [],
   "source": [
    "import numpy as np\n",
    "import pandas as pd\n",
    "\n",
    "import requests\n",
    "from bs4 import BeautifulSoup\n",
    "\n",
    "import re\n",
    "\n",
    "import time\n",
    "import random"
   ]
  },
  {
   "cell_type": "markdown",
   "metadata": {},
   "source": [
    "Target URL in the case of France."
   ]
  },
  {
   "cell_type": "code",
   "execution_count": 2,
   "metadata": {},
   "outputs": [],
   "source": [
    "target_url = \"services.amazon.fr/services/vendre-sur-internet/tarifs.html\""
   ]
  },
  {
   "cell_type": "markdown",
   "metadata": {},
   "source": [
    "Link currently redirects to [this page](https://sell.amazon.fr/vendre-sur-internet?ref_=asfr_soa_rd&)."
   ]
  },
  {
   "cell_type": "markdown",
   "metadata": {},
   "source": [
    "Root of the URL used to get the content of the Wayback Machine:"
   ]
  },
  {
   "cell_type": "code",
   "execution_count": 3,
   "metadata": {},
   "outputs": [],
   "source": [
    "wayback_machine_url_root = 'https://web.archive.org/web/'"
   ]
  },
  {
   "cell_type": "markdown",
   "metadata": {},
   "source": [
    "## Code"
   ]
  },
  {
   "cell_type": "markdown",
   "metadata": {},
   "source": [
    "### First call to the Wayback Machine"
   ]
  },
  {
   "cell_type": "markdown",
   "metadata": {},
   "source": [
    "This first call to the Wayback Machine's API allows to identify all the points in time when the page was saved."
   ]
  },
  {
   "cell_type": "code",
   "execution_count": 4,
   "metadata": {},
   "outputs": [],
   "source": [
    "api_call = f\"http://web.archive.org/cdx/search/cdx?url={target_url}&output=json\""
   ]
  },
  {
   "cell_type": "code",
   "execution_count": 5,
   "metadata": {},
   "outputs": [],
   "source": [
    "response = requests.get(api_call)\n",
    "resp_json = response.json()"
   ]
  },
  {
   "cell_type": "code",
   "execution_count": 6,
   "metadata": {},
   "outputs": [
    {
     "name": "stdout",
     "output_type": "stream",
     "text": [
      "<class 'list'>\n",
      "218\n"
     ]
    }
   ],
   "source": [
    "print(type(resp_json))\n",
    "print(len(resp_json))"
   ]
  },
  {
   "cell_type": "markdown",
   "metadata": {},
   "source": [
    "The call returns a list of 218 elements. The first one provides information about the format of the response:"
   ]
  },
  {
   "cell_type": "code",
   "execution_count": 7,
   "metadata": {},
   "outputs": [
    {
     "data": {
      "text/plain": [
       "['urlkey',\n",
       " 'timestamp',\n",
       " 'original',\n",
       " 'mimetype',\n",
       " 'statuscode',\n",
       " 'digest',\n",
       " 'length']"
      ]
     },
     "execution_count": 7,
     "metadata": {},
     "output_type": "execute_result"
    }
   ],
   "source": [
    "resp_json[0]"
   ]
  },
  {
   "cell_type": "markdown",
   "metadata": {},
   "source": [
    "And then, a typical element follows this structure:"
   ]
  },
  {
   "cell_type": "code",
   "execution_count": 8,
   "metadata": {},
   "outputs": [
    {
     "data": {
      "text/plain": [
       "['fr,amazon,services)/services/vendre-sur-internet/tarifs.html',\n",
       " '20130112023435',\n",
       " 'http://services.amazon.fr:80/services/vendre-sur-internet/tarifs.html',\n",
       " 'text/html',\n",
       " '200',\n",
       " 'XMS2W6WAQPIPXLOAJDRJ63YS6LB3AWOL',\n",
       " '7354']"
      ]
     },
     "execution_count": 8,
     "metadata": {},
     "output_type": "execute_result"
    }
   ],
   "source": [
    "resp_json[1]"
   ]
  },
  {
   "cell_type": "markdown",
   "metadata": {},
   "source": [
    "### Deducing a list of secondary API calls"
   ]
  },
  {
   "cell_type": "markdown",
   "metadata": {},
   "source": [
    "We will then fetch the content of the page for each time stamp at which it was saved in the Wayback Machine."
   ]
  },
  {
   "cell_type": "code",
   "execution_count": 9,
   "metadata": {},
   "outputs": [],
   "source": [
    "url_dict = {'timestamp': [], 'url': []}\n",
    "\n",
    "# The range skips the first element of the response, which only provides the structure of the response\n",
    "for i in range(1, len(resp_json)):\n",
    "    \n",
    "    orig_url = resp_json[i][2]\n",
    "    tstamp = resp_json[i][1]\n",
    "    \n",
    "    waylink = tstamp + '/' + orig_url\n",
    "    \n",
    "    url_dict['timestamp'].append(tstamp)\n",
    "    url_dict['url'].append(waylink)"
   ]
  },
  {
   "cell_type": "code",
   "execution_count": 10,
   "metadata": {},
   "outputs": [
    {
     "name": "stdout",
     "output_type": "stream",
     "text": [
      "Number of pages saved in the Wayback Machine: 217\n",
      "Example of the first URL: 20130112023435/http://services.amazon.fr:80/services/vendre-sur-internet/tarifs.html\n"
     ]
    }
   ],
   "source": [
    "print('Number of pages saved in the Wayback Machine:', len(url_dict['url']))\n",
    "print('Example of the first URL:', url_dict['url'][0])"
   ]
  },
  {
   "cell_type": "markdown",
   "metadata": {},
   "source": [
    "### Parsing the content of the first version saved"
   ]
  },
  {
   "cell_type": "markdown",
   "metadata": {},
   "source": [
    "One may get an idea of the type of page whose content we are going to load:"
   ]
  },
  {
   "cell_type": "code",
   "execution_count": 11,
   "metadata": {},
   "outputs": [],
   "source": [
    "final_url = wayback_machine_url_root + url_dict['url'][0]"
   ]
  },
  {
   "cell_type": "code",
   "execution_count": 12,
   "metadata": {},
   "outputs": [
    {
     "name": "stdout",
     "output_type": "stream",
     "text": [
      "https://web.archive.org/web/20130112023435/http://services.amazon.fr:80/services/vendre-sur-internet/tarifs.html\n"
     ]
    }
   ],
   "source": [
    "print(final_url)"
   ]
  },
  {
   "cell_type": "markdown",
   "metadata": {},
   "source": [
    "We load the page and parse the HTML content."
   ]
  },
  {
   "cell_type": "code",
   "execution_count": 13,
   "metadata": {},
   "outputs": [],
   "source": [
    "response = requests.get(final_url)"
   ]
  },
  {
   "cell_type": "code",
   "execution_count": 14,
   "metadata": {},
   "outputs": [],
   "source": [
    "soup = BeautifulSoup(response.text, \"html.parser\")"
   ]
  },
  {
   "cell_type": "markdown",
   "metadata": {},
   "source": [
    "We retrieve the main table of commissions."
   ]
  },
  {
   "cell_type": "code",
   "execution_count": 15,
   "metadata": {},
   "outputs": [
    {
     "data": {
      "text/html": [
       "<div>\n",
       "<style scoped>\n",
       "    .dataframe tbody tr th:only-of-type {\n",
       "        vertical-align: middle;\n",
       "    }\n",
       "\n",
       "    .dataframe tbody tr th {\n",
       "        vertical-align: top;\n",
       "    }\n",
       "\n",
       "    .dataframe thead th {\n",
       "        text-align: right;\n",
       "    }\n",
       "</style>\n",
       "<table border=\"1\" class=\"dataframe\">\n",
       "  <thead>\n",
       "    <tr style=\"text-align: right;\">\n",
       "      <th></th>\n",
       "      <th>category</th>\n",
       "      <th>commission</th>\n",
       "      <th>timestamp</th>\n",
       "    </tr>\n",
       "  </thead>\n",
       "  <tbody>\n",
       "    <tr>\n",
       "      <th>0</th>\n",
       "      <td>jeux vidéo et consoles</td>\n",
       "      <td>10.44</td>\n",
       "      <td>20130112023435</td>\n",
       "    </tr>\n",
       "    <tr>\n",
       "      <th>1</th>\n",
       "      <td>bijoux</td>\n",
       "      <td>20</td>\n",
       "      <td>20130112023435</td>\n",
       "    </tr>\n",
       "    <tr>\n",
       "      <th>2</th>\n",
       "      <td>dvd</td>\n",
       "      <td>10.44</td>\n",
       "      <td>20130112023435</td>\n",
       "    </tr>\n",
       "    <tr>\n",
       "      <th>3</th>\n",
       "      <td>fourniture de bureau</td>\n",
       "      <td>15</td>\n",
       "      <td>20130112023435</td>\n",
       "    </tr>\n",
       "    <tr>\n",
       "      <th>4</th>\n",
       "      <td>informatique</td>\n",
       "      <td>7</td>\n",
       "      <td>20130112023435</td>\n",
       "    </tr>\n",
       "    <tr>\n",
       "      <th>5</th>\n",
       "      <td>high tech</td>\n",
       "      <td>7</td>\n",
       "      <td>20130112023435</td>\n",
       "    </tr>\n",
       "    <tr>\n",
       "      <th>6</th>\n",
       "      <td>instruments de musique et sono</td>\n",
       "      <td>12</td>\n",
       "      <td>20130112023435</td>\n",
       "    </tr>\n",
       "    <tr>\n",
       "      <th>7</th>\n",
       "      <td>alimentation</td>\n",
       "      <td>15</td>\n",
       "      <td>20130112023435</td>\n",
       "    </tr>\n",
       "    <tr>\n",
       "      <th>8</th>\n",
       "      <td>livres</td>\n",
       "      <td>10.44</td>\n",
       "      <td>20130112023435</td>\n",
       "    </tr>\n",
       "    <tr>\n",
       "      <th>9</th>\n",
       "      <td>logiciels</td>\n",
       "      <td>10.44</td>\n",
       "      <td>20130112023435</td>\n",
       "    </tr>\n",
       "    <tr>\n",
       "      <th>10</th>\n",
       "      <td>musique</td>\n",
       "      <td>10.44</td>\n",
       "      <td>20130112023435</td>\n",
       "    </tr>\n",
       "    <tr>\n",
       "      <th>11</th>\n",
       "      <td>accessoires kindle</td>\n",
       "      <td>35</td>\n",
       "      <td>20130112023435</td>\n",
       "    </tr>\n",
       "    <tr>\n",
       "      <th>12</th>\n",
       "      <td>jeux et jouets</td>\n",
       "      <td>15</td>\n",
       "      <td>20130112023435</td>\n",
       "    </tr>\n",
       "    <tr>\n",
       "      <th>13</th>\n",
       "      <td>toutes les autres catégories</td>\n",
       "      <td>15</td>\n",
       "      <td>20130112023435</td>\n",
       "    </tr>\n",
       "  </tbody>\n",
       "</table>\n",
       "</div>"
      ],
      "text/plain": [
       "                          category commission       timestamp\n",
       "0           jeux vidéo et consoles      10.44  20130112023435\n",
       "1                           bijoux         20  20130112023435\n",
       "2                              dvd      10.44  20130112023435\n",
       "3             fourniture de bureau         15  20130112023435\n",
       "4                     informatique          7  20130112023435\n",
       "5                        high tech          7  20130112023435\n",
       "6   instruments de musique et sono         12  20130112023435\n",
       "7                     alimentation         15  20130112023435\n",
       "8                           livres      10.44  20130112023435\n",
       "9                        logiciels      10.44  20130112023435\n",
       "10                         musique      10.44  20130112023435\n",
       "11              accessoires kindle         35  20130112023435\n",
       "12                  jeux et jouets         15  20130112023435\n",
       "13    toutes les autres catégories         15  20130112023435"
      ]
     },
     "execution_count": 15,
     "metadata": {},
     "output_type": "execute_result"
    }
   ],
   "source": [
    "main_commission_table_str = str(soup.find_all(class_='categoryComissionTable')[0])\n",
    "\n",
    "# The following lines remove the table notes that cannot be read with Pandas\n",
    "idx_left = main_commission_table_str.rfind('<tr class=\"categoryComissionTableNote\">')\n",
    "idx_right = main_commission_table_str.rfind('</tr>') + len('</tr>')\n",
    "\n",
    "main_commission_table_str = main_commission_table_str.replace(\n",
    "    main_commission_table_str[idx_left:idx_right],\n",
    "    ''\n",
    ")\n",
    "\n",
    "# We convert into a DataFrame\n",
    "main_commission_df = pd.read_html(main_commission_table_str)[0]\n",
    "\n",
    "# We clean the DataFrame\n",
    "main_commission_df['Catégorie'] = main_commission_df['Catégorie'].map(\n",
    "    lambda category: category.strip().replace(\"*\", \"\").lower().replace('-', ' ')\n",
    ")\n",
    "main_commission_df['Commission variable'] = main_commission_df['Commission variable'].map(\n",
    "    lambda commission: commission.replace(\",\", \".\").replace(\"%\", \"\").replace(\" \", \"\")\n",
    ")\n",
    "main_commission_df = main_commission_df.rename(\n",
    "    columns={'Catégorie': 'category', 'Commission variable': 'commission'}\n",
    ")\n",
    "\n",
    "# We add the time stamp\n",
    "main_commission_df['timestamp'] = url_dict['timestamp'][0]\n",
    "\n",
    "main_commission_df"
   ]
  },
  {
   "cell_type": "code",
   "execution_count": null,
   "metadata": {},
   "outputs": [],
   "source": []
  },
  {
   "cell_type": "code",
   "execution_count": 101,
   "metadata": {
    "scrolled": false
   },
   "outputs": [
    {
     "name": "stdout",
     "output_type": "stream",
     "text": [
      "Starting the call #1\n",
      "Sleeping for 18 seconds\n",
      "Starting the call #2\n",
      "Sleeping for 11 seconds\n",
      "Starting the call #3\n",
      "Sleeping for 10 seconds\n",
      "Starting the call #4\n",
      "Sleeping for 18 seconds\n",
      "Starting the call #5\n",
      "Sleeping for 15 seconds\n",
      "Starting the call #6\n",
      "Sleeping for 20 seconds\n",
      "Starting the call #7\n",
      "Sleeping for 12 seconds\n",
      "Starting the call #8\n",
      "Sleeping for 16 seconds\n",
      "Starting the call #9\n",
      "Sleeping for 10 seconds\n",
      "Starting the call #10\n",
      "Sleeping for 18 seconds\n"
     ]
    }
   ],
   "source": [
    "for i in range(len(url_dict['url'][:10])):\n",
    "    \n",
    "    print(f\"Starting the call #{i + 1}\")\n",
    "    \n",
    "    final_url = wayback_machine_url_root + url_dict['url'][i]\n",
    "    \n",
    "    response = requests.get(final_url)\n",
    "    soup = BeautifulSoup(response.text, \"html.parser\")\n",
    "    \n",
    "    main_commission_table_str = str(soup.find_all(class_='categoryComissionTable')[0])\n",
    "\n",
    "    # The following lines remove the table notes that cannot be read with Pandas\n",
    "    idx_left = main_commission_table_str.rfind('<tr class=\"categoryComissionTableNote\">')\n",
    "    idx_right = main_commission_table_str.rfind('</tr>') + len('</tr>')\n",
    "\n",
    "    main_commission_table_str = main_commission_table_str.replace(\n",
    "        main_commission_table_str[idx_left:idx_right],\n",
    "        ''\n",
    "    )\n",
    "\n",
    "    # We convert into a DataFrame\n",
    "    main_commission_df = pd.read_html(main_commission_table_str)[0]\n",
    "\n",
    "    # We clean the DataFrame\n",
    "    cols = main_commission_df.columns\n",
    "    \n",
    "    main_commission_df[cols[0]] = main_commission_df[cols[0]].map(\n",
    "        lambda category: category.strip().replace(\"*\", \"\").lower().replace('-', ' ')\n",
    "    )\n",
    "    main_commission_df[cols[1]] = main_commission_df[cols[1]].map(\n",
    "        lambda commission: commission.replace(\",\", \".\").replace(\"%\", \"\").replace(\" \", \"\")\n",
    "    )\n",
    "    \n",
    "    main_commission_df = main_commission_df.rename(\n",
    "        columns={cols[0]: 'category', cols[1]: 'commission'}\n",
    "    )\n",
    "\n",
    "    # We add the time stamp\n",
    "    main_commission_df['timestamp'] = url_dict['timestamp'][i]\n",
    "    \n",
    "    if i == 0:\n",
    "        full_df = main_commission_df.copy()\n",
    "        \n",
    "    else:\n",
    "        full_df = pd.concat([full_df, main_commission_df])\n",
    "        \n",
    "    sleep_time = random.randint(10, 20)\n",
    "    print(f\"Sleeping for {sleep_time} seconds\")\n",
    "    time.sleep(sleep_time)\n",
    "    \n",
    "    print('------------------------------------')"
   ]
  },
  {
   "cell_type": "code",
   "execution_count": 104,
   "metadata": {},
   "outputs": [
    {
     "data": {
      "text/plain": [
       "array(['jeux vidéo et consoles', 'bijoux', 'dvd', 'fourniture de bureau',\n",
       "       'informatique', 'high tech', 'instruments de musique et sono',\n",
       "       'alimentation', 'livres', 'logiciels', 'musique',\n",
       "       'accessoires kindle', 'jeux et jouets',\n",
       "       'toutes les autres catégories', 'jeux vidéo ',\n",
       "       'consoles de jeux vidéo', 'gros électroménager',\n",
       "       'accessoires high tech & informatique',\n",
       "       'ordinateurs, périphériques pc et téléviseurs ',\n",
       "       'médias (livres, musique, vidéos, dvds)'], dtype=object)"
      ]
     },
     "execution_count": 104,
     "metadata": {},
     "output_type": "execute_result"
    }
   ],
   "source": [
    "full_df_first_10 = full_df.copy()"
   ]
  },
  {
   "cell_type": "code",
   "execution_count": 151,
   "metadata": {},
   "outputs": [
    {
     "name": "stdout",
     "output_type": "stream",
     "text": [
      "https://web.archive.org/web/20170324092321/http://services.amazon.fr/services/vendre-sur-internet/tarifs.html\n"
     ]
    }
   ],
   "source": [
    "final_url = wayback_machine_url_root + url_dict['url'][150]\n",
    "print(final_url)"
   ]
  },
  {
   "cell_type": "code",
   "execution_count": 158,
   "metadata": {},
   "outputs": [
    {
     "ename": "ConnectionError",
     "evalue": "('Connection aborted.', ConnectionResetError(54, 'Connection reset by peer'))",
     "output_type": "error",
     "traceback": [
      "\u001b[0;31m---------------------------------------------------------------------------\u001b[0m",
      "\u001b[0;31mConnectionResetError\u001b[0m                      Traceback (most recent call last)",
      "\u001b[0;32m~/.pyenv/versions/3.7.7/envs/lewagon-data/lib/python3.7/site-packages/urllib3/connectionpool.py\u001b[0m in \u001b[0;36murlopen\u001b[0;34m(self, method, url, body, headers, retries, redirect, assert_same_host, timeout, pool_timeout, release_conn, chunked, body_pos, **response_kw)\u001b[0m\n\u001b[1;32m    676\u001b[0m         \u001b[0mrelease_this_conn\u001b[0m \u001b[0;34m=\u001b[0m \u001b[0mrelease_conn\u001b[0m\u001b[0;34m\u001b[0m\u001b[0;34m\u001b[0m\u001b[0m\n\u001b[0;32m--> 677\u001b[0;31m \u001b[0;34m\u001b[0m\u001b[0m\n\u001b[0m\u001b[1;32m    678\u001b[0m         http_tunnel_required = connection_requires_http_tunnel(\n",
      "\u001b[0;32m~/.pyenv/versions/3.7.7/envs/lewagon-data/lib/python3.7/site-packages/urllib3/connectionpool.py\u001b[0m in \u001b[0;36m_make_request\u001b[0;34m(self, conn, method, url, timeout, chunked, **httplib_request_kw)\u001b[0m\n\u001b[1;32m    380\u001b[0m         \u001b[0mself\u001b[0m\u001b[0;34m,\u001b[0m \u001b[0mconn\u001b[0m\u001b[0;34m,\u001b[0m \u001b[0mmethod\u001b[0m\u001b[0;34m,\u001b[0m \u001b[0murl\u001b[0m\u001b[0;34m,\u001b[0m \u001b[0mtimeout\u001b[0m\u001b[0;34m=\u001b[0m\u001b[0m_Default\u001b[0m\u001b[0;34m,\u001b[0m \u001b[0mchunked\u001b[0m\u001b[0;34m=\u001b[0m\u001b[0;32mFalse\u001b[0m\u001b[0;34m,\u001b[0m \u001b[0;34m**\u001b[0m\u001b[0mhttplib_request_kw\u001b[0m\u001b[0;34m\u001b[0m\u001b[0;34m\u001b[0m\u001b[0m\n\u001b[0;32m--> 381\u001b[0;31m     ):\n\u001b[0m\u001b[1;32m    382\u001b[0m         \"\"\"\n",
      "\u001b[0;32m~/.pyenv/versions/3.7.7/envs/lewagon-data/lib/python3.7/site-packages/urllib3/connectionpool.py\u001b[0m in \u001b[0;36m_validate_conn\u001b[0;34m(self, conn)\u001b[0m\n\u001b[1;32m    977\u001b[0m         \u001b[0mself\u001b[0m\u001b[0;34m.\u001b[0m\u001b[0massert_fingerprint\u001b[0m \u001b[0;34m=\u001b[0m \u001b[0massert_fingerprint\u001b[0m\u001b[0;34m\u001b[0m\u001b[0;34m\u001b[0m\u001b[0m\n\u001b[0;32m--> 978\u001b[0;31m \u001b[0;34m\u001b[0m\u001b[0m\n\u001b[0m\u001b[1;32m    979\u001b[0m     \u001b[0;32mdef\u001b[0m \u001b[0m_prepare_conn\u001b[0m\u001b[0;34m(\u001b[0m\u001b[0mself\u001b[0m\u001b[0;34m,\u001b[0m \u001b[0mconn\u001b[0m\u001b[0;34m)\u001b[0m\u001b[0;34m:\u001b[0m\u001b[0;34m\u001b[0m\u001b[0;34m\u001b[0m\u001b[0m\n",
      "\u001b[0;32m~/.pyenv/versions/3.7.7/envs/lewagon-data/lib/python3.7/site-packages/urllib3/connection.py\u001b[0m in \u001b[0;36mconnect\u001b[0;34m(self)\u001b[0m\n\u001b[1;32m    370\u001b[0m                 \u001b[0mtls_in_tls\u001b[0m \u001b[0;34m=\u001b[0m \u001b[0;32mTrue\u001b[0m\u001b[0;34m\u001b[0m\u001b[0;34m\u001b[0m\u001b[0m\n\u001b[0;32m--> 371\u001b[0;31m \u001b[0;34m\u001b[0m\u001b[0m\n\u001b[0m\u001b[1;32m    372\u001b[0m             \u001b[0;31m# Calls self._set_hostport(), so self.host is\u001b[0m\u001b[0;34m\u001b[0m\u001b[0;34m\u001b[0m\u001b[0;34m\u001b[0m\u001b[0m\n",
      "\u001b[0;32m~/.pyenv/versions/3.7.7/envs/lewagon-data/lib/python3.7/site-packages/urllib3/util/ssl_.py\u001b[0m in \u001b[0;36mssl_wrap_socket\u001b[0;34m(sock, keyfile, certfile, cert_reqs, ca_certs, server_hostname, ssl_version, ciphers, ssl_context, ca_cert_dir, key_password, ca_cert_data)\u001b[0m\n\u001b[1;32m    385\u001b[0m     \u001b[0;34m:\u001b[0m\u001b[0mparam\u001b[0m \u001b[0mkey_password\u001b[0m\u001b[0;34m:\u001b[0m\u001b[0;34m\u001b[0m\u001b[0;34m\u001b[0m\u001b[0m\n\u001b[0;32m--> 386\u001b[0;31m         \u001b[0mOptional\u001b[0m \u001b[0mpassword\u001b[0m \u001b[0;32mif\u001b[0m \u001b[0mthe\u001b[0m \u001b[0mkeyfile\u001b[0m \u001b[0;32mis\u001b[0m \u001b[0mencrypted\u001b[0m\u001b[0;34m.\u001b[0m\u001b[0;34m\u001b[0m\u001b[0;34m\u001b[0m\u001b[0m\n\u001b[0m\u001b[1;32m    387\u001b[0m     \u001b[0;34m:\u001b[0m\u001b[0mparam\u001b[0m \u001b[0mca_cert_data\u001b[0m\u001b[0;34m:\u001b[0m\u001b[0;34m\u001b[0m\u001b[0;34m\u001b[0m\u001b[0m\n",
      "\u001b[0;32m~/.pyenv/versions/3.7.7/lib/python3.7/ssl.py\u001b[0m in \u001b[0;36mwrap_socket\u001b[0;34m(self, sock, server_side, do_handshake_on_connect, suppress_ragged_eofs, server_hostname, session)\u001b[0m\n\u001b[1;32m    422\u001b[0m             \u001b[0mcontext\u001b[0m\u001b[0;34m=\u001b[0m\u001b[0mself\u001b[0m\u001b[0;34m,\u001b[0m\u001b[0;34m\u001b[0m\u001b[0;34m\u001b[0m\u001b[0m\n\u001b[0;32m--> 423\u001b[0;31m             \u001b[0msession\u001b[0m\u001b[0;34m=\u001b[0m\u001b[0msession\u001b[0m\u001b[0;34m\u001b[0m\u001b[0;34m\u001b[0m\u001b[0m\n\u001b[0m\u001b[1;32m    424\u001b[0m         )\n",
      "\u001b[0;32m~/.pyenv/versions/3.7.7/lib/python3.7/ssl.py\u001b[0m in \u001b[0;36m_create\u001b[0;34m(cls, sock, server_side, do_handshake_on_connect, suppress_ragged_eofs, server_hostname, context, session)\u001b[0m\n\u001b[1;32m    869\u001b[0m                         \u001b[0;32mraise\u001b[0m \u001b[0mValueError\u001b[0m\u001b[0;34m(\u001b[0m\u001b[0;34m\"do_handshake_on_connect should not be specified for non-blocking sockets\"\u001b[0m\u001b[0;34m)\u001b[0m\u001b[0;34m\u001b[0m\u001b[0;34m\u001b[0m\u001b[0m\n\u001b[0;32m--> 870\u001b[0;31m                     \u001b[0mself\u001b[0m\u001b[0;34m.\u001b[0m\u001b[0mdo_handshake\u001b[0m\u001b[0;34m(\u001b[0m\u001b[0;34m)\u001b[0m\u001b[0;34m\u001b[0m\u001b[0;34m\u001b[0m\u001b[0m\n\u001b[0m\u001b[1;32m    871\u001b[0m             \u001b[0;32mexcept\u001b[0m \u001b[0;34m(\u001b[0m\u001b[0mOSError\u001b[0m\u001b[0;34m,\u001b[0m \u001b[0mValueError\u001b[0m\u001b[0;34m)\u001b[0m\u001b[0;34m:\u001b[0m\u001b[0;34m\u001b[0m\u001b[0;34m\u001b[0m\u001b[0m\n",
      "\u001b[0;32m~/.pyenv/versions/3.7.7/lib/python3.7/ssl.py\u001b[0m in \u001b[0;36mdo_handshake\u001b[0;34m(self, block)\u001b[0m\n\u001b[1;32m   1138\u001b[0m                 \u001b[0mself\u001b[0m\u001b[0;34m.\u001b[0m\u001b[0msettimeout\u001b[0m\u001b[0;34m(\u001b[0m\u001b[0;32mNone\u001b[0m\u001b[0;34m)\u001b[0m\u001b[0;34m\u001b[0m\u001b[0;34m\u001b[0m\u001b[0m\n\u001b[0;32m-> 1139\u001b[0;31m             \u001b[0mself\u001b[0m\u001b[0;34m.\u001b[0m\u001b[0m_sslobj\u001b[0m\u001b[0;34m.\u001b[0m\u001b[0mdo_handshake\u001b[0m\u001b[0;34m(\u001b[0m\u001b[0;34m)\u001b[0m\u001b[0;34m\u001b[0m\u001b[0;34m\u001b[0m\u001b[0m\n\u001b[0m\u001b[1;32m   1140\u001b[0m         \u001b[0;32mfinally\u001b[0m\u001b[0;34m:\u001b[0m\u001b[0;34m\u001b[0m\u001b[0;34m\u001b[0m\u001b[0m\n",
      "\u001b[0;31mConnectionResetError\u001b[0m: [Errno 54] Connection reset by peer",
      "\nDuring handling of the above exception, another exception occurred:\n",
      "\u001b[0;31mProtocolError\u001b[0m                             Traceback (most recent call last)",
      "\u001b[0;32m~/.pyenv/versions/3.7.7/envs/lewagon-data/lib/python3.7/site-packages/requests/adapters.py\u001b[0m in \u001b[0;36msend\u001b[0;34m(self, request, stream, timeout, verify, cert, proxies)\u001b[0m\n\u001b[1;32m    448\u001b[0m                     \u001b[0mretries\u001b[0m\u001b[0;34m=\u001b[0m\u001b[0mself\u001b[0m\u001b[0;34m.\u001b[0m\u001b[0mmax_retries\u001b[0m\u001b[0;34m,\u001b[0m\u001b[0;34m\u001b[0m\u001b[0;34m\u001b[0m\u001b[0m\n\u001b[0;32m--> 449\u001b[0;31m                     \u001b[0mtimeout\u001b[0m\u001b[0;34m=\u001b[0m\u001b[0mtimeout\u001b[0m\u001b[0;34m\u001b[0m\u001b[0;34m\u001b[0m\u001b[0m\n\u001b[0m\u001b[1;32m    450\u001b[0m                 )\n",
      "\u001b[0;32m~/.pyenv/versions/3.7.7/envs/lewagon-data/lib/python3.7/site-packages/urllib3/connectionpool.py\u001b[0m in \u001b[0;36murlopen\u001b[0;34m(self, method, url, body, headers, retries, redirect, assert_same_host, timeout, pool_timeout, release_conn, chunked, body_pos, **response_kw)\u001b[0m\n\u001b[1;32m    726\u001b[0m             \u001b[0;31m# the response doesn't need to know about the connection. Otherwise\u001b[0m\u001b[0;34m\u001b[0m\u001b[0;34m\u001b[0m\u001b[0;34m\u001b[0m\u001b[0m\n\u001b[0;32m--> 727\u001b[0;31m             \u001b[0;31m# it will also try to release it and we'll have a double-release\u001b[0m\u001b[0;34m\u001b[0m\u001b[0;34m\u001b[0m\u001b[0;34m\u001b[0m\u001b[0m\n\u001b[0m\u001b[1;32m    728\u001b[0m             \u001b[0;31m# mess.\u001b[0m\u001b[0;34m\u001b[0m\u001b[0;34m\u001b[0m\u001b[0;34m\u001b[0m\u001b[0m\n",
      "\u001b[0;32m~/.pyenv/versions/3.7.7/envs/lewagon-data/lib/python3.7/site-packages/urllib3/util/retry.py\u001b[0m in \u001b[0;36mincrement\u001b[0;34m(self, method, url, response, error, _pool, _stacktrace)\u001b[0m\n\u001b[1;32m    409\u001b[0m \u001b[0;34m\u001b[0m\u001b[0m\n\u001b[0;32m--> 410\u001b[0;31m         \u001b[0;32mreturn\u001b[0m \u001b[0;32mFalse\u001b[0m\u001b[0;34m\u001b[0m\u001b[0;34m\u001b[0m\u001b[0m\n\u001b[0m\u001b[1;32m    411\u001b[0m \u001b[0;34m\u001b[0m\u001b[0m\n",
      "\u001b[0;32m~/.pyenv/versions/3.7.7/envs/lewagon-data/lib/python3.7/site-packages/urllib3/packages/six.py\u001b[0m in \u001b[0;36mreraise\u001b[0;34m(tp, value, tb)\u001b[0m\n\u001b[1;32m    733\u001b[0m     \u001b[0miterbytes\u001b[0m \u001b[0;34m=\u001b[0m \u001b[0mfunctools\u001b[0m\u001b[0;34m.\u001b[0m\u001b[0mpartial\u001b[0m\u001b[0;34m(\u001b[0m\u001b[0mitertools\u001b[0m\u001b[0;34m.\u001b[0m\u001b[0mimap\u001b[0m\u001b[0;34m,\u001b[0m \u001b[0mord\u001b[0m\u001b[0;34m)\u001b[0m\u001b[0;34m\u001b[0m\u001b[0;34m\u001b[0m\u001b[0m\n\u001b[0;32m--> 734\u001b[0;31m     \u001b[0;32mimport\u001b[0m \u001b[0mStringIO\u001b[0m\u001b[0;34m\u001b[0m\u001b[0;34m\u001b[0m\u001b[0m\n\u001b[0m\u001b[1;32m    735\u001b[0m \u001b[0;34m\u001b[0m\u001b[0m\n",
      "\u001b[0;32m~/.pyenv/versions/3.7.7/envs/lewagon-data/lib/python3.7/site-packages/urllib3/connectionpool.py\u001b[0m in \u001b[0;36murlopen\u001b[0;34m(self, method, url, body, headers, retries, redirect, assert_same_host, timeout, pool_timeout, release_conn, chunked, body_pos, **response_kw)\u001b[0m\n\u001b[1;32m    676\u001b[0m         \u001b[0mrelease_this_conn\u001b[0m \u001b[0;34m=\u001b[0m \u001b[0mrelease_conn\u001b[0m\u001b[0;34m\u001b[0m\u001b[0;34m\u001b[0m\u001b[0m\n\u001b[0;32m--> 677\u001b[0;31m \u001b[0;34m\u001b[0m\u001b[0m\n\u001b[0m\u001b[1;32m    678\u001b[0m         http_tunnel_required = connection_requires_http_tunnel(\n",
      "\u001b[0;32m~/.pyenv/versions/3.7.7/envs/lewagon-data/lib/python3.7/site-packages/urllib3/connectionpool.py\u001b[0m in \u001b[0;36m_make_request\u001b[0;34m(self, conn, method, url, timeout, chunked, **httplib_request_kw)\u001b[0m\n\u001b[1;32m    380\u001b[0m         \u001b[0mself\u001b[0m\u001b[0;34m,\u001b[0m \u001b[0mconn\u001b[0m\u001b[0;34m,\u001b[0m \u001b[0mmethod\u001b[0m\u001b[0;34m,\u001b[0m \u001b[0murl\u001b[0m\u001b[0;34m,\u001b[0m \u001b[0mtimeout\u001b[0m\u001b[0;34m=\u001b[0m\u001b[0m_Default\u001b[0m\u001b[0;34m,\u001b[0m \u001b[0mchunked\u001b[0m\u001b[0;34m=\u001b[0m\u001b[0;32mFalse\u001b[0m\u001b[0;34m,\u001b[0m \u001b[0;34m**\u001b[0m\u001b[0mhttplib_request_kw\u001b[0m\u001b[0;34m\u001b[0m\u001b[0;34m\u001b[0m\u001b[0m\n\u001b[0;32m--> 381\u001b[0;31m     ):\n\u001b[0m\u001b[1;32m    382\u001b[0m         \"\"\"\n",
      "\u001b[0;32m~/.pyenv/versions/3.7.7/envs/lewagon-data/lib/python3.7/site-packages/urllib3/connectionpool.py\u001b[0m in \u001b[0;36m_validate_conn\u001b[0;34m(self, conn)\u001b[0m\n\u001b[1;32m    977\u001b[0m         \u001b[0mself\u001b[0m\u001b[0;34m.\u001b[0m\u001b[0massert_fingerprint\u001b[0m \u001b[0;34m=\u001b[0m \u001b[0massert_fingerprint\u001b[0m\u001b[0;34m\u001b[0m\u001b[0;34m\u001b[0m\u001b[0m\n\u001b[0;32m--> 978\u001b[0;31m \u001b[0;34m\u001b[0m\u001b[0m\n\u001b[0m\u001b[1;32m    979\u001b[0m     \u001b[0;32mdef\u001b[0m \u001b[0m_prepare_conn\u001b[0m\u001b[0;34m(\u001b[0m\u001b[0mself\u001b[0m\u001b[0;34m,\u001b[0m \u001b[0mconn\u001b[0m\u001b[0;34m)\u001b[0m\u001b[0;34m:\u001b[0m\u001b[0;34m\u001b[0m\u001b[0;34m\u001b[0m\u001b[0m\n",
      "\u001b[0;32m~/.pyenv/versions/3.7.7/envs/lewagon-data/lib/python3.7/site-packages/urllib3/connection.py\u001b[0m in \u001b[0;36mconnect\u001b[0;34m(self)\u001b[0m\n\u001b[1;32m    370\u001b[0m                 \u001b[0mtls_in_tls\u001b[0m \u001b[0;34m=\u001b[0m \u001b[0;32mTrue\u001b[0m\u001b[0;34m\u001b[0m\u001b[0;34m\u001b[0m\u001b[0m\n\u001b[0;32m--> 371\u001b[0;31m \u001b[0;34m\u001b[0m\u001b[0m\n\u001b[0m\u001b[1;32m    372\u001b[0m             \u001b[0;31m# Calls self._set_hostport(), so self.host is\u001b[0m\u001b[0;34m\u001b[0m\u001b[0;34m\u001b[0m\u001b[0;34m\u001b[0m\u001b[0m\n",
      "\u001b[0;32m~/.pyenv/versions/3.7.7/envs/lewagon-data/lib/python3.7/site-packages/urllib3/util/ssl_.py\u001b[0m in \u001b[0;36mssl_wrap_socket\u001b[0;34m(sock, keyfile, certfile, cert_reqs, ca_certs, server_hostname, ssl_version, ciphers, ssl_context, ca_cert_dir, key_password, ca_cert_data)\u001b[0m\n\u001b[1;32m    385\u001b[0m     \u001b[0;34m:\u001b[0m\u001b[0mparam\u001b[0m \u001b[0mkey_password\u001b[0m\u001b[0;34m:\u001b[0m\u001b[0;34m\u001b[0m\u001b[0;34m\u001b[0m\u001b[0m\n\u001b[0;32m--> 386\u001b[0;31m         \u001b[0mOptional\u001b[0m \u001b[0mpassword\u001b[0m \u001b[0;32mif\u001b[0m \u001b[0mthe\u001b[0m \u001b[0mkeyfile\u001b[0m \u001b[0;32mis\u001b[0m \u001b[0mencrypted\u001b[0m\u001b[0;34m.\u001b[0m\u001b[0;34m\u001b[0m\u001b[0;34m\u001b[0m\u001b[0m\n\u001b[0m\u001b[1;32m    387\u001b[0m     \u001b[0;34m:\u001b[0m\u001b[0mparam\u001b[0m \u001b[0mca_cert_data\u001b[0m\u001b[0;34m:\u001b[0m\u001b[0;34m\u001b[0m\u001b[0;34m\u001b[0m\u001b[0m\n",
      "\u001b[0;32m~/.pyenv/versions/3.7.7/lib/python3.7/ssl.py\u001b[0m in \u001b[0;36mwrap_socket\u001b[0;34m(self, sock, server_side, do_handshake_on_connect, suppress_ragged_eofs, server_hostname, session)\u001b[0m\n\u001b[1;32m    422\u001b[0m             \u001b[0mcontext\u001b[0m\u001b[0;34m=\u001b[0m\u001b[0mself\u001b[0m\u001b[0;34m,\u001b[0m\u001b[0;34m\u001b[0m\u001b[0;34m\u001b[0m\u001b[0m\n\u001b[0;32m--> 423\u001b[0;31m             \u001b[0msession\u001b[0m\u001b[0;34m=\u001b[0m\u001b[0msession\u001b[0m\u001b[0;34m\u001b[0m\u001b[0;34m\u001b[0m\u001b[0m\n\u001b[0m\u001b[1;32m    424\u001b[0m         )\n",
      "\u001b[0;32m~/.pyenv/versions/3.7.7/lib/python3.7/ssl.py\u001b[0m in \u001b[0;36m_create\u001b[0;34m(cls, sock, server_side, do_handshake_on_connect, suppress_ragged_eofs, server_hostname, context, session)\u001b[0m\n\u001b[1;32m    869\u001b[0m                         \u001b[0;32mraise\u001b[0m \u001b[0mValueError\u001b[0m\u001b[0;34m(\u001b[0m\u001b[0;34m\"do_handshake_on_connect should not be specified for non-blocking sockets\"\u001b[0m\u001b[0;34m)\u001b[0m\u001b[0;34m\u001b[0m\u001b[0;34m\u001b[0m\u001b[0m\n\u001b[0;32m--> 870\u001b[0;31m                     \u001b[0mself\u001b[0m\u001b[0;34m.\u001b[0m\u001b[0mdo_handshake\u001b[0m\u001b[0;34m(\u001b[0m\u001b[0;34m)\u001b[0m\u001b[0;34m\u001b[0m\u001b[0;34m\u001b[0m\u001b[0m\n\u001b[0m\u001b[1;32m    871\u001b[0m             \u001b[0;32mexcept\u001b[0m \u001b[0;34m(\u001b[0m\u001b[0mOSError\u001b[0m\u001b[0;34m,\u001b[0m \u001b[0mValueError\u001b[0m\u001b[0;34m)\u001b[0m\u001b[0;34m:\u001b[0m\u001b[0;34m\u001b[0m\u001b[0;34m\u001b[0m\u001b[0m\n",
      "\u001b[0;32m~/.pyenv/versions/3.7.7/lib/python3.7/ssl.py\u001b[0m in \u001b[0;36mdo_handshake\u001b[0;34m(self, block)\u001b[0m\n\u001b[1;32m   1138\u001b[0m                 \u001b[0mself\u001b[0m\u001b[0;34m.\u001b[0m\u001b[0msettimeout\u001b[0m\u001b[0;34m(\u001b[0m\u001b[0;32mNone\u001b[0m\u001b[0;34m)\u001b[0m\u001b[0;34m\u001b[0m\u001b[0;34m\u001b[0m\u001b[0m\n\u001b[0;32m-> 1139\u001b[0;31m             \u001b[0mself\u001b[0m\u001b[0;34m.\u001b[0m\u001b[0m_sslobj\u001b[0m\u001b[0;34m.\u001b[0m\u001b[0mdo_handshake\u001b[0m\u001b[0;34m(\u001b[0m\u001b[0;34m)\u001b[0m\u001b[0;34m\u001b[0m\u001b[0;34m\u001b[0m\u001b[0m\n\u001b[0m\u001b[1;32m   1140\u001b[0m         \u001b[0;32mfinally\u001b[0m\u001b[0;34m:\u001b[0m\u001b[0;34m\u001b[0m\u001b[0;34m\u001b[0m\u001b[0m\n",
      "\u001b[0;31mProtocolError\u001b[0m: ('Connection aborted.', ConnectionResetError(54, 'Connection reset by peer'))",
      "\nDuring handling of the above exception, another exception occurred:\n",
      "\u001b[0;31mConnectionError\u001b[0m                           Traceback (most recent call last)",
      "\u001b[0;32m<ipython-input-158-b81d050c4b8d>\u001b[0m in \u001b[0;36m<module>\u001b[0;34m\u001b[0m\n\u001b[0;32m----> 1\u001b[0;31m \u001b[0mresponse\u001b[0m \u001b[0;34m=\u001b[0m \u001b[0mrequests\u001b[0m\u001b[0;34m.\u001b[0m\u001b[0mget\u001b[0m\u001b[0;34m(\u001b[0m\u001b[0mfinal_url\u001b[0m\u001b[0;34m)\u001b[0m\u001b[0;34m\u001b[0m\u001b[0;34m\u001b[0m\u001b[0m\n\u001b[0m\u001b[1;32m      2\u001b[0m \u001b[0msoup\u001b[0m \u001b[0;34m=\u001b[0m \u001b[0mBeautifulSoup\u001b[0m\u001b[0;34m(\u001b[0m\u001b[0mresponse\u001b[0m\u001b[0;34m.\u001b[0m\u001b[0mtext\u001b[0m\u001b[0;34m,\u001b[0m \u001b[0;34m\"html.parser\"\u001b[0m\u001b[0;34m)\u001b[0m\u001b[0;34m\u001b[0m\u001b[0;34m\u001b[0m\u001b[0m\n",
      "\u001b[0;32m~/.pyenv/versions/3.7.7/envs/lewagon-data/lib/python3.7/site-packages/requests/api.py\u001b[0m in \u001b[0;36mget\u001b[0;34m(url, params, **kwargs)\u001b[0m\n\u001b[1;32m     74\u001b[0m \u001b[0;34m\u001b[0m\u001b[0m\n\u001b[1;32m     75\u001b[0m     \u001b[0mkwargs\u001b[0m\u001b[0;34m.\u001b[0m\u001b[0msetdefault\u001b[0m\u001b[0;34m(\u001b[0m\u001b[0;34m'allow_redirects'\u001b[0m\u001b[0;34m,\u001b[0m \u001b[0;32mTrue\u001b[0m\u001b[0;34m)\u001b[0m\u001b[0;34m\u001b[0m\u001b[0;34m\u001b[0m\u001b[0m\n\u001b[0;32m---> 76\u001b[0;31m     \u001b[0;32mreturn\u001b[0m \u001b[0mrequest\u001b[0m\u001b[0;34m(\u001b[0m\u001b[0;34m'get'\u001b[0m\u001b[0;34m,\u001b[0m \u001b[0murl\u001b[0m\u001b[0;34m,\u001b[0m \u001b[0mparams\u001b[0m\u001b[0;34m=\u001b[0m\u001b[0mparams\u001b[0m\u001b[0;34m,\u001b[0m \u001b[0;34m**\u001b[0m\u001b[0mkwargs\u001b[0m\u001b[0;34m)\u001b[0m\u001b[0;34m\u001b[0m\u001b[0;34m\u001b[0m\u001b[0m\n\u001b[0m\u001b[1;32m     77\u001b[0m \u001b[0;34m\u001b[0m\u001b[0m\n\u001b[1;32m     78\u001b[0m \u001b[0;34m\u001b[0m\u001b[0m\n",
      "\u001b[0;32m~/.pyenv/versions/3.7.7/envs/lewagon-data/lib/python3.7/site-packages/requests/api.py\u001b[0m in \u001b[0;36mrequest\u001b[0;34m(method, url, **kwargs)\u001b[0m\n\u001b[1;32m     59\u001b[0m     \u001b[0;31m# cases, and look like a memory leak in others.\u001b[0m\u001b[0;34m\u001b[0m\u001b[0;34m\u001b[0m\u001b[0;34m\u001b[0m\u001b[0m\n\u001b[1;32m     60\u001b[0m     \u001b[0;32mwith\u001b[0m \u001b[0msessions\u001b[0m\u001b[0;34m.\u001b[0m\u001b[0mSession\u001b[0m\u001b[0;34m(\u001b[0m\u001b[0;34m)\u001b[0m \u001b[0;32mas\u001b[0m \u001b[0msession\u001b[0m\u001b[0;34m:\u001b[0m\u001b[0;34m\u001b[0m\u001b[0;34m\u001b[0m\u001b[0m\n\u001b[0;32m---> 61\u001b[0;31m         \u001b[0;32mreturn\u001b[0m \u001b[0msession\u001b[0m\u001b[0;34m.\u001b[0m\u001b[0mrequest\u001b[0m\u001b[0;34m(\u001b[0m\u001b[0mmethod\u001b[0m\u001b[0;34m=\u001b[0m\u001b[0mmethod\u001b[0m\u001b[0;34m,\u001b[0m \u001b[0murl\u001b[0m\u001b[0;34m=\u001b[0m\u001b[0murl\u001b[0m\u001b[0;34m,\u001b[0m \u001b[0;34m**\u001b[0m\u001b[0mkwargs\u001b[0m\u001b[0;34m)\u001b[0m\u001b[0;34m\u001b[0m\u001b[0;34m\u001b[0m\u001b[0m\n\u001b[0m\u001b[1;32m     62\u001b[0m \u001b[0;34m\u001b[0m\u001b[0m\n\u001b[1;32m     63\u001b[0m \u001b[0;34m\u001b[0m\u001b[0m\n",
      "\u001b[0;32m~/.pyenv/versions/3.7.7/envs/lewagon-data/lib/python3.7/site-packages/requests/sessions.py\u001b[0m in \u001b[0;36mrequest\u001b[0;34m(self, method, url, params, data, headers, cookies, files, auth, timeout, allow_redirects, proxies, hooks, stream, verify, cert, json)\u001b[0m\n\u001b[1;32m    540\u001b[0m         }\n\u001b[1;32m    541\u001b[0m         \u001b[0msend_kwargs\u001b[0m\u001b[0;34m.\u001b[0m\u001b[0mupdate\u001b[0m\u001b[0;34m(\u001b[0m\u001b[0msettings\u001b[0m\u001b[0;34m)\u001b[0m\u001b[0;34m\u001b[0m\u001b[0;34m\u001b[0m\u001b[0m\n\u001b[0;32m--> 542\u001b[0;31m         \u001b[0mresp\u001b[0m \u001b[0;34m=\u001b[0m \u001b[0mself\u001b[0m\u001b[0;34m.\u001b[0m\u001b[0msend\u001b[0m\u001b[0;34m(\u001b[0m\u001b[0mprep\u001b[0m\u001b[0;34m,\u001b[0m \u001b[0;34m**\u001b[0m\u001b[0msend_kwargs\u001b[0m\u001b[0;34m)\u001b[0m\u001b[0;34m\u001b[0m\u001b[0;34m\u001b[0m\u001b[0m\n\u001b[0m\u001b[1;32m    543\u001b[0m \u001b[0;34m\u001b[0m\u001b[0m\n\u001b[1;32m    544\u001b[0m         \u001b[0;32mreturn\u001b[0m \u001b[0mresp\u001b[0m\u001b[0;34m\u001b[0m\u001b[0;34m\u001b[0m\u001b[0m\n",
      "\u001b[0;32m~/.pyenv/versions/3.7.7/envs/lewagon-data/lib/python3.7/site-packages/requests/sessions.py\u001b[0m in \u001b[0;36msend\u001b[0;34m(self, request, **kwargs)\u001b[0m\n\u001b[1;32m    653\u001b[0m \u001b[0;34m\u001b[0m\u001b[0m\n\u001b[1;32m    654\u001b[0m         \u001b[0;31m# Send the request\u001b[0m\u001b[0;34m\u001b[0m\u001b[0;34m\u001b[0m\u001b[0;34m\u001b[0m\u001b[0m\n\u001b[0;32m--> 655\u001b[0;31m         \u001b[0mr\u001b[0m \u001b[0;34m=\u001b[0m \u001b[0madapter\u001b[0m\u001b[0;34m.\u001b[0m\u001b[0msend\u001b[0m\u001b[0;34m(\u001b[0m\u001b[0mrequest\u001b[0m\u001b[0;34m,\u001b[0m \u001b[0;34m**\u001b[0m\u001b[0mkwargs\u001b[0m\u001b[0;34m)\u001b[0m\u001b[0;34m\u001b[0m\u001b[0;34m\u001b[0m\u001b[0m\n\u001b[0m\u001b[1;32m    656\u001b[0m \u001b[0;34m\u001b[0m\u001b[0m\n\u001b[1;32m    657\u001b[0m         \u001b[0;31m# Total elapsed time of the request (approximately)\u001b[0m\u001b[0;34m\u001b[0m\u001b[0;34m\u001b[0m\u001b[0;34m\u001b[0m\u001b[0m\n",
      "\u001b[0;32m~/.pyenv/versions/3.7.7/envs/lewagon-data/lib/python3.7/site-packages/requests/adapters.py\u001b[0m in \u001b[0;36msend\u001b[0;34m(self, request, stream, timeout, verify, cert, proxies)\u001b[0m\n\u001b[1;32m    496\u001b[0m \u001b[0;34m\u001b[0m\u001b[0m\n\u001b[1;32m    497\u001b[0m         \u001b[0;32mexcept\u001b[0m \u001b[0;34m(\u001b[0m\u001b[0mProtocolError\u001b[0m\u001b[0;34m,\u001b[0m \u001b[0msocket\u001b[0m\u001b[0;34m.\u001b[0m\u001b[0merror\u001b[0m\u001b[0;34m)\u001b[0m \u001b[0;32mas\u001b[0m \u001b[0merr\u001b[0m\u001b[0;34m:\u001b[0m\u001b[0;34m\u001b[0m\u001b[0;34m\u001b[0m\u001b[0m\n\u001b[0;32m--> 498\u001b[0;31m             \u001b[0;32mraise\u001b[0m \u001b[0mConnectionError\u001b[0m\u001b[0;34m(\u001b[0m\u001b[0merr\u001b[0m\u001b[0;34m,\u001b[0m \u001b[0mrequest\u001b[0m\u001b[0;34m=\u001b[0m\u001b[0mrequest\u001b[0m\u001b[0;34m)\u001b[0m\u001b[0;34m\u001b[0m\u001b[0;34m\u001b[0m\u001b[0m\n\u001b[0m\u001b[1;32m    499\u001b[0m \u001b[0;34m\u001b[0m\u001b[0m\n\u001b[1;32m    500\u001b[0m         \u001b[0;32mexcept\u001b[0m \u001b[0mMaxRetryError\u001b[0m \u001b[0;32mas\u001b[0m \u001b[0me\u001b[0m\u001b[0;34m:\u001b[0m\u001b[0;34m\u001b[0m\u001b[0;34m\u001b[0m\u001b[0m\n",
      "\u001b[0;31mConnectionError\u001b[0m: ('Connection aborted.', ConnectionResetError(54, 'Connection reset by peer'))"
     ]
    }
   ],
   "source": [
    "response = requests.get(final_url)\n",
    "soup = BeautifulSoup(response.text, \"html.parser\")"
   ]
  },
  {
   "cell_type": "code",
   "execution_count": 149,
   "metadata": {},
   "outputs": [
    {
     "data": {
      "text/plain": [
       "8"
      ]
     },
     "execution_count": 149,
     "metadata": {},
     "output_type": "execute_result"
    }
   ],
   "source": [
    "len(soup.find_all(class_='table-responsive'))"
   ]
  },
  {
   "cell_type": "code",
   "execution_count": 133,
   "metadata": {},
   "outputs": [
    {
     "data": {
      "text/html": [
       "<div>\n",
       "<style scoped>\n",
       "    .dataframe tbody tr th:only-of-type {\n",
       "        vertical-align: middle;\n",
       "    }\n",
       "\n",
       "    .dataframe tbody tr th {\n",
       "        vertical-align: top;\n",
       "    }\n",
       "\n",
       "    .dataframe thead th {\n",
       "        text-align: right;\n",
       "    }\n",
       "</style>\n",
       "<table border=\"1\" class=\"dataframe\">\n",
       "  <thead>\n",
       "    <tr style=\"text-align: right;\">\n",
       "      <th></th>\n",
       "      <th>Catégories</th>\n",
       "      <th>Pourcentage des frais de vente</th>\n",
       "      <th>Frais de vente minimum applicable(appliqué par article, sauf mention contraire)</th>\n",
       "    </tr>\n",
       "  </thead>\n",
       "  <tbody>\n",
       "    <tr>\n",
       "      <th>0</th>\n",
       "      <td>Accessoires High Tech ¹</td>\n",
       "      <td>12%**</td>\n",
       "      <td>€ 0,50</td>\n",
       "    </tr>\n",
       "    <tr>\n",
       "      <th>1</th>\n",
       "      <td>Accessoires pour ordinateurs ¹</td>\n",
       "      <td>12%**</td>\n",
       "      <td>€ 0,50</td>\n",
       "    </tr>\n",
       "    <tr>\n",
       "      <th>2</th>\n",
       "      <td>Accessoires pour appareils Amazon</td>\n",
       "      <td>45%</td>\n",
       "      <td>€ 0,50</td>\n",
       "    </tr>\n",
       "    <tr>\n",
       "      <th>3</th>\n",
       "      <td>Auto et moto</td>\n",
       "      <td>15%</td>\n",
       "      <td>0,50 €</td>\n",
       "    </tr>\n",
       "    <tr>\n",
       "      <th>4</th>\n",
       "      <td>Bijoux ¹</td>\n",
       "      <td>20%</td>\n",
       "      <td>0,50 €</td>\n",
       "    </tr>\n",
       "    <tr>\n",
       "      <th>5</th>\n",
       "      <td>Bricolage</td>\n",
       "      <td>12%</td>\n",
       "      <td>0,50 €</td>\n",
       "    </tr>\n",
       "    <tr>\n",
       "      <th>6</th>\n",
       "      <td>Consoles de Jeux-Vidéo</td>\n",
       "      <td>8%</td>\n",
       "      <td>-</td>\n",
       "    </tr>\n",
       "    <tr>\n",
       "      <th>7</th>\n",
       "      <td>Gros Électroménager</td>\n",
       "      <td>7%</td>\n",
       "      <td>0,50 €</td>\n",
       "    </tr>\n",
       "    <tr>\n",
       "      <th>8</th>\n",
       "      <td>High-Tech</td>\n",
       "      <td>7%</td>\n",
       "      <td>0,50 €</td>\n",
       "    </tr>\n",
       "    <tr>\n",
       "      <th>9</th>\n",
       "      <td>Instruments de musique et Sono</td>\n",
       "      <td>12%</td>\n",
       "      <td>0,50 €</td>\n",
       "    </tr>\n",
       "    <tr>\n",
       "      <th>10</th>\n",
       "      <td>Livres, Musique, Vidéos, DVD</td>\n",
       "      <td>15%</td>\n",
       "      <td>-</td>\n",
       "    </tr>\n",
       "    <tr>\n",
       "      <th>11</th>\n",
       "      <td>Logiciels, Jeux Vidéos</td>\n",
       "      <td>15%*</td>\n",
       "      <td>-</td>\n",
       "    </tr>\n",
       "    <tr>\n",
       "      <th>12</th>\n",
       "      <td>Montres ¹</td>\n",
       "      <td>15%</td>\n",
       "      <td>1,50 €</td>\n",
       "    </tr>\n",
       "    <tr>\n",
       "      <th>13</th>\n",
       "      <td>Ordinateurs, Périphériques PC et Téléviseurs</td>\n",
       "      <td>5%</td>\n",
       "      <td>0,50 €</td>\n",
       "    </tr>\n",
       "    <tr>\n",
       "      <th>14</th>\n",
       "      <td>Pneus</td>\n",
       "      <td>10%</td>\n",
       "      <td>0,50 €</td>\n",
       "    </tr>\n",
       "    <tr>\n",
       "      <th>15</th>\n",
       "      <td>Toutes les autres catégories</td>\n",
       "      <td>15%</td>\n",
       "      <td>0,50 €</td>\n",
       "    </tr>\n",
       "    <tr>\n",
       "      <th>16</th>\n",
       "      <td>NaN</td>\n",
       "      <td>NaN</td>\n",
       "      <td>NaN</td>\n",
       "    </tr>\n",
       "  </tbody>\n",
       "</table>\n",
       "</div>"
      ],
      "text/plain": [
       "                                      Catégories  \\\n",
       "0                        Accessoires High Tech ¹   \n",
       "1                 Accessoires pour ordinateurs ¹   \n",
       "2              Accessoires pour appareils Amazon   \n",
       "3                                   Auto et moto   \n",
       "4                                       Bijoux ¹   \n",
       "5                                      Bricolage   \n",
       "6                         Consoles de Jeux-Vidéo   \n",
       "7                            Gros Électroménager   \n",
       "8                                      High-Tech   \n",
       "9                 Instruments de musique et Sono   \n",
       "10                  Livres, Musique, Vidéos, DVD   \n",
       "11                        Logiciels, Jeux Vidéos   \n",
       "12                                     Montres ¹   \n",
       "13  Ordinateurs, Périphériques PC et Téléviseurs   \n",
       "14                                         Pneus   \n",
       "15                  Toutes les autres catégories   \n",
       "16                                           NaN   \n",
       "\n",
       "   Pourcentage des frais de vente  \\\n",
       "0                           12%**   \n",
       "1                           12%**   \n",
       "2                             45%   \n",
       "3                             15%   \n",
       "4                             20%   \n",
       "5                             12%   \n",
       "6                              8%   \n",
       "7                              7%   \n",
       "8                              7%   \n",
       "9                             12%   \n",
       "10                            15%   \n",
       "11                           15%*   \n",
       "12                            15%   \n",
       "13                             5%   \n",
       "14                            10%   \n",
       "15                            15%   \n",
       "16                            NaN   \n",
       "\n",
       "   Frais de vente minimum applicable(appliqué par article, sauf mention contraire)  \n",
       "0                                              € 0,50                               \n",
       "1                                              € 0,50                               \n",
       "2                                              € 0,50                               \n",
       "3                                              0,50 €                               \n",
       "4                                              0,50 €                               \n",
       "5                                              0,50 €                               \n",
       "6                                                   -                               \n",
       "7                                              0,50 €                               \n",
       "8                                              0,50 €                               \n",
       "9                                              0,50 €                               \n",
       "10                                                  -                               \n",
       "11                                                  -                               \n",
       "12                                             1,50 €                               \n",
       "13                                             0,50 €                               \n",
       "14                                             0,50 €                               \n",
       "15                                             0,50 €                               \n",
       "16                                                NaN                               "
      ]
     },
     "execution_count": 133,
     "metadata": {},
     "output_type": "execute_result"
    }
   ],
   "source": [
    "pd.read_html(str(soup.find_all(class_='table-responsive')[0]))[0]"
   ]
  },
  {
   "cell_type": "code",
   "execution_count": 23,
   "metadata": {
    "scrolled": false
   },
   "outputs": [
    {
     "name": "stdout",
     "output_type": "stream",
     "text": [
      "Starting the call #129\n",
      "Sleeping for 17 seconds\n",
      "------------------------------------\n",
      "Starting the call #130\n",
      "Sleeping for 12 seconds\n",
      "------------------------------------\n",
      "Starting the call #131\n",
      "Sleeping for 17 seconds\n",
      "------------------------------------\n",
      "Starting the call #132\n",
      "Sleeping for 11 seconds\n",
      "------------------------------------\n",
      "Starting the call #133\n",
      "Sleeping for 20 seconds\n",
      "------------------------------------\n",
      "Starting the call #134\n",
      "Sleeping for 14 seconds\n",
      "------------------------------------\n",
      "Starting the call #135\n",
      "Sleeping for 16 seconds\n",
      "------------------------------------\n",
      "Starting the call #136\n",
      "Sleeping for 12 seconds\n",
      "------------------------------------\n",
      "Starting the call #137\n",
      "Sleeping for 13 seconds\n",
      "------------------------------------\n",
      "Starting the call #138\n",
      "Sleeping for 14 seconds\n",
      "------------------------------------\n",
      "Starting the call #139\n",
      "Sleeping for 18 seconds\n",
      "------------------------------------\n",
      "Starting the call #140\n",
      "Sleeping for 17 seconds\n",
      "------------------------------------\n",
      "Starting the call #141\n",
      "Sleeping for 20 seconds\n",
      "------------------------------------\n",
      "Starting the call #142\n",
      "Sleeping for 16 seconds\n",
      "------------------------------------\n",
      "Starting the call #143\n",
      "Sleeping for 18 seconds\n",
      "------------------------------------\n",
      "Starting the call #144\n",
      "Sleeping for 16 seconds\n",
      "------------------------------------\n",
      "Starting the call #145\n",
      "Sleeping for 14 seconds\n",
      "------------------------------------\n",
      "Starting the call #146\n",
      "Sleeping for 17 seconds\n",
      "------------------------------------\n",
      "Starting the call #147\n",
      "Sleeping for 17 seconds\n",
      "------------------------------------\n",
      "Starting the call #148\n",
      "Sleeping for 19 seconds\n",
      "------------------------------------\n",
      "Starting the call #149\n",
      "Sleeping for 12 seconds\n",
      "------------------------------------\n",
      "Starting the call #150\n",
      "Sleeping for 16 seconds\n",
      "------------------------------------\n",
      "Starting the call #151\n",
      "Sleeping for 19 seconds\n",
      "------------------------------------\n",
      "Starting the call #152\n",
      "Sleeping for 12 seconds\n",
      "------------------------------------\n",
      "Starting the call #153\n",
      "Sleeping for 10 seconds\n",
      "------------------------------------\n",
      "Starting the call #154\n",
      "Sleeping for 13 seconds\n",
      "------------------------------------\n",
      "Starting the call #155\n",
      "Starting the call #156\n",
      "Starting the call #157\n",
      "Starting the call #158\n",
      "Starting the call #159\n",
      "Starting the call #160\n",
      "Starting the call #161\n",
      "Starting the call #162\n",
      "Starting the call #163\n",
      "Starting the call #164\n",
      "Starting the call #165\n",
      "Starting the call #166\n",
      "Starting the call #167\n",
      "Starting the call #168\n",
      "Starting the call #169\n",
      "Starting the call #170\n",
      "Starting the call #171\n"
     ]
    },
    {
     "ename": "ConnectionError",
     "evalue": "HTTPSConnectionPool(host='web.archive.org', port=443): Max retries exceeded with url: /web/20190723082136/https://services.amazon.fr/services/vendre-sur-internet/tarifs.html (Caused by NewConnectionError('<urllib3.connection.HTTPSConnection object at 0x115913450>: Failed to establish a new connection: [Errno 61] Connection refused'))",
     "output_type": "error",
     "traceback": [
      "\u001b[0;31m---------------------------------------------------------------------------\u001b[0m",
      "\u001b[0;31mConnectionRefusedError\u001b[0m                    Traceback (most recent call last)",
      "\u001b[0;32m~/.pyenv/versions/3.7.7/envs/lewagon-data/lib/python3.7/site-packages/urllib3/connection.py\u001b[0m in \u001b[0;36m_new_conn\u001b[0;34m(self)\u001b[0m\n\u001b[1;32m    174\u001b[0m             conn = connection.create_connection(\n\u001b[0;32m--> 175\u001b[0;31m                 \u001b[0;34m(\u001b[0m\u001b[0mself\u001b[0m\u001b[0;34m.\u001b[0m\u001b[0m_dns_host\u001b[0m\u001b[0;34m,\u001b[0m \u001b[0mself\u001b[0m\u001b[0;34m.\u001b[0m\u001b[0mport\u001b[0m\u001b[0;34m)\u001b[0m\u001b[0;34m,\u001b[0m \u001b[0mself\u001b[0m\u001b[0;34m.\u001b[0m\u001b[0mtimeout\u001b[0m\u001b[0;34m,\u001b[0m \u001b[0;34m**\u001b[0m\u001b[0mextra_kw\u001b[0m\u001b[0;34m\u001b[0m\u001b[0;34m\u001b[0m\u001b[0m\n\u001b[0m\u001b[1;32m    176\u001b[0m             )\n",
      "\u001b[0;32m~/.pyenv/versions/3.7.7/envs/lewagon-data/lib/python3.7/site-packages/urllib3/util/connection.py\u001b[0m in \u001b[0;36mcreate_connection\u001b[0;34m(address, timeout, source_address, socket_options)\u001b[0m\n\u001b[1;32m     94\u001b[0m     \u001b[0;32mif\u001b[0m \u001b[0merr\u001b[0m \u001b[0;32mis\u001b[0m \u001b[0;32mnot\u001b[0m \u001b[0;32mNone\u001b[0m\u001b[0;34m:\u001b[0m\u001b[0;34m\u001b[0m\u001b[0;34m\u001b[0m\u001b[0m\n\u001b[0;32m---> 95\u001b[0;31m         \u001b[0;32mraise\u001b[0m \u001b[0merr\u001b[0m\u001b[0;34m\u001b[0m\u001b[0;34m\u001b[0m\u001b[0m\n\u001b[0m\u001b[1;32m     96\u001b[0m \u001b[0;34m\u001b[0m\u001b[0m\n",
      "\u001b[0;32m~/.pyenv/versions/3.7.7/envs/lewagon-data/lib/python3.7/site-packages/urllib3/util/connection.py\u001b[0m in \u001b[0;36mcreate_connection\u001b[0;34m(address, timeout, source_address, socket_options)\u001b[0m\n\u001b[1;32m     84\u001b[0m                 \u001b[0msock\u001b[0m\u001b[0;34m.\u001b[0m\u001b[0mbind\u001b[0m\u001b[0;34m(\u001b[0m\u001b[0msource_address\u001b[0m\u001b[0;34m)\u001b[0m\u001b[0;34m\u001b[0m\u001b[0;34m\u001b[0m\u001b[0m\n\u001b[0;32m---> 85\u001b[0;31m             \u001b[0msock\u001b[0m\u001b[0;34m.\u001b[0m\u001b[0mconnect\u001b[0m\u001b[0;34m(\u001b[0m\u001b[0msa\u001b[0m\u001b[0;34m)\u001b[0m\u001b[0;34m\u001b[0m\u001b[0;34m\u001b[0m\u001b[0m\n\u001b[0m\u001b[1;32m     86\u001b[0m             \u001b[0;32mreturn\u001b[0m \u001b[0msock\u001b[0m\u001b[0;34m\u001b[0m\u001b[0;34m\u001b[0m\u001b[0m\n",
      "\u001b[0;31mConnectionRefusedError\u001b[0m: [Errno 61] Connection refused",
      "\nDuring handling of the above exception, another exception occurred:\n",
      "\u001b[0;31mNewConnectionError\u001b[0m                        Traceback (most recent call last)",
      "\u001b[0;32m~/.pyenv/versions/3.7.7/envs/lewagon-data/lib/python3.7/site-packages/urllib3/connectionpool.py\u001b[0m in \u001b[0;36murlopen\u001b[0;34m(self, method, url, body, headers, retries, redirect, assert_same_host, timeout, pool_timeout, release_conn, chunked, body_pos, **response_kw)\u001b[0m\n\u001b[1;32m    721\u001b[0m                 \u001b[0mheaders\u001b[0m\u001b[0;34m=\u001b[0m\u001b[0mheaders\u001b[0m\u001b[0;34m,\u001b[0m\u001b[0;34m\u001b[0m\u001b[0;34m\u001b[0m\u001b[0m\n\u001b[0;32m--> 722\u001b[0;31m                 \u001b[0mchunked\u001b[0m\u001b[0;34m=\u001b[0m\u001b[0mchunked\u001b[0m\u001b[0;34m,\u001b[0m\u001b[0;34m\u001b[0m\u001b[0;34m\u001b[0m\u001b[0m\n\u001b[0m\u001b[1;32m    723\u001b[0m             )\n",
      "\u001b[0;32m~/.pyenv/versions/3.7.7/envs/lewagon-data/lib/python3.7/site-packages/urllib3/connectionpool.py\u001b[0m in \u001b[0;36m_make_request\u001b[0;34m(self, conn, method, url, timeout, chunked, **httplib_request_kw)\u001b[0m\n\u001b[1;32m    403\u001b[0m         \u001b[0;32mtry\u001b[0m\u001b[0;34m:\u001b[0m\u001b[0;34m\u001b[0m\u001b[0;34m\u001b[0m\u001b[0m\n\u001b[0;32m--> 404\u001b[0;31m             \u001b[0mself\u001b[0m\u001b[0;34m.\u001b[0m\u001b[0m_validate_conn\u001b[0m\u001b[0;34m(\u001b[0m\u001b[0mconn\u001b[0m\u001b[0;34m)\u001b[0m\u001b[0;34m\u001b[0m\u001b[0;34m\u001b[0m\u001b[0m\n\u001b[0m\u001b[1;32m    405\u001b[0m         \u001b[0;32mexcept\u001b[0m \u001b[0;34m(\u001b[0m\u001b[0mSocketTimeout\u001b[0m\u001b[0;34m,\u001b[0m \u001b[0mBaseSSLError\u001b[0m\u001b[0;34m)\u001b[0m \u001b[0;32mas\u001b[0m \u001b[0me\u001b[0m\u001b[0;34m:\u001b[0m\u001b[0;34m\u001b[0m\u001b[0;34m\u001b[0m\u001b[0m\n",
      "\u001b[0;32m~/.pyenv/versions/3.7.7/envs/lewagon-data/lib/python3.7/site-packages/urllib3/connectionpool.py\u001b[0m in \u001b[0;36m_validate_conn\u001b[0;34m(self, conn)\u001b[0m\n\u001b[1;32m   1057\u001b[0m         \u001b[0;32mif\u001b[0m \u001b[0;32mnot\u001b[0m \u001b[0mgetattr\u001b[0m\u001b[0;34m(\u001b[0m\u001b[0mconn\u001b[0m\u001b[0;34m,\u001b[0m \u001b[0;34m\"sock\"\u001b[0m\u001b[0;34m,\u001b[0m \u001b[0;32mNone\u001b[0m\u001b[0;34m)\u001b[0m\u001b[0;34m:\u001b[0m  \u001b[0;31m# AppEngine might not have  `.sock`\u001b[0m\u001b[0;34m\u001b[0m\u001b[0;34m\u001b[0m\u001b[0m\n\u001b[0;32m-> 1058\u001b[0;31m             \u001b[0mconn\u001b[0m\u001b[0;34m.\u001b[0m\u001b[0mconnect\u001b[0m\u001b[0;34m(\u001b[0m\u001b[0;34m)\u001b[0m\u001b[0;34m\u001b[0m\u001b[0;34m\u001b[0m\u001b[0m\n\u001b[0m\u001b[1;32m   1059\u001b[0m \u001b[0;34m\u001b[0m\u001b[0m\n",
      "\u001b[0;32m~/.pyenv/versions/3.7.7/envs/lewagon-data/lib/python3.7/site-packages/urllib3/connection.py\u001b[0m in \u001b[0;36mconnect\u001b[0;34m(self)\u001b[0m\n\u001b[1;32m    362\u001b[0m         \u001b[0;31m# Add certificate verification\u001b[0m\u001b[0;34m\u001b[0m\u001b[0;34m\u001b[0m\u001b[0;34m\u001b[0m\u001b[0m\n\u001b[0;32m--> 363\u001b[0;31m         \u001b[0mself\u001b[0m\u001b[0;34m.\u001b[0m\u001b[0msock\u001b[0m \u001b[0;34m=\u001b[0m \u001b[0mconn\u001b[0m \u001b[0;34m=\u001b[0m \u001b[0mself\u001b[0m\u001b[0;34m.\u001b[0m\u001b[0m_new_conn\u001b[0m\u001b[0;34m(\u001b[0m\u001b[0;34m)\u001b[0m\u001b[0;34m\u001b[0m\u001b[0;34m\u001b[0m\u001b[0m\n\u001b[0m\u001b[1;32m    364\u001b[0m         \u001b[0mhostname\u001b[0m \u001b[0;34m=\u001b[0m \u001b[0mself\u001b[0m\u001b[0;34m.\u001b[0m\u001b[0mhost\u001b[0m\u001b[0;34m\u001b[0m\u001b[0;34m\u001b[0m\u001b[0m\n",
      "\u001b[0;32m~/.pyenv/versions/3.7.7/envs/lewagon-data/lib/python3.7/site-packages/urllib3/connection.py\u001b[0m in \u001b[0;36m_new_conn\u001b[0;34m(self)\u001b[0m\n\u001b[1;32m    186\u001b[0m             raise NewConnectionError(\n\u001b[0;32m--> 187\u001b[0;31m                 \u001b[0mself\u001b[0m\u001b[0;34m,\u001b[0m \u001b[0;34m\"Failed to establish a new connection: %s\"\u001b[0m \u001b[0;34m%\u001b[0m \u001b[0me\u001b[0m\u001b[0;34m\u001b[0m\u001b[0;34m\u001b[0m\u001b[0m\n\u001b[0m\u001b[1;32m    188\u001b[0m             )\n",
      "\u001b[0;31mNewConnectionError\u001b[0m: <urllib3.connection.HTTPSConnection object at 0x115913450>: Failed to establish a new connection: [Errno 61] Connection refused",
      "\nDuring handling of the above exception, another exception occurred:\n",
      "\u001b[0;31mMaxRetryError\u001b[0m                             Traceback (most recent call last)",
      "\u001b[0;32m~/.pyenv/versions/3.7.7/envs/lewagon-data/lib/python3.7/site-packages/requests/adapters.py\u001b[0m in \u001b[0;36msend\u001b[0;34m(self, request, stream, timeout, verify, cert, proxies)\u001b[0m\n\u001b[1;32m    448\u001b[0m                     \u001b[0mretries\u001b[0m\u001b[0;34m=\u001b[0m\u001b[0mself\u001b[0m\u001b[0;34m.\u001b[0m\u001b[0mmax_retries\u001b[0m\u001b[0;34m,\u001b[0m\u001b[0;34m\u001b[0m\u001b[0;34m\u001b[0m\u001b[0m\n\u001b[0;32m--> 449\u001b[0;31m                     \u001b[0mtimeout\u001b[0m\u001b[0;34m=\u001b[0m\u001b[0mtimeout\u001b[0m\u001b[0;34m\u001b[0m\u001b[0;34m\u001b[0m\u001b[0m\n\u001b[0m\u001b[1;32m    450\u001b[0m                 )\n",
      "\u001b[0;32m~/.pyenv/versions/3.7.7/envs/lewagon-data/lib/python3.7/site-packages/urllib3/connectionpool.py\u001b[0m in \u001b[0;36murlopen\u001b[0;34m(self, method, url, body, headers, retries, redirect, assert_same_host, timeout, pool_timeout, release_conn, chunked, body_pos, **response_kw)\u001b[0m\n\u001b[1;32m    799\u001b[0m             retries = retries.increment(\n\u001b[0;32m--> 800\u001b[0;31m                 \u001b[0mmethod\u001b[0m\u001b[0;34m,\u001b[0m \u001b[0murl\u001b[0m\u001b[0;34m,\u001b[0m \u001b[0merror\u001b[0m\u001b[0;34m=\u001b[0m\u001b[0me\u001b[0m\u001b[0;34m,\u001b[0m \u001b[0m_pool\u001b[0m\u001b[0;34m=\u001b[0m\u001b[0mself\u001b[0m\u001b[0;34m,\u001b[0m \u001b[0m_stacktrace\u001b[0m\u001b[0;34m=\u001b[0m\u001b[0msys\u001b[0m\u001b[0;34m.\u001b[0m\u001b[0mexc_info\u001b[0m\u001b[0;34m(\u001b[0m\u001b[0;34m)\u001b[0m\u001b[0;34m[\u001b[0m\u001b[0;36m2\u001b[0m\u001b[0;34m]\u001b[0m\u001b[0;34m\u001b[0m\u001b[0;34m\u001b[0m\u001b[0m\n\u001b[0m\u001b[1;32m    801\u001b[0m             )\n",
      "\u001b[0;32m~/.pyenv/versions/3.7.7/envs/lewagon-data/lib/python3.7/site-packages/urllib3/util/retry.py\u001b[0m in \u001b[0;36mincrement\u001b[0;34m(self, method, url, response, error, _pool, _stacktrace)\u001b[0m\n\u001b[1;32m    591\u001b[0m         \u001b[0;32mif\u001b[0m \u001b[0mnew_retry\u001b[0m\u001b[0;34m.\u001b[0m\u001b[0mis_exhausted\u001b[0m\u001b[0;34m(\u001b[0m\u001b[0;34m)\u001b[0m\u001b[0;34m:\u001b[0m\u001b[0;34m\u001b[0m\u001b[0;34m\u001b[0m\u001b[0m\n\u001b[0;32m--> 592\u001b[0;31m             \u001b[0;32mraise\u001b[0m \u001b[0mMaxRetryError\u001b[0m\u001b[0;34m(\u001b[0m\u001b[0m_pool\u001b[0m\u001b[0;34m,\u001b[0m \u001b[0murl\u001b[0m\u001b[0;34m,\u001b[0m \u001b[0merror\u001b[0m \u001b[0;32mor\u001b[0m \u001b[0mResponseError\u001b[0m\u001b[0;34m(\u001b[0m\u001b[0mcause\u001b[0m\u001b[0;34m)\u001b[0m\u001b[0;34m)\u001b[0m\u001b[0;34m\u001b[0m\u001b[0;34m\u001b[0m\u001b[0m\n\u001b[0m\u001b[1;32m    593\u001b[0m \u001b[0;34m\u001b[0m\u001b[0m\n",
      "\u001b[0;31mMaxRetryError\u001b[0m: HTTPSConnectionPool(host='web.archive.org', port=443): Max retries exceeded with url: /web/20190723082136/https://services.amazon.fr/services/vendre-sur-internet/tarifs.html (Caused by NewConnectionError('<urllib3.connection.HTTPSConnection object at 0x115913450>: Failed to establish a new connection: [Errno 61] Connection refused'))",
      "\nDuring handling of the above exception, another exception occurred:\n",
      "\u001b[0;31mConnectionError\u001b[0m                           Traceback (most recent call last)",
      "\u001b[0;32m<ipython-input-23-8352adf82f7b>\u001b[0m in \u001b[0;36m<module>\u001b[0;34m\u001b[0m\n\u001b[1;32m      5\u001b[0m     \u001b[0mfinal_url\u001b[0m \u001b[0;34m=\u001b[0m \u001b[0mwayback_machine_url_root\u001b[0m \u001b[0;34m+\u001b[0m \u001b[0murl_dict\u001b[0m\u001b[0;34m[\u001b[0m\u001b[0;34m'url'\u001b[0m\u001b[0;34m]\u001b[0m\u001b[0;34m[\u001b[0m\u001b[0mi\u001b[0m\u001b[0;34m]\u001b[0m\u001b[0;34m\u001b[0m\u001b[0;34m\u001b[0m\u001b[0m\n\u001b[1;32m      6\u001b[0m \u001b[0;34m\u001b[0m\u001b[0m\n\u001b[0;32m----> 7\u001b[0;31m     \u001b[0mresponse\u001b[0m \u001b[0;34m=\u001b[0m \u001b[0mrequests\u001b[0m\u001b[0;34m.\u001b[0m\u001b[0mget\u001b[0m\u001b[0;34m(\u001b[0m\u001b[0mfinal_url\u001b[0m\u001b[0;34m)\u001b[0m\u001b[0;34m\u001b[0m\u001b[0;34m\u001b[0m\u001b[0m\n\u001b[0m\u001b[1;32m      8\u001b[0m     \u001b[0msoup\u001b[0m \u001b[0;34m=\u001b[0m \u001b[0mBeautifulSoup\u001b[0m\u001b[0;34m(\u001b[0m\u001b[0mresponse\u001b[0m\u001b[0;34m.\u001b[0m\u001b[0mtext\u001b[0m\u001b[0;34m,\u001b[0m \u001b[0;34m\"html.parser\"\u001b[0m\u001b[0;34m)\u001b[0m\u001b[0;34m\u001b[0m\u001b[0;34m\u001b[0m\u001b[0m\n\u001b[1;32m      9\u001b[0m \u001b[0;34m\u001b[0m\u001b[0m\n",
      "\u001b[0;32m~/.pyenv/versions/3.7.7/envs/lewagon-data/lib/python3.7/site-packages/requests/api.py\u001b[0m in \u001b[0;36mget\u001b[0;34m(url, params, **kwargs)\u001b[0m\n\u001b[1;32m     74\u001b[0m \u001b[0;34m\u001b[0m\u001b[0m\n\u001b[1;32m     75\u001b[0m     \u001b[0mkwargs\u001b[0m\u001b[0;34m.\u001b[0m\u001b[0msetdefault\u001b[0m\u001b[0;34m(\u001b[0m\u001b[0;34m'allow_redirects'\u001b[0m\u001b[0;34m,\u001b[0m \u001b[0;32mTrue\u001b[0m\u001b[0;34m)\u001b[0m\u001b[0;34m\u001b[0m\u001b[0;34m\u001b[0m\u001b[0m\n\u001b[0;32m---> 76\u001b[0;31m     \u001b[0;32mreturn\u001b[0m \u001b[0mrequest\u001b[0m\u001b[0;34m(\u001b[0m\u001b[0;34m'get'\u001b[0m\u001b[0;34m,\u001b[0m \u001b[0murl\u001b[0m\u001b[0;34m,\u001b[0m \u001b[0mparams\u001b[0m\u001b[0;34m=\u001b[0m\u001b[0mparams\u001b[0m\u001b[0;34m,\u001b[0m \u001b[0;34m**\u001b[0m\u001b[0mkwargs\u001b[0m\u001b[0;34m)\u001b[0m\u001b[0;34m\u001b[0m\u001b[0;34m\u001b[0m\u001b[0m\n\u001b[0m\u001b[1;32m     77\u001b[0m \u001b[0;34m\u001b[0m\u001b[0m\n\u001b[1;32m     78\u001b[0m \u001b[0;34m\u001b[0m\u001b[0m\n",
      "\u001b[0;32m~/.pyenv/versions/3.7.7/envs/lewagon-data/lib/python3.7/site-packages/requests/api.py\u001b[0m in \u001b[0;36mrequest\u001b[0;34m(method, url, **kwargs)\u001b[0m\n\u001b[1;32m     59\u001b[0m     \u001b[0;31m# cases, and look like a memory leak in others.\u001b[0m\u001b[0;34m\u001b[0m\u001b[0;34m\u001b[0m\u001b[0;34m\u001b[0m\u001b[0m\n\u001b[1;32m     60\u001b[0m     \u001b[0;32mwith\u001b[0m \u001b[0msessions\u001b[0m\u001b[0;34m.\u001b[0m\u001b[0mSession\u001b[0m\u001b[0;34m(\u001b[0m\u001b[0;34m)\u001b[0m \u001b[0;32mas\u001b[0m \u001b[0msession\u001b[0m\u001b[0;34m:\u001b[0m\u001b[0;34m\u001b[0m\u001b[0;34m\u001b[0m\u001b[0m\n\u001b[0;32m---> 61\u001b[0;31m         \u001b[0;32mreturn\u001b[0m \u001b[0msession\u001b[0m\u001b[0;34m.\u001b[0m\u001b[0mrequest\u001b[0m\u001b[0;34m(\u001b[0m\u001b[0mmethod\u001b[0m\u001b[0;34m=\u001b[0m\u001b[0mmethod\u001b[0m\u001b[0;34m,\u001b[0m \u001b[0murl\u001b[0m\u001b[0;34m=\u001b[0m\u001b[0murl\u001b[0m\u001b[0;34m,\u001b[0m \u001b[0;34m**\u001b[0m\u001b[0mkwargs\u001b[0m\u001b[0;34m)\u001b[0m\u001b[0;34m\u001b[0m\u001b[0;34m\u001b[0m\u001b[0m\n\u001b[0m\u001b[1;32m     62\u001b[0m \u001b[0;34m\u001b[0m\u001b[0m\n\u001b[1;32m     63\u001b[0m \u001b[0;34m\u001b[0m\u001b[0m\n",
      "\u001b[0;32m~/.pyenv/versions/3.7.7/envs/lewagon-data/lib/python3.7/site-packages/requests/sessions.py\u001b[0m in \u001b[0;36mrequest\u001b[0;34m(self, method, url, params, data, headers, cookies, files, auth, timeout, allow_redirects, proxies, hooks, stream, verify, cert, json)\u001b[0m\n\u001b[1;32m    540\u001b[0m         }\n\u001b[1;32m    541\u001b[0m         \u001b[0msend_kwargs\u001b[0m\u001b[0;34m.\u001b[0m\u001b[0mupdate\u001b[0m\u001b[0;34m(\u001b[0m\u001b[0msettings\u001b[0m\u001b[0;34m)\u001b[0m\u001b[0;34m\u001b[0m\u001b[0;34m\u001b[0m\u001b[0m\n\u001b[0;32m--> 542\u001b[0;31m         \u001b[0mresp\u001b[0m \u001b[0;34m=\u001b[0m \u001b[0mself\u001b[0m\u001b[0;34m.\u001b[0m\u001b[0msend\u001b[0m\u001b[0;34m(\u001b[0m\u001b[0mprep\u001b[0m\u001b[0;34m,\u001b[0m \u001b[0;34m**\u001b[0m\u001b[0msend_kwargs\u001b[0m\u001b[0;34m)\u001b[0m\u001b[0;34m\u001b[0m\u001b[0;34m\u001b[0m\u001b[0m\n\u001b[0m\u001b[1;32m    543\u001b[0m \u001b[0;34m\u001b[0m\u001b[0m\n\u001b[1;32m    544\u001b[0m         \u001b[0;32mreturn\u001b[0m \u001b[0mresp\u001b[0m\u001b[0;34m\u001b[0m\u001b[0;34m\u001b[0m\u001b[0m\n",
      "\u001b[0;32m~/.pyenv/versions/3.7.7/envs/lewagon-data/lib/python3.7/site-packages/requests/sessions.py\u001b[0m in \u001b[0;36msend\u001b[0;34m(self, request, **kwargs)\u001b[0m\n\u001b[1;32m    653\u001b[0m \u001b[0;34m\u001b[0m\u001b[0m\n\u001b[1;32m    654\u001b[0m         \u001b[0;31m# Send the request\u001b[0m\u001b[0;34m\u001b[0m\u001b[0;34m\u001b[0m\u001b[0;34m\u001b[0m\u001b[0m\n\u001b[0;32m--> 655\u001b[0;31m         \u001b[0mr\u001b[0m \u001b[0;34m=\u001b[0m \u001b[0madapter\u001b[0m\u001b[0;34m.\u001b[0m\u001b[0msend\u001b[0m\u001b[0;34m(\u001b[0m\u001b[0mrequest\u001b[0m\u001b[0;34m,\u001b[0m \u001b[0;34m**\u001b[0m\u001b[0mkwargs\u001b[0m\u001b[0;34m)\u001b[0m\u001b[0;34m\u001b[0m\u001b[0;34m\u001b[0m\u001b[0m\n\u001b[0m\u001b[1;32m    656\u001b[0m \u001b[0;34m\u001b[0m\u001b[0m\n\u001b[1;32m    657\u001b[0m         \u001b[0;31m# Total elapsed time of the request (approximately)\u001b[0m\u001b[0;34m\u001b[0m\u001b[0;34m\u001b[0m\u001b[0;34m\u001b[0m\u001b[0m\n",
      "\u001b[0;32m~/.pyenv/versions/3.7.7/envs/lewagon-data/lib/python3.7/site-packages/requests/adapters.py\u001b[0m in \u001b[0;36msend\u001b[0;34m(self, request, stream, timeout, verify, cert, proxies)\u001b[0m\n\u001b[1;32m    514\u001b[0m                 \u001b[0;32mraise\u001b[0m \u001b[0mSSLError\u001b[0m\u001b[0;34m(\u001b[0m\u001b[0me\u001b[0m\u001b[0;34m,\u001b[0m \u001b[0mrequest\u001b[0m\u001b[0;34m=\u001b[0m\u001b[0mrequest\u001b[0m\u001b[0;34m)\u001b[0m\u001b[0;34m\u001b[0m\u001b[0;34m\u001b[0m\u001b[0m\n\u001b[1;32m    515\u001b[0m \u001b[0;34m\u001b[0m\u001b[0m\n\u001b[0;32m--> 516\u001b[0;31m             \u001b[0;32mraise\u001b[0m \u001b[0mConnectionError\u001b[0m\u001b[0;34m(\u001b[0m\u001b[0me\u001b[0m\u001b[0;34m,\u001b[0m \u001b[0mrequest\u001b[0m\u001b[0;34m=\u001b[0m\u001b[0mrequest\u001b[0m\u001b[0;34m)\u001b[0m\u001b[0;34m\u001b[0m\u001b[0;34m\u001b[0m\u001b[0m\n\u001b[0m\u001b[1;32m    517\u001b[0m \u001b[0;34m\u001b[0m\u001b[0m\n\u001b[1;32m    518\u001b[0m         \u001b[0;32mexcept\u001b[0m \u001b[0mClosedPoolError\u001b[0m \u001b[0;32mas\u001b[0m \u001b[0me\u001b[0m\u001b[0;34m:\u001b[0m\u001b[0;34m\u001b[0m\u001b[0;34m\u001b[0m\u001b[0m\n",
      "\u001b[0;31mConnectionError\u001b[0m: HTTPSConnectionPool(host='web.archive.org', port=443): Max retries exceeded with url: /web/20190723082136/https://services.amazon.fr/services/vendre-sur-internet/tarifs.html (Caused by NewConnectionError('<urllib3.connection.HTTPSConnection object at 0x115913450>: Failed to establish a new connection: [Errno 61] Connection refused'))"
     ]
    }
   ],
   "source": [
    "for i in range(128, 128 + len(url_dict['url'][128:])):\n",
    "    \n",
    "    print(f\"Starting the call #{i + 1}\")\n",
    "    \n",
    "    final_url = wayback_machine_url_root + url_dict['url'][i]\n",
    "    \n",
    "    response = requests.get(final_url)\n",
    "    soup = BeautifulSoup(response.text, \"html.parser\")\n",
    "    \n",
    "    if len(soup.find_all(class_='categoryComissionTable')) > 0:\n",
    "        main_commission_table_str = str(soup.find_all(class_='categoryComissionTable')[0])\n",
    "        \n",
    "    elif len(soup.find_all(class_='table commision-info')) > 0:\n",
    "        main_commission_table_str = str(soup.find_all(class_='table commision-info')[0])\n",
    "        \n",
    "    elif len(soup.find_all(class_='table-responsive')) > 0:\n",
    "        main_commission_table_str = str(soup.find_all(class_='table-responsive')[0])\n",
    "        \n",
    "    else:\n",
    "        continue\n",
    "\n",
    "    # The following lines remove the table notes that cannot be read with Pandas\n",
    "    # idx_left = main_commission_table_str.rfind('<tr')\n",
    "    # idx_right = main_commission_table_str.rfind('</tr>') + len('</tr>')\n",
    "\n",
    "    # main_commission_table_str = main_commission_table_str.replace(\n",
    "    #     main_commission_table_str[idx_left:idx_right],\n",
    "    #     ''\n",
    "    # )\n",
    "\n",
    "    # We convert into a DataFrame\n",
    "    main_commission_df = pd.read_html(main_commission_table_str)[0]\n",
    "\n",
    "    # We clean the DataFrame\n",
    "    cols = main_commission_df.columns\n",
    "    \n",
    "    main_commission_df[cols[0]] = main_commission_df[cols[0]].map(\n",
    "        (\n",
    "            lambda category: category.strip().replace(\"*\", \"\").lower().replace('-', ' ')\n",
    "            if isinstance(category, str) else category\n",
    "        )\n",
    "    )\n",
    "    main_commission_df[cols[1]] = main_commission_df[cols[1]].map(\n",
    "        lambda commission: commission.replace(\",\", \".\").replace(\"%\", \"\").replace('*', '').replace(\" \", \"\")\n",
    "        if isinstance(commission, str) else commission\n",
    "    )\n",
    "    \n",
    "    main_commission_df = main_commission_df.rename(\n",
    "        columns={cols[0]: 'category', cols[1]: 'commission'}\n",
    "    )\n",
    "    \n",
    "    if len(cols) == 3:\n",
    "        main_commission_df[cols[2]] = main_commission_df[cols[2]].map(\n",
    "            lambda min_fee: min_fee.replace(\",\", \".\").replace(\"€\", \"\").replace('*', '').replace(\" \", \"\")\n",
    "            if isinstance(min_fee, str) else min_fee\n",
    "        )\n",
    "        main_commission_df = main_commission_df.rename(columns={cols[2]: 'min_sales_fee'})\n",
    "\n",
    "    # We add the time stamp\n",
    "    main_commission_df['timestamp'] = url_dict['timestamp'][i]\n",
    "    \n",
    "    if i == 0:\n",
    "        full_df = main_commission_df.copy()\n",
    "        \n",
    "    else:\n",
    "        full_df = pd.concat([full_df, main_commission_df])\n",
    "        \n",
    "    sleep_time = random.randint(10, 20)\n",
    "    print(f\"Sleeping for {sleep_time} seconds\")\n",
    "    time.sleep(sleep_time)\n",
    "    \n",
    "    print('------------------------------------')"
   ]
  },
  {
   "cell_type": "code",
   "execution_count": 33,
   "metadata": {},
   "outputs": [],
   "source": [
    "full_df['category'] = full_df['category'].map(\n",
    "    (\n",
    "        lambda category: category.replace('1', '').replace('2', '').replace('¹', '').strip()\n",
    "        if isinstance(category, str) else category\n",
    "    )\n",
    ")"
   ]
  },
  {
   "cell_type": "code",
   "execution_count": 37,
   "metadata": {},
   "outputs": [],
   "source": [
    "full_df = full_df[\n",
    "    ~full_df['category'].map(\n",
    "        (\n",
    "            lambda category: category.startswith('une autorisation est')\n",
    "            if isinstance(category, str) else False\n",
    "        )\n",
    "    )\n",
    "].copy()"
   ]
  },
  {
   "cell_type": "code",
   "execution_count": 40,
   "metadata": {},
   "outputs": [],
   "source": [
    "full_df = full_df[\n",
    "    ~full_df['category'].map(\n",
    "        (\n",
    "            lambda category: category.startswith('pour vendre')\n",
    "            if isinstance(category, str) else False\n",
    "        )\n",
    "    )\n",
    "].copy()"
   ]
  },
  {
   "cell_type": "code",
   "execution_count": 44,
   "metadata": {},
   "outputs": [],
   "source": [
    "full_df = full_df[~full_df['category'].isnull()].copy()"
   ]
  },
  {
   "cell_type": "code",
   "execution_count": 46,
   "metadata": {},
   "outputs": [
    {
     "data": {
      "text/plain": [
       "['accessoires high tech',\n",
       " 'accessoires high tech & informatique',\n",
       " 'accessoires kindle',\n",
       " 'accessoires pour appareils amazon',\n",
       " 'accessoires pour ordinateurs',\n",
       " 'alimentation',\n",
       " 'auto et moto',\n",
       " 'bijoux',\n",
       " 'bricolage',\n",
       " 'catégories',\n",
       " 'commerce, industrie et science',\n",
       " 'consoles de jeux vidéo',\n",
       " 'dvd',\n",
       " 'fourniture de bureau',\n",
       " 'fournitures électriques industrielles',\n",
       " 'gros électroménager',\n",
       " 'high tech',\n",
       " 'impression et numerisation 3d',\n",
       " 'informatique',\n",
       " 'instruments de musique et sono',\n",
       " 'jeux et jouets',\n",
       " 'jeux vidéo',\n",
       " 'jeux vidéo et consoles',\n",
       " 'livres',\n",
       " 'livres, musique, vidéos, dvd',\n",
       " 'livres, vidéos, dvd',\n",
       " 'logiciels',\n",
       " 'logiciels, jeux vidéos',\n",
       " 'manutention de matériel',\n",
       " 'montres',\n",
       " 'musique',\n",
       " 'médias (livres, musique, vidéos, dvds)',\n",
       " 'ordinateurs, périphériques pc et téléviseurs',\n",
       " 'outils manuels et électriques',\n",
       " 'pneus',\n",
       " 'services alimentaires',\n",
       " 'toutes les autres catégories',\n",
       " 'travail métallurgique']"
      ]
     },
     "execution_count": 46,
     "metadata": {},
     "output_type": "execute_result"
    }
   ],
   "source": [
    "sorted(full_df['category'].unique())"
   ]
  },
  {
   "cell_type": "code",
   "execution_count": 49,
   "metadata": {},
   "outputs": [],
   "source": [
    "full_df['timestamp_dt'] = pd.to_datetime(full_df['timestamp'])"
   ]
  },
  {
   "cell_type": "code",
   "execution_count": 54,
   "metadata": {},
   "outputs": [],
   "source": [
    "full_df = full_df[\n",
    "    ~full_df['commission'].isin(\n",
    "        ['12avecunfraisdeventeminimumparunitéde0.50€', \"Pourcentagedesfraisdevente\"]\n",
    "    )\n",
    "].copy()\n",
    "\n",
    "full_df['commission'] = full_df['commission'].astype(float)"
   ]
  },
  {
   "cell_type": "code",
   "execution_count": 77,
   "metadata": {},
   "outputs": [
    {
     "data": {
      "text/plain": [
       "Index(['instruments de musique et sono', 'toutes les autres catégories',\n",
       "       'bijoux', 'high tech', 'gros électroménager',\n",
       "       'ordinateurs, périphériques pc et téléviseurs',\n",
       "       'consoles de jeux vidéo', 'pneus', 'bricolage'],\n",
       "      dtype='object', name='category')"
      ]
     },
     "execution_count": 77,
     "metadata": {},
     "output_type": "execute_result"
    }
   ],
   "source": [
    "ser = full_df.groupby('category').count()['timestamp'].sort_values(ascending=False)\n",
    "ser[ser > 100].index"
   ]
  },
  {
   "cell_type": "code",
   "execution_count": 92,
   "metadata": {},
   "outputs": [
    {
     "data": {
      "image/png": "[encoded data removed]",
      "text/plain": [
       "<Figure size 576x720 with 1 Axes>"
      ]
     },
     "metadata": {
      "needs_background": "light"
     },
     "output_type": "display_data"
    }
   ],
   "source": [
    "import matplotlib.pyplot as plt\n",
    "\n",
    "plt.rcParams.update({'font.size': 12})\n",
    "\n",
    "plt.figure(figsize=(8, 10))\n",
    "\n",
    "for category in ser[ser > 100].index:\n",
    "    \n",
    "    temp_df = full_df[full_df['category'] == category].copy()\n",
    "    \n",
    "    plt.plot(temp_df['timestamp_dt'], temp_df['commission'], label=category)\n",
    "    \n",
    "plt.xticks(rotation=90)\n",
    "plt.legend()\n",
    "plt.show()"
   ]
  },
  {
   "cell_type": "code",
   "execution_count": null,
   "metadata": {},
   "outputs": [],
   "source": []
  },
  {
   "cell_type": "code",
   "execution_count": 38,
   "metadata": {},
   "outputs": [],
   "source": [
    "full_df_copy = full_df.copy()"
   ]
  },
  {
   "cell_type": "code",
   "execution_count": null,
   "metadata": {},
   "outputs": [],
   "source": []
  },
  {
   "cell_type": "code",
   "execution_count": 28,
   "metadata": {},
   "outputs": [
    {
     "data": {
      "text/html": [
       "<div>\n",
       "<style scoped>\n",
       "    .dataframe tbody tr th:only-of-type {\n",
       "        vertical-align: middle;\n",
       "    }\n",
       "\n",
       "    .dataframe tbody tr th {\n",
       "        vertical-align: top;\n",
       "    }\n",
       "\n",
       "    .dataframe thead th {\n",
       "        text-align: right;\n",
       "    }\n",
       "</style>\n",
       "<table border=\"1\" class=\"dataframe\">\n",
       "  <thead>\n",
       "    <tr style=\"text-align: right;\">\n",
       "      <th></th>\n",
       "      <th>category</th>\n",
       "      <th>commission</th>\n",
       "      <th>timestamp</th>\n",
       "      <th>min_sales_fee</th>\n",
       "    </tr>\n",
       "  </thead>\n",
       "  <tbody>\n",
       "    <tr>\n",
       "      <th>0</th>\n",
       "      <td>catégories</td>\n",
       "      <td>Pourcentagedesfraisdevente</td>\n",
       "      <td>20141026232431</td>\n",
       "      <td>Fraisdeventeminimumapplicable(appliquéparartic...</td>\n",
       "    </tr>\n",
       "    <tr>\n",
       "      <th>1</th>\n",
       "      <td>accessoires high tech1</td>\n",
       "      <td>12</td>\n",
       "      <td>20141026232431</td>\n",
       "      <td>0.50</td>\n",
       "    </tr>\n",
       "    <tr>\n",
       "      <th>2</th>\n",
       "      <td>accessoires pour ordinateurs1</td>\n",
       "      <td>12</td>\n",
       "      <td>20141026232431</td>\n",
       "      <td>0.50</td>\n",
       "    </tr>\n",
       "    <tr>\n",
       "      <th>3</th>\n",
       "      <td>accessoires pour appareils amazon</td>\n",
       "      <td>45</td>\n",
       "      <td>20141026232431</td>\n",
       "      <td>0.50</td>\n",
       "    </tr>\n",
       "    <tr>\n",
       "      <th>4</th>\n",
       "      <td>auto et moto</td>\n",
       "      <td>15</td>\n",
       "      <td>20141026232431</td>\n",
       "      <td>0.50</td>\n",
       "    </tr>\n",
       "  </tbody>\n",
       "</table>\n",
       "</div>"
      ],
      "text/plain": [
       "                            category                  commission  \\\n",
       "0                         catégories  Pourcentagedesfraisdevente   \n",
       "1             accessoires high tech1                          12   \n",
       "2      accessoires pour ordinateurs1                          12   \n",
       "3  accessoires pour appareils amazon                          45   \n",
       "4                       auto et moto                          15   \n",
       "\n",
       "        timestamp                                      min_sales_fee  \n",
       "0  20141026232431  Fraisdeventeminimumapplicable(appliquéparartic...  \n",
       "1  20141026232431                                               0.50  \n",
       "2  20141026232431                                               0.50  \n",
       "3  20141026232431                                               0.50  \n",
       "4  20141026232431                                               0.50  "
      ]
     },
     "execution_count": 28,
     "metadata": {},
     "output_type": "execute_result"
    }
   ],
   "source": [
    "full_df[~full_df['min_sales_fee'].isnull()].head(5)"
   ]
  },
  {
   "cell_type": "code",
   "execution_count": 24,
   "metadata": {},
   "outputs": [
    {
     "data": {
      "text/html": [
       "<div>\n",
       "<style scoped>\n",
       "    .dataframe tbody tr th:only-of-type {\n",
       "        vertical-align: middle;\n",
       "    }\n",
       "\n",
       "    .dataframe tbody tr th {\n",
       "        vertical-align: top;\n",
       "    }\n",
       "\n",
       "    .dataframe thead th {\n",
       "        text-align: right;\n",
       "    }\n",
       "</style>\n",
       "<table border=\"1\" class=\"dataframe\">\n",
       "  <thead>\n",
       "    <tr style=\"text-align: right;\">\n",
       "      <th></th>\n",
       "      <th>category</th>\n",
       "      <th>commission</th>\n",
       "      <th>timestamp</th>\n",
       "      <th>min_sales_fee</th>\n",
       "    </tr>\n",
       "  </thead>\n",
       "  <tbody>\n",
       "    <tr>\n",
       "      <th>0</th>\n",
       "      <td>jeux vidéo et consoles</td>\n",
       "      <td>10.44</td>\n",
       "      <td>20130112023435</td>\n",
       "      <td>NaN</td>\n",
       "    </tr>\n",
       "    <tr>\n",
       "      <th>1</th>\n",
       "      <td>bijoux</td>\n",
       "      <td>20</td>\n",
       "      <td>20130112023435</td>\n",
       "      <td>NaN</td>\n",
       "    </tr>\n",
       "    <tr>\n",
       "      <th>2</th>\n",
       "      <td>dvd</td>\n",
       "      <td>10.44</td>\n",
       "      <td>20130112023435</td>\n",
       "      <td>NaN</td>\n",
       "    </tr>\n",
       "    <tr>\n",
       "      <th>3</th>\n",
       "      <td>fourniture de bureau</td>\n",
       "      <td>15</td>\n",
       "      <td>20130112023435</td>\n",
       "      <td>NaN</td>\n",
       "    </tr>\n",
       "    <tr>\n",
       "      <th>4</th>\n",
       "      <td>informatique</td>\n",
       "      <td>7</td>\n",
       "      <td>20130112023435</td>\n",
       "      <td>NaN</td>\n",
       "    </tr>\n",
       "    <tr>\n",
       "      <th>...</th>\n",
       "      <td>...</td>\n",
       "      <td>...</td>\n",
       "      <td>...</td>\n",
       "      <td>...</td>\n",
       "    </tr>\n",
       "    <tr>\n",
       "      <th>19</th>\n",
       "      <td>pneus</td>\n",
       "      <td>10</td>\n",
       "      <td>20170718082218</td>\n",
       "      <td>0.50</td>\n",
       "    </tr>\n",
       "    <tr>\n",
       "      <th>20</th>\n",
       "      <td>services alimentaires</td>\n",
       "      <td>15</td>\n",
       "      <td>20170718082218</td>\n",
       "      <td>0.50</td>\n",
       "    </tr>\n",
       "    <tr>\n",
       "      <th>21</th>\n",
       "      <td>travail métallurgique</td>\n",
       "      <td>12</td>\n",
       "      <td>20170718082218</td>\n",
       "      <td>0.50</td>\n",
       "    </tr>\n",
       "    <tr>\n",
       "      <th>22</th>\n",
       "      <td>toutes les autres catégories</td>\n",
       "      <td>15</td>\n",
       "      <td>20170718082218</td>\n",
       "      <td>0.50</td>\n",
       "    </tr>\n",
       "    <tr>\n",
       "      <th>23</th>\n",
       "      <td>NaN</td>\n",
       "      <td>NaN</td>\n",
       "      <td>20170718082218</td>\n",
       "      <td>NaN</td>\n",
       "    </tr>\n",
       "  </tbody>\n",
       "</table>\n",
       "<p>1767 rows × 4 columns</p>\n",
       "</div>"
      ],
      "text/plain": [
       "                        category commission       timestamp min_sales_fee\n",
       "0         jeux vidéo et consoles      10.44  20130112023435           NaN\n",
       "1                         bijoux         20  20130112023435           NaN\n",
       "2                            dvd      10.44  20130112023435           NaN\n",
       "3           fourniture de bureau         15  20130112023435           NaN\n",
       "4                   informatique          7  20130112023435           NaN\n",
       "..                           ...        ...             ...           ...\n",
       "19                         pneus         10  20170718082218         0.50 \n",
       "20         services alimentaires         15  20170718082218         0.50 \n",
       "21         travail métallurgique         12  20170718082218         0.50 \n",
       "22  toutes les autres catégories         15  20170718082218         0.50 \n",
       "23                           NaN        NaN  20170718082218           NaN\n",
       "\n",
       "[1767 rows x 4 columns]"
      ]
     },
     "execution_count": 24,
     "metadata": {},
     "output_type": "execute_result"
    }
   ],
   "source": [
    "full_df"
   ]
  },
  {
   "cell_type": "code",
   "execution_count": 17,
   "metadata": {},
   "outputs": [
    {
     "data": {
      "text/html": [
       "<div>\n",
       "<style scoped>\n",
       "    .dataframe tbody tr th:only-of-type {\n",
       "        vertical-align: middle;\n",
       "    }\n",
       "\n",
       "    .dataframe tbody tr th {\n",
       "        vertical-align: top;\n",
       "    }\n",
       "\n",
       "    .dataframe thead th {\n",
       "        text-align: right;\n",
       "    }\n",
       "</style>\n",
       "<table border=\"1\" class=\"dataframe\">\n",
       "  <thead>\n",
       "    <tr style=\"text-align: right;\">\n",
       "      <th></th>\n",
       "      <th>Catégories</th>\n",
       "      <th>Pourcentage des frais de vente</th>\n",
       "      <th>Frais de vente minimum applicable(appliqué par article, sauf mention contraire)</th>\n",
       "    </tr>\n",
       "  </thead>\n",
       "  <tbody>\n",
       "    <tr>\n",
       "      <th>0</th>\n",
       "      <td>Accessoires High Tech ¹</td>\n",
       "      <td>12%**</td>\n",
       "      <td>€ 0,50</td>\n",
       "    </tr>\n",
       "    <tr>\n",
       "      <th>1</th>\n",
       "      <td>Accessoires pour ordinateurs ¹</td>\n",
       "      <td>12%**</td>\n",
       "      <td>€ 0,50</td>\n",
       "    </tr>\n",
       "    <tr>\n",
       "      <th>2</th>\n",
       "      <td>Accessoires pour appareils Amazon</td>\n",
       "      <td>45%</td>\n",
       "      <td>€ 0,50</td>\n",
       "    </tr>\n",
       "    <tr>\n",
       "      <th>3</th>\n",
       "      <td>Auto et moto</td>\n",
       "      <td>15%</td>\n",
       "      <td>0,50 €</td>\n",
       "    </tr>\n",
       "    <tr>\n",
       "      <th>4</th>\n",
       "      <td>Bijoux ¹</td>\n",
       "      <td>20%</td>\n",
       "      <td>0,50 €</td>\n",
       "    </tr>\n",
       "    <tr>\n",
       "      <th>5</th>\n",
       "      <td>Bricolage</td>\n",
       "      <td>12%</td>\n",
       "      <td>0,50 €</td>\n",
       "    </tr>\n",
       "    <tr>\n",
       "      <th>6</th>\n",
       "      <td>Consoles de Jeux-Vidéo</td>\n",
       "      <td>8%</td>\n",
       "      <td>-</td>\n",
       "    </tr>\n",
       "    <tr>\n",
       "      <th>7</th>\n",
       "      <td>Gros Électroménager</td>\n",
       "      <td>7%</td>\n",
       "      <td>0,50 €</td>\n",
       "    </tr>\n",
       "    <tr>\n",
       "      <th>8</th>\n",
       "      <td>High-Tech</td>\n",
       "      <td>7%</td>\n",
       "      <td>0,50 €</td>\n",
       "    </tr>\n",
       "    <tr>\n",
       "      <th>9</th>\n",
       "      <td>Instruments de musique et Sono</td>\n",
       "      <td>12%</td>\n",
       "      <td>0,50 €</td>\n",
       "    </tr>\n",
       "    <tr>\n",
       "      <th>10</th>\n",
       "      <td>Livres, Musique, Vidéos, DVD</td>\n",
       "      <td>15%</td>\n",
       "      <td>-</td>\n",
       "    </tr>\n",
       "    <tr>\n",
       "      <th>11</th>\n",
       "      <td>Logiciels, Jeux Vidéos</td>\n",
       "      <td>15%*</td>\n",
       "      <td>-</td>\n",
       "    </tr>\n",
       "    <tr>\n",
       "      <th>12</th>\n",
       "      <td>Montres ¹</td>\n",
       "      <td>15%</td>\n",
       "      <td>1,50 €</td>\n",
       "    </tr>\n",
       "    <tr>\n",
       "      <th>13</th>\n",
       "      <td>Ordinateurs, Périphériques PC et Téléviseurs</td>\n",
       "      <td>5%</td>\n",
       "      <td>0,50 €</td>\n",
       "    </tr>\n",
       "    <tr>\n",
       "      <th>14</th>\n",
       "      <td>Pneus</td>\n",
       "      <td>10%</td>\n",
       "      <td>0,50 €</td>\n",
       "    </tr>\n",
       "    <tr>\n",
       "      <th>15</th>\n",
       "      <td>Toutes les autres catégories</td>\n",
       "      <td>15%</td>\n",
       "      <td>0,50 €</td>\n",
       "    </tr>\n",
       "    <tr>\n",
       "      <th>16</th>\n",
       "      <td>NaN</td>\n",
       "      <td>NaN</td>\n",
       "      <td>NaN</td>\n",
       "    </tr>\n",
       "  </tbody>\n",
       "</table>\n",
       "</div>"
      ],
      "text/plain": [
       "                                      Catégories  \\\n",
       "0                        Accessoires High Tech ¹   \n",
       "1                 Accessoires pour ordinateurs ¹   \n",
       "2              Accessoires pour appareils Amazon   \n",
       "3                                   Auto et moto   \n",
       "4                                       Bijoux ¹   \n",
       "5                                      Bricolage   \n",
       "6                         Consoles de Jeux-Vidéo   \n",
       "7                            Gros Électroménager   \n",
       "8                                      High-Tech   \n",
       "9                 Instruments de musique et Sono   \n",
       "10                  Livres, Musique, Vidéos, DVD   \n",
       "11                        Logiciels, Jeux Vidéos   \n",
       "12                                     Montres ¹   \n",
       "13  Ordinateurs, Périphériques PC et Téléviseurs   \n",
       "14                                         Pneus   \n",
       "15                  Toutes les autres catégories   \n",
       "16                                           NaN   \n",
       "\n",
       "   Pourcentage des frais de vente  \\\n",
       "0                           12%**   \n",
       "1                           12%**   \n",
       "2                             45%   \n",
       "3                             15%   \n",
       "4                             20%   \n",
       "5                             12%   \n",
       "6                              8%   \n",
       "7                              7%   \n",
       "8                              7%   \n",
       "9                             12%   \n",
       "10                            15%   \n",
       "11                           15%*   \n",
       "12                            15%   \n",
       "13                             5%   \n",
       "14                            10%   \n",
       "15                            15%   \n",
       "16                            NaN   \n",
       "\n",
       "   Frais de vente minimum applicable(appliqué par article, sauf mention contraire)  \n",
       "0                                              € 0,50                               \n",
       "1                                              € 0,50                               \n",
       "2                                              € 0,50                               \n",
       "3                                              0,50 €                               \n",
       "4                                              0,50 €                               \n",
       "5                                              0,50 €                               \n",
       "6                                                   -                               \n",
       "7                                              0,50 €                               \n",
       "8                                              0,50 €                               \n",
       "9                                              0,50 €                               \n",
       "10                                                  -                               \n",
       "11                                                  -                               \n",
       "12                                             1,50 €                               \n",
       "13                                             0,50 €                               \n",
       "14                                             0,50 €                               \n",
       "15                                             0,50 €                               \n",
       "16                                                NaN                               "
      ]
     },
     "execution_count": 17,
     "metadata": {},
     "output_type": "execute_result"
    }
   ],
   "source": [
    "main_commission_df"
   ]
  },
  {
   "cell_type": "code",
   "execution_count": 19,
   "metadata": {},
   "outputs": [
    {
     "data": {
      "text/html": [
       "<div>\n",
       "<style scoped>\n",
       "    .dataframe tbody tr th:only-of-type {\n",
       "        vertical-align: middle;\n",
       "    }\n",
       "\n",
       "    .dataframe tbody tr th {\n",
       "        vertical-align: top;\n",
       "    }\n",
       "\n",
       "    .dataframe thead th {\n",
       "        text-align: right;\n",
       "    }\n",
       "</style>\n",
       "<table border=\"1\" class=\"dataframe\">\n",
       "  <thead>\n",
       "    <tr style=\"text-align: right;\">\n",
       "      <th></th>\n",
       "      <th>category</th>\n",
       "      <th>commission</th>\n",
       "      <th>timestamp</th>\n",
       "      <th>min_sales_fee</th>\n",
       "    </tr>\n",
       "  </thead>\n",
       "  <tbody>\n",
       "    <tr>\n",
       "      <th>13</th>\n",
       "      <td>montres1</td>\n",
       "      <td>15</td>\n",
       "      <td>20151121051631</td>\n",
       "      <td>1.50</td>\n",
       "    </tr>\n",
       "    <tr>\n",
       "      <th>14</th>\n",
       "      <td>ordinateurs, périphériques pc et téléviseurs</td>\n",
       "      <td>5</td>\n",
       "      <td>20151121051631</td>\n",
       "      <td>0.50</td>\n",
       "    </tr>\n",
       "    <tr>\n",
       "      <th>15</th>\n",
       "      <td>pneus</td>\n",
       "      <td>10</td>\n",
       "      <td>20151121051631</td>\n",
       "      <td>0.50</td>\n",
       "    </tr>\n",
       "    <tr>\n",
       "      <th>16</th>\n",
       "      <td>toutes les autres catégories</td>\n",
       "      <td>15</td>\n",
       "      <td>20151121051631</td>\n",
       "      <td>0.50</td>\n",
       "    </tr>\n",
       "    <tr>\n",
       "      <th>17</th>\n",
       "      <td>1pour vendre les produits de certaines catégor...</td>\n",
       "      <td>1Pourvendrelesproduitsdecertainescatégoriessur...</td>\n",
       "      <td>20151121051631</td>\n",
       "      <td>1Pourvendrelesproduitsdecertainescatégoriessur...</td>\n",
       "    </tr>\n",
       "  </tbody>\n",
       "</table>\n",
       "</div>"
      ],
      "text/plain": [
       "                                             category  \\\n",
       "13                                           montres1   \n",
       "14       ordinateurs, périphériques pc et téléviseurs   \n",
       "15                                              pneus   \n",
       "16                       toutes les autres catégories   \n",
       "17  1pour vendre les produits de certaines catégor...   \n",
       "\n",
       "                                           commission       timestamp  \\\n",
       "13                                                 15  20151121051631   \n",
       "14                                                  5  20151121051631   \n",
       "15                                                 10  20151121051631   \n",
       "16                                                 15  20151121051631   \n",
       "17  1Pourvendrelesproduitsdecertainescatégoriessur...  20151121051631   \n",
       "\n",
       "                                        min_sales_fee  \n",
       "13                                               1.50  \n",
       "14                                               0.50  \n",
       "15                                               0.50  \n",
       "16                                               0.50  \n",
       "17  1Pourvendrelesproduitsdecertainescatégoriessur...  "
      ]
     },
     "execution_count": 19,
     "metadata": {},
     "output_type": "execute_result"
    }
   ],
   "source": [
    "full_df.tail()"
   ]
  },
  {
   "cell_type": "code",
   "execution_count": 157,
   "metadata": {},
   "outputs": [
    {
     "data": {
      "text/plain": [
       "<html><body><h1>429 Too Many Requests</h1>\n",
       "You have sent too many requests in a given amount of time.\n",
       "</body></html>"
      ]
     },
     "execution_count": 157,
     "metadata": {},
     "output_type": "execute_result"
    }
   ],
   "source": [
    "soup"
   ]
  },
  {
   "cell_type": "code",
   "execution_count": 153,
   "metadata": {},
   "outputs": [],
   "source": [
    "temp_df = full_df.copy()"
   ]
  },
  {
   "cell_type": "code",
   "execution_count": 156,
   "metadata": {},
   "outputs": [
    {
     "data": {
      "text/plain": [
       "array(['jeux vidéo et consoles', 'bijoux', 'dvd', 'fourniture de bureau',\n",
       "       'informatique', 'high tech', 'instruments de musique et sono',\n",
       "       'alimentation', 'livres', 'logiciels', 'musique',\n",
       "       'accessoires kindle', 'jeux et jouets',\n",
       "       'toutes les autres catégories',\n",
       "       'une autorisation est nécessaire pour vendre dans certaines catégories sur amazon. contactez nous pour demander une autorisation. merci de noter que seuls les vendeurs qui rempliront les critères de performance seront autorisés à vendre au sein de notre boutique jeux et jouets pendant la période de noël. (en savoir plus).',\n",
       "       'une autorisation est nécessaire pour vendre dans certaines catégories sur amazon. contactez nous pour demander une autorisation.',\n",
       "       'jeux vidéo ', 'consoles de jeux vidéo', 'gros électroménager',\n",
       "       'accessoires high tech & informatique',\n",
       "       'ordinateurs, périphériques pc et téléviseurs ',\n",
       "       'médias (livres, musique, vidéos, dvds)', 'bricolage', 'pneus',\n",
       "       'une autorisation est nécessaire pour vendre dans certaines catégories sur amazon. contactez nouspour demander une autorisation.',\n",
       "       'une autorisation est nécessaire pour vendre dans certaines catégories sur amazon. contactez nous pour demander une autorisation. promotion de 6 mois, valable jusqu’au 5 août inclus. le 6 août 2013, les frais de vente s’appliquant aux consoles de jeux vidéo reviendront au niveau des autres catégories media, à savoir 15% ; et ceux s’appliquant aux ordinateurs, périphériques pc et téléviseurs reviendront au niveau des autres catégories high tech et informatique, à savoir 7% (hors accessoires).',\n",
       "       'une autorisation est nécessaire pour vendre dans certaines catégories sur amazon. contactez nous pour demander une autorisation. promotion de 6 mois, valable jusqu’au 6 février 2014 inclus. le 7 février 2014, les frais de vente s’appliquant aux ordinateurs, périphériques pc et téléviseurs reviendront au niveau des autres catégories high tech et informatique, à savoir 7% (hors accessoires).',\n",
       "       'une autorisation est nécessaire pour vendre dans ces catégories sur amazon. contactez le support vendeur dans votre compte seller central pour demander une autorisation. promotion valable jusqu’au 31 mars 2014 inclus. le 1 avril 2014, les frais de vente s’appliquant aux ordinateurs, périphériques pc et téléviseurs reviendront au niveau des autres catégories high tech et informatique, à savoir 7% (hors accessoires).'],\n",
       "      dtype=object)"
      ]
     },
     "execution_count": 156,
     "metadata": {},
     "output_type": "execute_result"
    }
   ],
   "source": [
    "full_df['category'].unique()"
   ]
  },
  {
   "cell_type": "code",
   "execution_count": 154,
   "metadata": {
    "scrolled": false
   },
   "outputs": [
    {
     "ename": "KeyError",
     "evalue": "'min_sales_fee'",
     "output_type": "error",
     "traceback": [
      "\u001b[0;31m---------------------------------------------------------------------------\u001b[0m",
      "\u001b[0;31mKeyError\u001b[0m                                  Traceback (most recent call last)",
      "\u001b[0;32m~/.pyenv/versions/3.7.7/envs/lewagon-data/lib/python3.7/site-packages/pandas/core/indexes/base.py\u001b[0m in \u001b[0;36mget_loc\u001b[0;34m(self, key, method, tolerance)\u001b[0m\n\u001b[1;32m   3360\u001b[0m             \u001b[0;32mtry\u001b[0m\u001b[0;34m:\u001b[0m\u001b[0;34m\u001b[0m\u001b[0;34m\u001b[0m\u001b[0m\n\u001b[0;32m-> 3361\u001b[0;31m                 \u001b[0;32mreturn\u001b[0m \u001b[0mself\u001b[0m\u001b[0;34m.\u001b[0m\u001b[0m_engine\u001b[0m\u001b[0;34m.\u001b[0m\u001b[0mget_loc\u001b[0m\u001b[0;34m(\u001b[0m\u001b[0mcasted_key\u001b[0m\u001b[0;34m)\u001b[0m\u001b[0;34m\u001b[0m\u001b[0;34m\u001b[0m\u001b[0m\n\u001b[0m\u001b[1;32m   3362\u001b[0m             \u001b[0;32mexcept\u001b[0m \u001b[0mKeyError\u001b[0m \u001b[0;32mas\u001b[0m \u001b[0merr\u001b[0m\u001b[0;34m:\u001b[0m\u001b[0;34m\u001b[0m\u001b[0;34m\u001b[0m\u001b[0m\n",
      "\u001b[0;32m~/.pyenv/versions/3.7.7/envs/lewagon-data/lib/python3.7/site-packages/pandas/_libs/index.pyx\u001b[0m in \u001b[0;36mpandas._libs.index.IndexEngine.get_loc\u001b[0;34m()\u001b[0m\n",
      "\u001b[0;32m~/.pyenv/versions/3.7.7/envs/lewagon-data/lib/python3.7/site-packages/pandas/_libs/index.pyx\u001b[0m in \u001b[0;36mpandas._libs.index.IndexEngine.get_loc\u001b[0;34m()\u001b[0m\n",
      "\u001b[0;32mpandas/_libs/hashtable_class_helper.pxi\u001b[0m in \u001b[0;36mpandas._libs.hashtable.PyObjectHashTable.get_item\u001b[0;34m()\u001b[0m\n",
      "\u001b[0;32mpandas/_libs/hashtable_class_helper.pxi\u001b[0m in \u001b[0;36mpandas._libs.hashtable.PyObjectHashTable.get_item\u001b[0;34m()\u001b[0m\n",
      "\u001b[0;31mKeyError\u001b[0m: 'min_sales_fee'",
      "\nThe above exception was the direct cause of the following exception:\n",
      "\u001b[0;31mKeyError\u001b[0m                                  Traceback (most recent call last)",
      "\u001b[0;32m<ipython-input-154-85c9c31444d7>\u001b[0m in \u001b[0;36m<module>\u001b[0;34m\u001b[0m\n\u001b[1;32m      1\u001b[0m \u001b[0mfull_df\u001b[0m \u001b[0;34m=\u001b[0m \u001b[0mfull_df\u001b[0m\u001b[0;34m[\u001b[0m\u001b[0mfull_df\u001b[0m\u001b[0;34m[\u001b[0m\u001b[0;34m'category'\u001b[0m\u001b[0;34m]\u001b[0m \u001b[0;34m!=\u001b[0m \u001b[0;34m'catégories'\u001b[0m\u001b[0;34m]\u001b[0m\u001b[0;34m.\u001b[0m\u001b[0mcopy\u001b[0m\u001b[0;34m(\u001b[0m\u001b[0;34m)\u001b[0m\u001b[0;34m\u001b[0m\u001b[0;34m\u001b[0m\u001b[0m\n\u001b[0;32m----> 2\u001b[0;31m \u001b[0mfull_df\u001b[0m\u001b[0;34m[\u001b[0m\u001b[0;34m'min_sales_fee'\u001b[0m\u001b[0;34m]\u001b[0m \u001b[0;34m=\u001b[0m \u001b[0mfull_df\u001b[0m\u001b[0;34m[\u001b[0m\u001b[0;34m'min_sales_fee'\u001b[0m\u001b[0;34m]\u001b[0m\u001b[0;34m.\u001b[0m\u001b[0mmap\u001b[0m\u001b[0;34m(\u001b[0m\u001b[0;32mlambda\u001b[0m \u001b[0mx\u001b[0m\u001b[0;34m:\u001b[0m \u001b[0;34m{\u001b[0m\u001b[0;34m'-'\u001b[0m\u001b[0;34m,\u001b[0m \u001b[0;36m0\u001b[0m\u001b[0;34m}\u001b[0m\u001b[0;34m.\u001b[0m\u001b[0mget\u001b[0m\u001b[0;34m(\u001b[0m\u001b[0mx\u001b[0m\u001b[0;34m,\u001b[0m \u001b[0mx\u001b[0m\u001b[0;34m)\u001b[0m\u001b[0;34m)\u001b[0m\u001b[0;34m\u001b[0m\u001b[0;34m\u001b[0m\u001b[0m\n\u001b[0m\u001b[1;32m      3\u001b[0m \u001b[0mfull_df\u001b[0m\u001b[0;34m[\u001b[0m\u001b[0;34m'min_sales_fee'\u001b[0m\u001b[0;34m]\u001b[0m \u001b[0;34m=\u001b[0m \u001b[0mfull_df\u001b[0m\u001b[0;34m[\u001b[0m\u001b[0;34m'min_sales_fee'\u001b[0m\u001b[0;34m]\u001b[0m\u001b[0;34m.\u001b[0m\u001b[0mastype\u001b[0m\u001b[0;34m(\u001b[0m\u001b[0mfloat\u001b[0m\u001b[0;34m)\u001b[0m\u001b[0;34m\u001b[0m\u001b[0;34m\u001b[0m\u001b[0m\n\u001b[1;32m      4\u001b[0m \u001b[0mfull_df\u001b[0m\u001b[0;34m[\u001b[0m\u001b[0;34m'commission'\u001b[0m\u001b[0;34m]\u001b[0m \u001b[0;34m=\u001b[0m \u001b[0mfull_df\u001b[0m\u001b[0;34m[\u001b[0m\u001b[0;34m'commission'\u001b[0m\u001b[0;34m]\u001b[0m\u001b[0;34m.\u001b[0m\u001b[0mastype\u001b[0m\u001b[0;34m(\u001b[0m\u001b[0mfloat\u001b[0m\u001b[0;34m)\u001b[0m\u001b[0;34m\u001b[0m\u001b[0;34m\u001b[0m\u001b[0m\n",
      "\u001b[0;32m~/.pyenv/versions/3.7.7/envs/lewagon-data/lib/python3.7/site-packages/pandas/core/frame.py\u001b[0m in \u001b[0;36m__getitem__\u001b[0;34m(self, key)\u001b[0m\n\u001b[1;32m   3456\u001b[0m             \u001b[0;32mif\u001b[0m \u001b[0mself\u001b[0m\u001b[0;34m.\u001b[0m\u001b[0mcolumns\u001b[0m\u001b[0;34m.\u001b[0m\u001b[0mnlevels\u001b[0m \u001b[0;34m>\u001b[0m \u001b[0;36m1\u001b[0m\u001b[0;34m:\u001b[0m\u001b[0;34m\u001b[0m\u001b[0;34m\u001b[0m\u001b[0m\n\u001b[1;32m   3457\u001b[0m                 \u001b[0;32mreturn\u001b[0m \u001b[0mself\u001b[0m\u001b[0;34m.\u001b[0m\u001b[0m_getitem_multilevel\u001b[0m\u001b[0;34m(\u001b[0m\u001b[0mkey\u001b[0m\u001b[0;34m)\u001b[0m\u001b[0;34m\u001b[0m\u001b[0;34m\u001b[0m\u001b[0m\n\u001b[0;32m-> 3458\u001b[0;31m             \u001b[0mindexer\u001b[0m \u001b[0;34m=\u001b[0m \u001b[0mself\u001b[0m\u001b[0;34m.\u001b[0m\u001b[0mcolumns\u001b[0m\u001b[0;34m.\u001b[0m\u001b[0mget_loc\u001b[0m\u001b[0;34m(\u001b[0m\u001b[0mkey\u001b[0m\u001b[0;34m)\u001b[0m\u001b[0;34m\u001b[0m\u001b[0;34m\u001b[0m\u001b[0m\n\u001b[0m\u001b[1;32m   3459\u001b[0m             \u001b[0;32mif\u001b[0m \u001b[0mis_integer\u001b[0m\u001b[0;34m(\u001b[0m\u001b[0mindexer\u001b[0m\u001b[0;34m)\u001b[0m\u001b[0;34m:\u001b[0m\u001b[0;34m\u001b[0m\u001b[0;34m\u001b[0m\u001b[0m\n\u001b[1;32m   3460\u001b[0m                 \u001b[0mindexer\u001b[0m \u001b[0;34m=\u001b[0m \u001b[0;34m[\u001b[0m\u001b[0mindexer\u001b[0m\u001b[0;34m]\u001b[0m\u001b[0;34m\u001b[0m\u001b[0;34m\u001b[0m\u001b[0m\n",
      "\u001b[0;32m~/.pyenv/versions/3.7.7/envs/lewagon-data/lib/python3.7/site-packages/pandas/core/indexes/base.py\u001b[0m in \u001b[0;36mget_loc\u001b[0;34m(self, key, method, tolerance)\u001b[0m\n\u001b[1;32m   3361\u001b[0m                 \u001b[0;32mreturn\u001b[0m \u001b[0mself\u001b[0m\u001b[0;34m.\u001b[0m\u001b[0m_engine\u001b[0m\u001b[0;34m.\u001b[0m\u001b[0mget_loc\u001b[0m\u001b[0;34m(\u001b[0m\u001b[0mcasted_key\u001b[0m\u001b[0;34m)\u001b[0m\u001b[0;34m\u001b[0m\u001b[0;34m\u001b[0m\u001b[0m\n\u001b[1;32m   3362\u001b[0m             \u001b[0;32mexcept\u001b[0m \u001b[0mKeyError\u001b[0m \u001b[0;32mas\u001b[0m \u001b[0merr\u001b[0m\u001b[0;34m:\u001b[0m\u001b[0;34m\u001b[0m\u001b[0;34m\u001b[0m\u001b[0m\n\u001b[0;32m-> 3363\u001b[0;31m                 \u001b[0;32mraise\u001b[0m \u001b[0mKeyError\u001b[0m\u001b[0;34m(\u001b[0m\u001b[0mkey\u001b[0m\u001b[0;34m)\u001b[0m \u001b[0;32mfrom\u001b[0m \u001b[0merr\u001b[0m\u001b[0;34m\u001b[0m\u001b[0;34m\u001b[0m\u001b[0m\n\u001b[0m\u001b[1;32m   3364\u001b[0m \u001b[0;34m\u001b[0m\u001b[0m\n\u001b[1;32m   3365\u001b[0m         \u001b[0;32mif\u001b[0m \u001b[0mis_scalar\u001b[0m\u001b[0;34m(\u001b[0m\u001b[0mkey\u001b[0m\u001b[0;34m)\u001b[0m \u001b[0;32mand\u001b[0m \u001b[0misna\u001b[0m\u001b[0;34m(\u001b[0m\u001b[0mkey\u001b[0m\u001b[0;34m)\u001b[0m \u001b[0;32mand\u001b[0m \u001b[0;32mnot\u001b[0m \u001b[0mself\u001b[0m\u001b[0;34m.\u001b[0m\u001b[0mhasnans\u001b[0m\u001b[0;34m:\u001b[0m\u001b[0;34m\u001b[0m\u001b[0;34m\u001b[0m\u001b[0m\n",
      "\u001b[0;31mKeyError\u001b[0m: 'min_sales_fee'"
     ]
    }
   ],
   "source": [
    "full_df = full_df[full_df['category'] != 'catégories'].copy()\n",
    "full_df['min_sales_fee'] = full_df['min_sales_fee'].map(lambda x: {'-', 0}.get(x, x))\n",
    "full_df['min_sales_fee'] = full_df['min_sales_fee'].astype(float)\n",
    "full_df['commission'] = full_df['commission'].astype(float)"
   ]
  },
  {
   "cell_type": "code",
   "execution_count": 124,
   "metadata": {},
   "outputs": [
    {
     "data": {
      "text/html": [
       "<div>\n",
       "<style scoped>\n",
       "    .dataframe tbody tr th:only-of-type {\n",
       "        vertical-align: middle;\n",
       "    }\n",
       "\n",
       "    .dataframe tbody tr th {\n",
       "        vertical-align: top;\n",
       "    }\n",
       "\n",
       "    .dataframe thead th {\n",
       "        text-align: right;\n",
       "    }\n",
       "</style>\n",
       "<table border=\"1\" class=\"dataframe\">\n",
       "  <thead>\n",
       "    <tr style=\"text-align: right;\">\n",
       "      <th></th>\n",
       "      <th>category</th>\n",
       "      <th>commission</th>\n",
       "      <th>timestamp</th>\n",
       "      <th>2</th>\n",
       "    </tr>\n",
       "  </thead>\n",
       "  <tbody>\n",
       "    <tr>\n",
       "      <th>1</th>\n",
       "      <td>accessoires high tech1</td>\n",
       "      <td>12**</td>\n",
       "      <td>20151112140728</td>\n",
       "      <td>€ 0,50</td>\n",
       "    </tr>\n",
       "    <tr>\n",
       "      <th>2</th>\n",
       "      <td>accessoires pour ordinateurs1</td>\n",
       "      <td>12**</td>\n",
       "      <td>20151112140728</td>\n",
       "      <td>€ 0,50</td>\n",
       "    </tr>\n",
       "    <tr>\n",
       "      <th>3</th>\n",
       "      <td>accessoires pour appareils amazon</td>\n",
       "      <td>45</td>\n",
       "      <td>20151112140728</td>\n",
       "      <td>€ 0,50</td>\n",
       "    </tr>\n",
       "    <tr>\n",
       "      <th>4</th>\n",
       "      <td>auto et moto</td>\n",
       "      <td>15</td>\n",
       "      <td>20151112140728</td>\n",
       "      <td>€ 0,50</td>\n",
       "    </tr>\n",
       "    <tr>\n",
       "      <th>5</th>\n",
       "      <td>bijoux1</td>\n",
       "      <td>20</td>\n",
       "      <td>20151112140728</td>\n",
       "      <td>€ 1,50</td>\n",
       "    </tr>\n",
       "    <tr>\n",
       "      <th>6</th>\n",
       "      <td>bricolage</td>\n",
       "      <td>12</td>\n",
       "      <td>20151112140728</td>\n",
       "      <td>€ 0,50</td>\n",
       "    </tr>\n",
       "    <tr>\n",
       "      <th>7</th>\n",
       "      <td>consoles de jeux vidéo</td>\n",
       "      <td>8</td>\n",
       "      <td>20151112140728</td>\n",
       "      <td>-</td>\n",
       "    </tr>\n",
       "    <tr>\n",
       "      <th>8</th>\n",
       "      <td>gros électroménager</td>\n",
       "      <td>7</td>\n",
       "      <td>20151112140728</td>\n",
       "      <td>€ 0,50</td>\n",
       "    </tr>\n",
       "    <tr>\n",
       "      <th>9</th>\n",
       "      <td>high tech</td>\n",
       "      <td>7</td>\n",
       "      <td>20151112140728</td>\n",
       "      <td>€ 0,50</td>\n",
       "    </tr>\n",
       "    <tr>\n",
       "      <th>10</th>\n",
       "      <td>instruments de musique et sono</td>\n",
       "      <td>12</td>\n",
       "      <td>20151112140728</td>\n",
       "      <td>€ 0,50</td>\n",
       "    </tr>\n",
       "    <tr>\n",
       "      <th>11</th>\n",
       "      <td>livres, musique, vidéos, dvd</td>\n",
       "      <td>15</td>\n",
       "      <td>20151112140728</td>\n",
       "      <td>-</td>\n",
       "    </tr>\n",
       "    <tr>\n",
       "      <th>12</th>\n",
       "      <td>logiciels, jeux vidéos</td>\n",
       "      <td>15</td>\n",
       "      <td>20151112140728</td>\n",
       "      <td>-</td>\n",
       "    </tr>\n",
       "    <tr>\n",
       "      <th>13</th>\n",
       "      <td>montres1</td>\n",
       "      <td>15</td>\n",
       "      <td>20151112140728</td>\n",
       "      <td>€ 1,50</td>\n",
       "    </tr>\n",
       "    <tr>\n",
       "      <th>14</th>\n",
       "      <td>ordinateurs, périphériques pc et téléviseurs</td>\n",
       "      <td>5*</td>\n",
       "      <td>20151112140728</td>\n",
       "      <td>€ 0,50</td>\n",
       "    </tr>\n",
       "    <tr>\n",
       "      <th>15</th>\n",
       "      <td>pneus</td>\n",
       "      <td>10</td>\n",
       "      <td>20151112140728</td>\n",
       "      <td>€ 0,50</td>\n",
       "    </tr>\n",
       "    <tr>\n",
       "      <th>16</th>\n",
       "      <td>toutes les autres catégories</td>\n",
       "      <td>15</td>\n",
       "      <td>20151112140728</td>\n",
       "      <td>€ 0,50</td>\n",
       "    </tr>\n",
       "    <tr>\n",
       "      <th>0</th>\n",
       "      <td>catégories</td>\n",
       "      <td>Pourcentagedesfraisdevente</td>\n",
       "      <td>20151116041828</td>\n",
       "      <td>Frais de vente minimum applicable(appliqué par...</td>\n",
       "    </tr>\n",
       "    <tr>\n",
       "      <th>1</th>\n",
       "      <td>accessoires high tech1</td>\n",
       "      <td>12**</td>\n",
       "      <td>20151116041828</td>\n",
       "      <td>€ 0,50</td>\n",
       "    </tr>\n",
       "    <tr>\n",
       "      <th>2</th>\n",
       "      <td>accessoires pour ordinateurs1</td>\n",
       "      <td>12**</td>\n",
       "      <td>20151116041828</td>\n",
       "      <td>€ 0,50</td>\n",
       "    </tr>\n",
       "    <tr>\n",
       "      <th>3</th>\n",
       "      <td>accessoires pour appareils amazon</td>\n",
       "      <td>45</td>\n",
       "      <td>20151116041828</td>\n",
       "      <td>€ 0,50</td>\n",
       "    </tr>\n",
       "    <tr>\n",
       "      <th>4</th>\n",
       "      <td>auto et moto</td>\n",
       "      <td>15</td>\n",
       "      <td>20151116041828</td>\n",
       "      <td>€ 0,50</td>\n",
       "    </tr>\n",
       "    <tr>\n",
       "      <th>5</th>\n",
       "      <td>bijoux1</td>\n",
       "      <td>20</td>\n",
       "      <td>20151116041828</td>\n",
       "      <td>€ 1,50</td>\n",
       "    </tr>\n",
       "    <tr>\n",
       "      <th>6</th>\n",
       "      <td>bricolage</td>\n",
       "      <td>12</td>\n",
       "      <td>20151116041828</td>\n",
       "      <td>€ 0,50</td>\n",
       "    </tr>\n",
       "    <tr>\n",
       "      <th>7</th>\n",
       "      <td>consoles de jeux vidéo</td>\n",
       "      <td>8</td>\n",
       "      <td>20151116041828</td>\n",
       "      <td>-</td>\n",
       "    </tr>\n",
       "    <tr>\n",
       "      <th>8</th>\n",
       "      <td>gros électroménager</td>\n",
       "      <td>7</td>\n",
       "      <td>20151116041828</td>\n",
       "      <td>€ 0,50</td>\n",
       "    </tr>\n",
       "    <tr>\n",
       "      <th>9</th>\n",
       "      <td>high tech</td>\n",
       "      <td>7</td>\n",
       "      <td>20151116041828</td>\n",
       "      <td>€ 0,50</td>\n",
       "    </tr>\n",
       "    <tr>\n",
       "      <th>10</th>\n",
       "      <td>instruments de musique et sono</td>\n",
       "      <td>12</td>\n",
       "      <td>20151116041828</td>\n",
       "      <td>€ 0,50</td>\n",
       "    </tr>\n",
       "    <tr>\n",
       "      <th>11</th>\n",
       "      <td>livres, musique, vidéos, dvd</td>\n",
       "      <td>15</td>\n",
       "      <td>20151116041828</td>\n",
       "      <td>-</td>\n",
       "    </tr>\n",
       "    <tr>\n",
       "      <th>12</th>\n",
       "      <td>logiciels, jeux vidéos</td>\n",
       "      <td>15</td>\n",
       "      <td>20151116041828</td>\n",
       "      <td>-</td>\n",
       "    </tr>\n",
       "    <tr>\n",
       "      <th>13</th>\n",
       "      <td>montres1</td>\n",
       "      <td>15</td>\n",
       "      <td>20151116041828</td>\n",
       "      <td>€ 1,50</td>\n",
       "    </tr>\n",
       "    <tr>\n",
       "      <th>14</th>\n",
       "      <td>ordinateurs, périphériques pc et téléviseurs</td>\n",
       "      <td>5*</td>\n",
       "      <td>20151116041828</td>\n",
       "      <td>€ 0,50</td>\n",
       "    </tr>\n",
       "    <tr>\n",
       "      <th>15</th>\n",
       "      <td>pneus</td>\n",
       "      <td>10</td>\n",
       "      <td>20151116041828</td>\n",
       "      <td>€ 0,50</td>\n",
       "    </tr>\n",
       "    <tr>\n",
       "      <th>16</th>\n",
       "      <td>toutes les autres catégories</td>\n",
       "      <td>15</td>\n",
       "      <td>20151116041828</td>\n",
       "      <td>€ 0,50</td>\n",
       "    </tr>\n",
       "    <tr>\n",
       "      <th>0</th>\n",
       "      <td>catégories</td>\n",
       "      <td>Pourcentagedesfraisdevente</td>\n",
       "      <td>20151121051631</td>\n",
       "      <td>Frais de vente minimum applicable(appliqué par...</td>\n",
       "    </tr>\n",
       "    <tr>\n",
       "      <th>1</th>\n",
       "      <td>accessoires high tech1</td>\n",
       "      <td>12**</td>\n",
       "      <td>20151121051631</td>\n",
       "      <td>€ 0,50</td>\n",
       "    </tr>\n",
       "    <tr>\n",
       "      <th>2</th>\n",
       "      <td>accessoires pour ordinateurs1</td>\n",
       "      <td>12**</td>\n",
       "      <td>20151121051631</td>\n",
       "      <td>€ 0,50</td>\n",
       "    </tr>\n",
       "    <tr>\n",
       "      <th>3</th>\n",
       "      <td>accessoires pour appareils amazon</td>\n",
       "      <td>45</td>\n",
       "      <td>20151121051631</td>\n",
       "      <td>€ 0,50</td>\n",
       "    </tr>\n",
       "    <tr>\n",
       "      <th>4</th>\n",
       "      <td>auto et moto</td>\n",
       "      <td>15</td>\n",
       "      <td>20151121051631</td>\n",
       "      <td>€ 0,50</td>\n",
       "    </tr>\n",
       "    <tr>\n",
       "      <th>5</th>\n",
       "      <td>bijoux1</td>\n",
       "      <td>20</td>\n",
       "      <td>20151121051631</td>\n",
       "      <td>€ 1,50</td>\n",
       "    </tr>\n",
       "    <tr>\n",
       "      <th>6</th>\n",
       "      <td>bricolage</td>\n",
       "      <td>12</td>\n",
       "      <td>20151121051631</td>\n",
       "      <td>€ 0,50</td>\n",
       "    </tr>\n",
       "    <tr>\n",
       "      <th>7</th>\n",
       "      <td>consoles de jeux vidéo</td>\n",
       "      <td>8</td>\n",
       "      <td>20151121051631</td>\n",
       "      <td>-</td>\n",
       "    </tr>\n",
       "    <tr>\n",
       "      <th>8</th>\n",
       "      <td>gros électroménager</td>\n",
       "      <td>7</td>\n",
       "      <td>20151121051631</td>\n",
       "      <td>€ 0,50</td>\n",
       "    </tr>\n",
       "    <tr>\n",
       "      <th>9</th>\n",
       "      <td>high tech</td>\n",
       "      <td>7</td>\n",
       "      <td>20151121051631</td>\n",
       "      <td>€ 0,50</td>\n",
       "    </tr>\n",
       "    <tr>\n",
       "      <th>10</th>\n",
       "      <td>instruments de musique et sono</td>\n",
       "      <td>12</td>\n",
       "      <td>20151121051631</td>\n",
       "      <td>€ 0,50</td>\n",
       "    </tr>\n",
       "    <tr>\n",
       "      <th>11</th>\n",
       "      <td>livres, musique, vidéos, dvd</td>\n",
       "      <td>15</td>\n",
       "      <td>20151121051631</td>\n",
       "      <td>-</td>\n",
       "    </tr>\n",
       "    <tr>\n",
       "      <th>12</th>\n",
       "      <td>logiciels, jeux vidéos</td>\n",
       "      <td>15</td>\n",
       "      <td>20151121051631</td>\n",
       "      <td>-</td>\n",
       "    </tr>\n",
       "    <tr>\n",
       "      <th>13</th>\n",
       "      <td>montres1</td>\n",
       "      <td>15</td>\n",
       "      <td>20151121051631</td>\n",
       "      <td>€ 1,50</td>\n",
       "    </tr>\n",
       "    <tr>\n",
       "      <th>14</th>\n",
       "      <td>ordinateurs, périphériques pc et téléviseurs</td>\n",
       "      <td>5*</td>\n",
       "      <td>20151121051631</td>\n",
       "      <td>€ 0,50</td>\n",
       "    </tr>\n",
       "    <tr>\n",
       "      <th>15</th>\n",
       "      <td>pneus</td>\n",
       "      <td>10</td>\n",
       "      <td>20151121051631</td>\n",
       "      <td>€ 0,50</td>\n",
       "    </tr>\n",
       "    <tr>\n",
       "      <th>16</th>\n",
       "      <td>toutes les autres catégories</td>\n",
       "      <td>15</td>\n",
       "      <td>20151121051631</td>\n",
       "      <td>€ 0,50</td>\n",
       "    </tr>\n",
       "  </tbody>\n",
       "</table>\n",
       "</div>"
      ],
      "text/plain": [
       "                                        category                  commission  \\\n",
       "1                         accessoires high tech1                        12**   \n",
       "2                  accessoires pour ordinateurs1                        12**   \n",
       "3              accessoires pour appareils amazon                          45   \n",
       "4                                   auto et moto                          15   \n",
       "5                                        bijoux1                          20   \n",
       "6                                      bricolage                          12   \n",
       "7                         consoles de jeux vidéo                           8   \n",
       "8                            gros électroménager                           7   \n",
       "9                                      high tech                           7   \n",
       "10                instruments de musique et sono                          12   \n",
       "11                  livres, musique, vidéos, dvd                          15   \n",
       "12                        logiciels, jeux vidéos                          15   \n",
       "13                                      montres1                          15   \n",
       "14  ordinateurs, périphériques pc et téléviseurs                          5*   \n",
       "15                                         pneus                          10   \n",
       "16                  toutes les autres catégories                          15   \n",
       "0                                     catégories  Pourcentagedesfraisdevente   \n",
       "1                         accessoires high tech1                        12**   \n",
       "2                  accessoires pour ordinateurs1                        12**   \n",
       "3              accessoires pour appareils amazon                          45   \n",
       "4                                   auto et moto                          15   \n",
       "5                                        bijoux1                          20   \n",
       "6                                      bricolage                          12   \n",
       "7                         consoles de jeux vidéo                           8   \n",
       "8                            gros électroménager                           7   \n",
       "9                                      high tech                           7   \n",
       "10                instruments de musique et sono                          12   \n",
       "11                  livres, musique, vidéos, dvd                          15   \n",
       "12                        logiciels, jeux vidéos                          15   \n",
       "13                                      montres1                          15   \n",
       "14  ordinateurs, périphériques pc et téléviseurs                          5*   \n",
       "15                                         pneus                          10   \n",
       "16                  toutes les autres catégories                          15   \n",
       "0                                     catégories  Pourcentagedesfraisdevente   \n",
       "1                         accessoires high tech1                        12**   \n",
       "2                  accessoires pour ordinateurs1                        12**   \n",
       "3              accessoires pour appareils amazon                          45   \n",
       "4                                   auto et moto                          15   \n",
       "5                                        bijoux1                          20   \n",
       "6                                      bricolage                          12   \n",
       "7                         consoles de jeux vidéo                           8   \n",
       "8                            gros électroménager                           7   \n",
       "9                                      high tech                           7   \n",
       "10                instruments de musique et sono                          12   \n",
       "11                  livres, musique, vidéos, dvd                          15   \n",
       "12                        logiciels, jeux vidéos                          15   \n",
       "13                                      montres1                          15   \n",
       "14  ordinateurs, périphériques pc et téléviseurs                          5*   \n",
       "15                                         pneus                          10   \n",
       "16                  toutes les autres catégories                          15   \n",
       "\n",
       "         timestamp                                                  2  \n",
       "1   20151112140728                                             € 0,50  \n",
       "2   20151112140728                                             € 0,50  \n",
       "3   20151112140728                                             € 0,50  \n",
       "4   20151112140728                                             € 0,50  \n",
       "5   20151112140728                                             € 1,50  \n",
       "6   20151112140728                                             € 0,50  \n",
       "7   20151112140728                                                  -  \n",
       "8   20151112140728                                             € 0,50  \n",
       "9   20151112140728                                             € 0,50  \n",
       "10  20151112140728                                             € 0,50  \n",
       "11  20151112140728                                                  -  \n",
       "12  20151112140728                                                  -  \n",
       "13  20151112140728                                             € 1,50  \n",
       "14  20151112140728                                             € 0,50  \n",
       "15  20151112140728                                             € 0,50  \n",
       "16  20151112140728                                             € 0,50  \n",
       "0   20151116041828  Frais de vente minimum applicable(appliqué par...  \n",
       "1   20151116041828                                             € 0,50  \n",
       "2   20151116041828                                             € 0,50  \n",
       "3   20151116041828                                             € 0,50  \n",
       "4   20151116041828                                             € 0,50  \n",
       "5   20151116041828                                             € 1,50  \n",
       "6   20151116041828                                             € 0,50  \n",
       "7   20151116041828                                                  -  \n",
       "8   20151116041828                                             € 0,50  \n",
       "9   20151116041828                                             € 0,50  \n",
       "10  20151116041828                                             € 0,50  \n",
       "11  20151116041828                                                  -  \n",
       "12  20151116041828                                                  -  \n",
       "13  20151116041828                                             € 1,50  \n",
       "14  20151116041828                                             € 0,50  \n",
       "15  20151116041828                                             € 0,50  \n",
       "16  20151116041828                                             € 0,50  \n",
       "0   20151121051631  Frais de vente minimum applicable(appliqué par...  \n",
       "1   20151121051631                                             € 0,50  \n",
       "2   20151121051631                                             € 0,50  \n",
       "3   20151121051631                                             € 0,50  \n",
       "4   20151121051631                                             € 0,50  \n",
       "5   20151121051631                                             € 1,50  \n",
       "6   20151121051631                                             € 0,50  \n",
       "7   20151121051631                                                  -  \n",
       "8   20151121051631                                             € 0,50  \n",
       "9   20151121051631                                             € 0,50  \n",
       "10  20151121051631                                             € 0,50  \n",
       "11  20151121051631                                                  -  \n",
       "12  20151121051631                                                  -  \n",
       "13  20151121051631                                             € 1,50  \n",
       "14  20151121051631                                             € 0,50  \n",
       "15  20151121051631                                             € 0,50  \n",
       "16  20151121051631                                             € 0,50  "
      ]
     },
     "execution_count": 124,
     "metadata": {},
     "output_type": "execute_result"
    }
   ],
   "source": [
    "full_df.tail(50)"
   ]
  },
  {
   "cell_type": "code",
   "execution_count": 113,
   "metadata": {},
   "outputs": [
    {
     "data": {
      "text/plain": [
       "'<table class=\"categoryComissionTable\">\\n<tbody>\\n<tr>\\n<th>Catégorie </th>\\n<th>Commission variable </th>\\n</tr>\\n<tr>\\n<td> Jeux-Vidéo et consoles </td>\\n<td> 10,44% </td>\\n</tr>\\n<tr class=\"highlight\">\\n<td> Bijoux* </td>\\n<td> 20% </td>\\n</tr>\\n<tr>\\n<td><span class=\"caps\">DVD</span></td>\\n<td> 10,44% </td>\\n</tr>\\n<tr>\\n<td> Fourniture de bureau </td>\\n<td> 15% </td>\\n</tr>\\n<tr>\\n<td> Informatique </td>\\n<td> 7% </td>\\n</tr>\\n<tr>\\n<td> High-Tech </td>\\n<td> 7% </td>\\n</tr>\\n<tr>\\n<td> Instruments de Musique et Sono </td>\\n<td> 12% </td>\\n</tr>\\n<td> Bricolage </td>\\n<td>12% </td>\\n<tr class=\"highlight\">\\n<td> Alimentation* </td>\\n<td> 15% </td>\\n</tr>\\n<tr>\\n<td> Livres </td>\\n<td> 10,44% </td>\\n</tr>\\n<tr>\\n<td> Logiciels </td>\\n<td> 10,44% </td>\\n</tr>\\n<tr>\\n<td> Musique </td>\\n<td> 10,44% </td>\\n</tr>\\n<tr>\\n<td> Accessoires Kindle </td>\\n<td> 35% </td>\\n</tr>\\n<tr>\\n<td> Jeux et Jouets** </td>\\n<td> 15% </td>\\n</tr>\\n<tr>\\n<td> Toutes les autres catégories </td>\\n<td> 15% </td>\\n</tr>\\n\\n</tbody>\\n</table>'"
      ]
     },
     "execution_count": 113,
     "metadata": {},
     "output_type": "execute_result"
    }
   ],
   "source": [
    "main_commission_table_str"
   ]
  },
  {
   "cell_type": "code",
   "execution_count": 115,
   "metadata": {},
   "outputs": [
    {
     "data": {
      "text/plain": [
       "966"
      ]
     },
     "execution_count": 115,
     "metadata": {},
     "output_type": "execute_result"
    }
   ],
   "source": [
    "len(main_commission_table_str)"
   ]
  },
  {
   "cell_type": "code",
   "execution_count": 120,
   "metadata": {},
   "outputs": [
    {
     "name": "stdout",
     "output_type": "stream",
     "text": [
      "https://web.archive.org/web/20130712094156/http://services.amazon.fr:80/services/vendre-sur-internet/tarifs.html\n"
     ]
    }
   ],
   "source": [
    "print(final_url)"
   ]
  },
  {
   "cell_type": "code",
   "execution_count": 114,
   "metadata": {},
   "outputs": [
    {
     "data": {
      "text/plain": [
       "948"
      ]
     },
     "execution_count": 114,
     "metadata": {},
     "output_type": "execute_result"
    }
   ],
   "source": [
    "idx_left"
   ]
  },
  {
   "cell_type": "code",
   "execution_count": 108,
   "metadata": {},
   "outputs": [
    {
     "data": {
      "text/plain": [
       "array(['20130112023435', '20130113181121', '20130114132059',\n",
       "       '20130116143328', '20130121090628', '20130126125058',\n",
       "       '20130205002006', '20130208080529', '20130215103309',\n",
       "       '20130225005045'], dtype=object)"
      ]
     },
     "execution_count": 108,
     "metadata": {},
     "output_type": "execute_result"
    }
   ],
   "source": [
    "full_df['timestamp'].unique()"
   ]
  },
  {
   "cell_type": "code",
   "execution_count": 105,
   "metadata": {},
   "outputs": [
    {
     "data": {
      "text/plain": [
       "10"
      ]
     },
     "execution_count": 105,
     "metadata": {},
     "output_type": "execute_result"
    }
   ],
   "source": [
    "full_df['timestamp'].nunique()"
   ]
  },
  {
   "cell_type": "code",
   "execution_count": 93,
   "metadata": {},
   "outputs": [
    {
     "data": {
      "text/plain": [
       "array(['7'], dtype=object)"
      ]
     },
     "execution_count": 93,
     "metadata": {},
     "output_type": "execute_result"
    }
   ],
   "source": [
    "full_df[full_df['category'] == 'high tech']['commission'].unique()"
   ]
  },
  {
   "cell_type": "code",
   "execution_count": 62,
   "metadata": {},
   "outputs": [
    {
     "data": {
      "text/html": [
       "<div>\n",
       "<style scoped>\n",
       "    .dataframe tbody tr th:only-of-type {\n",
       "        vertical-align: middle;\n",
       "    }\n",
       "\n",
       "    .dataframe tbody tr th {\n",
       "        vertical-align: top;\n",
       "    }\n",
       "\n",
       "    .dataframe thead th {\n",
       "        text-align: right;\n",
       "    }\n",
       "</style>\n",
       "<table border=\"1\" class=\"dataframe\">\n",
       "  <thead>\n",
       "    <tr style=\"text-align: right;\">\n",
       "      <th></th>\n",
       "      <th>Catégorie</th>\n",
       "      <th>Commission variable</th>\n",
       "    </tr>\n",
       "  </thead>\n",
       "  <tbody>\n",
       "    <tr>\n",
       "      <th>0</th>\n",
       "      <td>Jeux-Vidéo et consoles</td>\n",
       "      <td>10.44</td>\n",
       "    </tr>\n",
       "    <tr>\n",
       "      <th>1</th>\n",
       "      <td>Bijoux</td>\n",
       "      <td>20</td>\n",
       "    </tr>\n",
       "    <tr>\n",
       "      <th>2</th>\n",
       "      <td>DVD</td>\n",
       "      <td>10.44</td>\n",
       "    </tr>\n",
       "    <tr>\n",
       "      <th>3</th>\n",
       "      <td>Fourniture de bureau</td>\n",
       "      <td>15</td>\n",
       "    </tr>\n",
       "    <tr>\n",
       "      <th>4</th>\n",
       "      <td>Informatique</td>\n",
       "      <td>7</td>\n",
       "    </tr>\n",
       "    <tr>\n",
       "      <th>5</th>\n",
       "      <td>High-Tech</td>\n",
       "      <td>7</td>\n",
       "    </tr>\n",
       "    <tr>\n",
       "      <th>6</th>\n",
       "      <td>Instruments de Musique et Sono</td>\n",
       "      <td>12</td>\n",
       "    </tr>\n",
       "    <tr>\n",
       "      <th>7</th>\n",
       "      <td>Alimentation</td>\n",
       "      <td>15</td>\n",
       "    </tr>\n",
       "    <tr>\n",
       "      <th>8</th>\n",
       "      <td>Livres</td>\n",
       "      <td>10.44</td>\n",
       "    </tr>\n",
       "    <tr>\n",
       "      <th>9</th>\n",
       "      <td>Logiciels</td>\n",
       "      <td>10.44</td>\n",
       "    </tr>\n",
       "    <tr>\n",
       "      <th>10</th>\n",
       "      <td>Musique</td>\n",
       "      <td>10.44</td>\n",
       "    </tr>\n",
       "    <tr>\n",
       "      <th>11</th>\n",
       "      <td>Accessoires Kindle</td>\n",
       "      <td>35</td>\n",
       "    </tr>\n",
       "    <tr>\n",
       "      <th>12</th>\n",
       "      <td>Jeux et Jouets</td>\n",
       "      <td>15</td>\n",
       "    </tr>\n",
       "    <tr>\n",
       "      <th>13</th>\n",
       "      <td>Toutes les autres catégories</td>\n",
       "      <td>15</td>\n",
       "    </tr>\n",
       "  </tbody>\n",
       "</table>\n",
       "</div>"
      ],
      "text/plain": [
       "                         Catégorie Commission variable\n",
       "0           Jeux-Vidéo et consoles               10.44\n",
       "1                           Bijoux                  20\n",
       "2                              DVD               10.44\n",
       "3             Fourniture de bureau                  15\n",
       "4                     Informatique                   7\n",
       "5                        High-Tech                   7\n",
       "6   Instruments de Musique et Sono                  12\n",
       "7                     Alimentation                  15\n",
       "8                           Livres               10.44\n",
       "9                        Logiciels               10.44\n",
       "10                         Musique               10.44\n",
       "11              Accessoires Kindle                  35\n",
       "12                  Jeux et Jouets                  15\n",
       "13    Toutes les autres catégories                  15"
      ]
     },
     "execution_count": 62,
     "metadata": {},
     "output_type": "execute_result"
    }
   ],
   "source": [
    "main_commission_df"
   ]
  },
  {
   "cell_type": "code",
   "execution_count": 26,
   "metadata": {
    "scrolled": false
   },
   "outputs": [
    {
     "data": {
      "text/html": [
       "<div>\n",
       "<style scoped>\n",
       "    .dataframe tbody tr th:only-of-type {\n",
       "        vertical-align: middle;\n",
       "    }\n",
       "\n",
       "    .dataframe tbody tr th {\n",
       "        vertical-align: top;\n",
       "    }\n",
       "\n",
       "    .dataframe thead th {\n",
       "        text-align: right;\n",
       "    }\n",
       "</style>\n",
       "<table border=\"1\" class=\"dataframe\">\n",
       "  <thead>\n",
       "    <tr style=\"text-align: right;\">\n",
       "      <th></th>\n",
       "      <th>category</th>\n",
       "      <th>commission</th>\n",
       "    </tr>\n",
       "  </thead>\n",
       "  <tbody>\n",
       "    <tr>\n",
       "      <th>0</th>\n",
       "      <td>Jeux-Vidéo et consoles</td>\n",
       "      <td>10.44</td>\n",
       "    </tr>\n",
       "    <tr>\n",
       "      <th>1</th>\n",
       "      <td>Bijoux</td>\n",
       "      <td>20.00</td>\n",
       "    </tr>\n",
       "    <tr>\n",
       "      <th>2</th>\n",
       "      <td>DVD</td>\n",
       "      <td>10.44</td>\n",
       "    </tr>\n",
       "    <tr>\n",
       "      <th>3</th>\n",
       "      <td>Fourniture de bureau</td>\n",
       "      <td>15.00</td>\n",
       "    </tr>\n",
       "    <tr>\n",
       "      <th>4</th>\n",
       "      <td>Informatique</td>\n",
       "      <td>7.00</td>\n",
       "    </tr>\n",
       "    <tr>\n",
       "      <th>5</th>\n",
       "      <td>High-Tech</td>\n",
       "      <td>7.00</td>\n",
       "    </tr>\n",
       "    <tr>\n",
       "      <th>6</th>\n",
       "      <td>Instruments de Musique et Sono</td>\n",
       "      <td>12.00</td>\n",
       "    </tr>\n",
       "    <tr>\n",
       "      <th>7</th>\n",
       "      <td>Bricolage</td>\n",
       "      <td>12.00</td>\n",
       "    </tr>\n",
       "    <tr>\n",
       "      <th>8</th>\n",
       "      <td>Alimentation</td>\n",
       "      <td>15.00</td>\n",
       "    </tr>\n",
       "    <tr>\n",
       "      <th>9</th>\n",
       "      <td>Livres</td>\n",
       "      <td>10.44</td>\n",
       "    </tr>\n",
       "    <tr>\n",
       "      <th>10</th>\n",
       "      <td>Logiciels</td>\n",
       "      <td>10.44</td>\n",
       "    </tr>\n",
       "    <tr>\n",
       "      <th>11</th>\n",
       "      <td>Musique</td>\n",
       "      <td>10.44</td>\n",
       "    </tr>\n",
       "    <tr>\n",
       "      <th>12</th>\n",
       "      <td>Accessoires Kindle</td>\n",
       "      <td>35.00</td>\n",
       "    </tr>\n",
       "    <tr>\n",
       "      <th>13</th>\n",
       "      <td>Jeux et Jouets</td>\n",
       "      <td>15.00</td>\n",
       "    </tr>\n",
       "    <tr>\n",
       "      <th>14</th>\n",
       "      <td>Toutes les autres catégories</td>\n",
       "      <td>15.00</td>\n",
       "    </tr>\n",
       "  </tbody>\n",
       "</table>\n",
       "</div>"
      ],
      "text/plain": [
       "                          category  commission\n",
       "0           Jeux-Vidéo et consoles       10.44\n",
       "1                           Bijoux       20.00\n",
       "2                              DVD       10.44\n",
       "3             Fourniture de bureau       15.00\n",
       "4                     Informatique        7.00\n",
       "5                        High-Tech        7.00\n",
       "6   Instruments de Musique et Sono       12.00\n",
       "7                        Bricolage       12.00\n",
       "8                     Alimentation       15.00\n",
       "9                           Livres       10.44\n",
       "10                       Logiciels       10.44\n",
       "11                         Musique       10.44\n",
       "12              Accessoires Kindle       35.00\n",
       "13                  Jeux et Jouets       15.00\n",
       "14    Toutes les autres catégories       15.00"
      ]
     },
     "execution_count": 26,
     "metadata": {},
     "output_type": "execute_result"
    }
   ],
   "source": [
    "commissions = {'category': [], 'commission': []}\n",
    "\n",
    "for i, td in enumerate(soup.find_all('td')):\n",
    "    if \"%\" in td.text:\n",
    "        commission = float(td.text.replace(\",\", \".\").replace(\"%\", \"\").replace(\" \", \"\"))\n",
    "        category = soup.find_all('td')[i - 1].text.strip().replace(\"*\", \"\")\n",
    "        \n",
    "        commissions['category'].append(category)\n",
    "        commissions['commission'].append(commission)\n",
    "        \n",
    "commissions_df = pd.DataFrame.from_dict(commissions)\n",
    "commissions_df"
   ]
  },
  {
   "cell_type": "code",
   "execution_count": 55,
   "metadata": {},
   "outputs": [],
   "source": [
    "\n",
    "euro_occurences = [m.start() for m in re.finditer('€', response.text)]"
   ]
  },
  {
   "cell_type": "code",
   "execution_count": 56,
   "metadata": {},
   "outputs": [
    {
     "data": {
      "text/plain": [
       "'>0,99€</sp'"
      ]
     },
     "execution_count": 56,
     "metadata": {},
     "output_type": "execute_result"
    }
   ],
   "source": [
    "response.text[response.text.find('€')-5:response.text.find('€')+5]"
   ]
  },
  {
   "cell_type": "code",
   "execution_count": 57,
   "metadata": {},
   "outputs": [
    {
     "data": {
      "text/plain": [
       "'39,00€ for'"
      ]
     },
     "execution_count": 57,
     "metadata": {},
     "output_type": "execute_result"
    }
   ],
   "source": [
    "response.text[15203-5:15203+5]"
   ]
  },
  {
   "cell_type": "code",
   "execution_count": 58,
   "metadata": {},
   "outputs": [
    {
     "name": "stdout",
     "output_type": "stream",
     "text": [
      ">0,99€</sp\n",
      "39,00€ for\n",
      " 0,77€ à 2\n",
      " 2,63€ </t\n",
      " 0,30€ à 2\n",
      " 2,63€ </t\n",
      " 0,51€ à 2\n",
      " 2,63€ </t\n",
      "ur 23€ sur\n",
      " 2,99€</di\n",
      "r 150€ sur\n",
      " 5,99€</di\n"
     ]
    }
   ],
   "source": [
    "for idx in euro_occurences:\n",
    "    print(response.text[idx - 5:idx + 5])"
   ]
  },
  {
   "cell_type": "code",
   "execution_count": 30,
   "metadata": {},
   "outputs": [
    {
     "data": {
      "text/plain": [
       "['0,99€',\n",
       " '39,00€',\n",
       " '0,77€',\n",
       " '2,63€',\n",
       " '0,30€',\n",
       " '2,63€',\n",
       " '0,51€',\n",
       " '2,63€',\n",
       " '23€',\n",
       " '2,99€',\n",
       " '150€',\n",
       " '5,99€']"
      ]
     },
     "execution_count": 30,
     "metadata": {},
     "output_type": "execute_result"
    }
   ],
   "source": [
    "re.findall(r'\\d+\\,?\\d{0,2}[$€£]', response.text, re.UNICODE)"
   ]
  },
  {
   "cell_type": "code",
   "execution_count": 39,
   "metadata": {},
   "outputs": [],
   "source": [
    "main_commission_table_str = str(soup.find_all(class_='categoryComissionTable')[0])"
   ]
  },
  {
   "cell_type": "code",
   "execution_count": 40,
   "metadata": {},
   "outputs": [
    {
     "data": {
      "text/plain": [
       "959"
      ]
     },
     "execution_count": 40,
     "metadata": {},
     "output_type": "execute_result"
    }
   ],
   "source": [
    "main_commission_table_str.find('categoryComissionTableNote')"
   ]
  },
  {
   "cell_type": "code",
   "execution_count": 44,
   "metadata": {},
   "outputs": [
    {
     "data": {
      "text/plain": [
       "'<tr class=\"categoryCo'"
      ]
     },
     "execution_count": 44,
     "metadata": {},
     "output_type": "execute_result"
    }
   ],
   "source": [
    "main_commission_table_str[959 - 11:959 + 10]"
   ]
  },
  {
   "cell_type": "code",
   "execution_count": 56,
   "metadata": {},
   "outputs": [
    {
     "data": {
      "text/plain": [
       "'<table class=\"categoryComissionTable\">\\n<tbody>\\n<tr>\\n<th>Catégorie </th>\\n<th>Commission variable </th>\\n</tr>\\n<tr>\\n<td> Jeux-Vidéo et consoles </td>\\n<td> 10,44% </td>\\n</tr>\\n<tr class=\"highlight\">\\n<td> Bijoux* </td>\\n<td> 20% </td>\\n</tr>\\n<tr>\\n<td><span class=\"caps\">DVD</span></td>\\n<td> 10,44% </td>\\n</tr>\\n<tr>\\n<td> Fourniture de bureau </td>\\n<td> 15% </td>\\n</tr>\\n<tr>\\n<td> Informatique </td>\\n<td> 7% </td>\\n</tr>\\n<tr>\\n<td> High-Tech </td>\\n<td> 7% </td>\\n</tr>\\n<tr>\\n<td> Instruments de Musique et Sono </td>\\n<td> 12% </td>\\n</tr>\\n<td> Bricolage </td>\\n<td>12% </td>\\n<tr class=\"highlight\">\\n<td> Alimentation* </td>\\n<td> 15% </td>\\n</tr>\\n<tr>\\n<td> Livres </td>\\n<td> 10,44% </td>\\n</tr>\\n<tr>\\n<td> Logiciels </td>\\n<td> 10,44% </td>\\n</tr>\\n<tr>\\n<td> Musique </td>\\n<td> 10,44% </td>\\n</tr>\\n<tr>\\n<td> Accessoires Kindle </td>\\n<td> 35% </td>\\n</tr>\\n<tr>\\n<td> Jeux et Jouets** </td>\\n<td> 15% </td>\\n</tr>\\n<tr>\\n<td> Toutes les autres catégories </td>\\n<td> 15% </td>\\n</tr>\\n\\n</tbody>\\n</table>'"
      ]
     },
     "execution_count": 56,
     "metadata": {},
     "output_type": "execute_result"
    }
   ],
   "source": [
    "idx_left = main_commission_table_str.rfind('<tr class=\"categoryComissionTableNote\">')\n",
    "idx_right = main_commission_table_str.rfind('</tr>') + len('</tr>')\n",
    "\n",
    "main_commission_table_str.replace(\n",
    "    main_commission_table_str[idx_left:idx_right],\n",
    "    ''\n",
    ")"
   ]
  },
  {
   "cell_type": "code",
   "execution_count": 58,
   "metadata": {},
   "outputs": [
    {
     "data": {
      "text/html": [
       "<div>\n",
       "<style scoped>\n",
       "    .dataframe tbody tr th:only-of-type {\n",
       "        vertical-align: middle;\n",
       "    }\n",
       "\n",
       "    .dataframe tbody tr th {\n",
       "        vertical-align: top;\n",
       "    }\n",
       "\n",
       "    .dataframe thead th {\n",
       "        text-align: right;\n",
       "    }\n",
       "</style>\n",
       "<table border=\"1\" class=\"dataframe\">\n",
       "  <thead>\n",
       "    <tr style=\"text-align: right;\">\n",
       "      <th></th>\n",
       "      <th>Catégorie</th>\n",
       "      <th>Commission variable</th>\n",
       "    </tr>\n",
       "  </thead>\n",
       "  <tbody>\n",
       "    <tr>\n",
       "      <th>0</th>\n",
       "      <td>Jeux-Vidéo et consoles</td>\n",
       "      <td>10,44%</td>\n",
       "    </tr>\n",
       "    <tr>\n",
       "      <th>1</th>\n",
       "      <td>Bijoux*</td>\n",
       "      <td>20%</td>\n",
       "    </tr>\n",
       "    <tr>\n",
       "      <th>2</th>\n",
       "      <td>DVD</td>\n",
       "      <td>10,44%</td>\n",
       "    </tr>\n",
       "    <tr>\n",
       "      <th>3</th>\n",
       "      <td>Fourniture de bureau</td>\n",
       "      <td>15%</td>\n",
       "    </tr>\n",
       "    <tr>\n",
       "      <th>4</th>\n",
       "      <td>Informatique</td>\n",
       "      <td>7%</td>\n",
       "    </tr>\n",
       "    <tr>\n",
       "      <th>5</th>\n",
       "      <td>High-Tech</td>\n",
       "      <td>7%</td>\n",
       "    </tr>\n",
       "    <tr>\n",
       "      <th>6</th>\n",
       "      <td>Instruments de Musique et Sono</td>\n",
       "      <td>12%</td>\n",
       "    </tr>\n",
       "    <tr>\n",
       "      <th>7</th>\n",
       "      <td>Alimentation*</td>\n",
       "      <td>15%</td>\n",
       "    </tr>\n",
       "    <tr>\n",
       "      <th>8</th>\n",
       "      <td>Livres</td>\n",
       "      <td>10,44%</td>\n",
       "    </tr>\n",
       "    <tr>\n",
       "      <th>9</th>\n",
       "      <td>Logiciels</td>\n",
       "      <td>10,44%</td>\n",
       "    </tr>\n",
       "    <tr>\n",
       "      <th>10</th>\n",
       "      <td>Musique</td>\n",
       "      <td>10,44%</td>\n",
       "    </tr>\n",
       "    <tr>\n",
       "      <th>11</th>\n",
       "      <td>Accessoires Kindle</td>\n",
       "      <td>35%</td>\n",
       "    </tr>\n",
       "    <tr>\n",
       "      <th>12</th>\n",
       "      <td>Jeux et Jouets**</td>\n",
       "      <td>15%</td>\n",
       "    </tr>\n",
       "    <tr>\n",
       "      <th>13</th>\n",
       "      <td>Toutes les autres catégories</td>\n",
       "      <td>15%</td>\n",
       "    </tr>\n",
       "  </tbody>\n",
       "</table>\n",
       "</div>"
      ],
      "text/plain": [
       "                         Catégorie Commission variable\n",
       "0           Jeux-Vidéo et consoles              10,44%\n",
       "1                          Bijoux*                 20%\n",
       "2                              DVD              10,44%\n",
       "3             Fourniture de bureau                 15%\n",
       "4                     Informatique                  7%\n",
       "5                        High-Tech                  7%\n",
       "6   Instruments de Musique et Sono                 12%\n",
       "7                    Alimentation*                 15%\n",
       "8                           Livres              10,44%\n",
       "9                        Logiciels              10,44%\n",
       "10                         Musique              10,44%\n",
       "11              Accessoires Kindle                 35%\n",
       "12                Jeux et Jouets**                 15%\n",
       "13    Toutes les autres catégories                 15%"
      ]
     },
     "execution_count": 58,
     "metadata": {},
     "output_type": "execute_result"
    }
   ],
   "source": [
    "pd.read_html(\n",
    "    main_commission_table_str.replace(\n",
    "        main_commission_table_str[idx_left:idx_right],\n",
    "        ''\n",
    "    )\n",
    ")[0]"
   ]
  },
  {
   "cell_type": "markdown",
   "metadata": {},
   "source": [
    "## Cross-country comparisons"
   ]
  },
  {
   "cell_type": "code",
   "execution_count": 6,
   "metadata": {},
   "outputs": [],
   "source": [
    "countries = {\n",
    "    'France': {\n",
    "        'ISO': 'FRA',\n",
    "        'short': 'fr',\n",
    "        'keyword': 'tarifs'\n",
    "    },\n",
    "    'United Kingdom': {\n",
    "        'ISO': 'GBR',\n",
    "        'short': 'co.uk',\n",
    "        'keyword': 'pricing'\n",
    "    },\n",
    "    'Italy': {\n",
    "        'ISO': 'ITA',\n",
    "        'short': 'it',\n",
    "        'keyword': 'prezzi'\n",
    "    },\n",
    "    'Spain': {\n",
    "        'ISO': 'ESP',\n",
    "        'short': 'es',\n",
    "        'keyword': 'precios'\n",
    "    },\n",
    "    'Germany': {\n",
    "        'ISO': 'DEU',\n",
    "        'short': 'de',\n",
    "        'keyword': 'preisgestaltung'\n",
    "    },\n",
    "    'Poland': {\n",
    "        'ISO': 'POL',\n",
    "        'short': 'pl',\n",
    "        'keyword': 'oplaty'\n",
    "    },\n",
    "    'Australia': {\n",
    "        'ISO': 'AUS',\n",
    "        'short': 'au',\n",
    "        'keyword': ''\n",
    "    },\n",
    "    'Belgium': {\n",
    "        'ISO': 'BEL',\n",
    "        'short': 'be',\n",
    "        'keyword': ''\n",
    "    },\n",
    "    'Brazil': {\n",
    "        'ISO': 'BRA',\n",
    "        'short': 'br',\n",
    "        'keyword': ''\n",
    "    },\n",
    "    'Canada': {\n",
    "        'ISO': 'CAN',\n",
    "        'short': 'ca',\n",
    "        'keyword': ''\n",
    "    },\n",
    "    'China': {\n",
    "        'ISO': 'CHN',\n",
    "        'short': 'cn',\n",
    "        'keyword': ''\n",
    "    },\n",
    "    'India': {\n",
    "        'ISO': 'IND',\n",
    "        'short': 'in',\n",
    "        'keyword': ''\n",
    "    },\n",
    "    'Japan': {\n",
    "        'ISO': 'JPN',\n",
    "        'short': 'jp',\n",
    "        'keyword': ''\n",
    "    },\n",
    "    'Korea': {\n",
    "        'ISO': 'KOR',\n",
    "        'short': 'kr',\n",
    "        'keyword': ''\n",
    "    },\n",
    "    'Mexico': {\n",
    "        'ISO': 'MEX',\n",
    "        'short': 'mx',\n",
    "        'keyword': ''\n",
    "    },\n",
    "    'Netherlands': {\n",
    "        'ISO': 'NLD',\n",
    "        'short': 'nl',\n",
    "        'keyword': ''\n",
    "    },\n",
    "    'Saudi Arabia': {\n",
    "        'ISO': 'SAU',\n",
    "        'short': 'sa',\n",
    "        'keyword': ''\n",
    "    },\n",
    "    'Singapore': {\n",
    "        'ISO': 'SGP',\n",
    "        'short': 'sg',\n",
    "        'keyword': ''\n",
    "    },\n",
    "    'Sweden': {\n",
    "        'ISO': 'SWE',\n",
    "        'short': 'se',\n",
    "        'keyword': ''\n",
    "    },\n",
    "    'Taiwan': {\n",
    "        'ISO': 'TWN',\n",
    "        'short': 'tw',\n",
    "        'keyword': ''\n",
    "    },\n",
    "    'Thailand': {\n",
    "        'ISO': 'THA',\n",
    "        'short': 'th',\n",
    "        'keyword': ''\n",
    "    },\n",
    "    'Turkey': {\n",
    "        'ISO': 'TUR',\n",
    "        'short': 'tr',\n",
    "        'keyword': ''\n",
    "    },\n",
    "    'Turkey': {\n",
    "        'ISO': 'TUR',\n",
    "        'short': 'tr',\n",
    "        'keyword': ''\n",
    "    },\n",
    "    'United Arab Emirates': {\n",
    "        'ISO': 'UAE',\n",
    "        'short': 'ae',\n",
    "        'keyword': ''\n",
    "    },\n",
    "    'United Arab Emirates': {\n",
    "        'ISO': 'UAE',\n",
    "        'short': 'ae',\n",
    "        'keyword': ''\n",
    "    },\n",
    "    'United States': {\n",
    "        'ISO': 'USA',\n",
    "        'short': '',\n",
    "        'keyword': ''\n",
    "    },\n",
    "    'Vietnam': {\n",
    "        'ISO': 'VNM',\n",
    "        'short': 'vn',\n",
    "        'keyword': ''\n",
    "    },\n",
    "}"
   ]
  },
  {
   "cell_type": "code",
   "execution_count": 8,
   "metadata": {},
   "outputs": [
    {
     "data": {
      "text/plain": [
       "25"
      ]
     },
     "execution_count": 8,
     "metadata": {},
     "output_type": "execute_result"
    }
   ],
   "source": [
    "len(countries.keys())"
   ]
  },
  {
   "cell_type": "code",
   "execution_count": 7,
   "metadata": {
    "scrolled": false
   },
   "outputs": [
    {
     "name": "stdout",
     "output_type": "stream",
     "text": [
      "France\n",
      "https://sell.amazon.fr\n",
      "<Response [200]>\n",
      "United Kingdom\n",
      "https://sell.amazon.co.uk\n",
      "<Response [200]>\n",
      "Italy\n",
      "https://sell.amazon.it\n",
      "<Response [200]>\n",
      "Spain\n",
      "https://sell.amazon.es\n",
      "<Response [200]>\n",
      "Germany\n",
      "https://sell.amazon.de\n",
      "<Response [200]>\n",
      "Poland\n",
      "https://sell.amazon.pl\n",
      "<Response [200]>\n",
      "Australia\n",
      "https://sell.amazon.au\n"
     ]
    },
    {
     "ename": "KeyboardInterrupt",
     "evalue": "",
     "output_type": "error",
     "traceback": [
      "\u001b[0;31m---------------------------------------------------------------------------\u001b[0m",
      "\u001b[0;31mKeyboardInterrupt\u001b[0m                         Traceback (most recent call last)",
      "\u001b[0;32m<ipython-input-7-31bde6d3ec95>\u001b[0m in \u001b[0;36m<module>\u001b[0;34m\u001b[0m\n\u001b[1;32m      9\u001b[0m     \u001b[0mprint\u001b[0m\u001b[0;34m(\u001b[0m\u001b[0murl\u001b[0m\u001b[0;34m)\u001b[0m\u001b[0;34m\u001b[0m\u001b[0;34m\u001b[0m\u001b[0m\n\u001b[1;32m     10\u001b[0m \u001b[0;34m\u001b[0m\u001b[0m\n\u001b[0;32m---> 11\u001b[0;31m     \u001b[0mresponse\u001b[0m \u001b[0;34m=\u001b[0m \u001b[0mrequests\u001b[0m\u001b[0;34m.\u001b[0m\u001b[0mget\u001b[0m\u001b[0;34m(\u001b[0m\u001b[0murl\u001b[0m\u001b[0;34m)\u001b[0m\u001b[0;34m\u001b[0m\u001b[0;34m\u001b[0m\u001b[0m\n\u001b[0m\u001b[1;32m     12\u001b[0m     \u001b[0mprint\u001b[0m\u001b[0;34m(\u001b[0m\u001b[0mresponse\u001b[0m\u001b[0;34m)\u001b[0m\u001b[0;34m\u001b[0m\u001b[0;34m\u001b[0m\u001b[0m\n",
      "\u001b[0;32m~/.pyenv/versions/3.7.7/envs/lewagon-data/lib/python3.7/site-packages/requests/api.py\u001b[0m in \u001b[0;36mget\u001b[0;34m(url, params, **kwargs)\u001b[0m\n\u001b[1;32m     74\u001b[0m \u001b[0;34m\u001b[0m\u001b[0m\n\u001b[1;32m     75\u001b[0m     \u001b[0mkwargs\u001b[0m\u001b[0;34m.\u001b[0m\u001b[0msetdefault\u001b[0m\u001b[0;34m(\u001b[0m\u001b[0;34m'allow_redirects'\u001b[0m\u001b[0;34m,\u001b[0m \u001b[0;32mTrue\u001b[0m\u001b[0;34m)\u001b[0m\u001b[0;34m\u001b[0m\u001b[0;34m\u001b[0m\u001b[0m\n\u001b[0;32m---> 76\u001b[0;31m     \u001b[0;32mreturn\u001b[0m \u001b[0mrequest\u001b[0m\u001b[0;34m(\u001b[0m\u001b[0;34m'get'\u001b[0m\u001b[0;34m,\u001b[0m \u001b[0murl\u001b[0m\u001b[0;34m,\u001b[0m \u001b[0mparams\u001b[0m\u001b[0;34m=\u001b[0m\u001b[0mparams\u001b[0m\u001b[0;34m,\u001b[0m \u001b[0;34m**\u001b[0m\u001b[0mkwargs\u001b[0m\u001b[0;34m)\u001b[0m\u001b[0;34m\u001b[0m\u001b[0;34m\u001b[0m\u001b[0m\n\u001b[0m\u001b[1;32m     77\u001b[0m \u001b[0;34m\u001b[0m\u001b[0m\n\u001b[1;32m     78\u001b[0m \u001b[0;34m\u001b[0m\u001b[0m\n",
      "\u001b[0;32m~/.pyenv/versions/3.7.7/envs/lewagon-data/lib/python3.7/site-packages/requests/api.py\u001b[0m in \u001b[0;36mrequest\u001b[0;34m(method, url, **kwargs)\u001b[0m\n\u001b[1;32m     59\u001b[0m     \u001b[0;31m# cases, and look like a memory leak in others.\u001b[0m\u001b[0;34m\u001b[0m\u001b[0;34m\u001b[0m\u001b[0;34m\u001b[0m\u001b[0m\n\u001b[1;32m     60\u001b[0m     \u001b[0;32mwith\u001b[0m \u001b[0msessions\u001b[0m\u001b[0;34m.\u001b[0m\u001b[0mSession\u001b[0m\u001b[0;34m(\u001b[0m\u001b[0;34m)\u001b[0m \u001b[0;32mas\u001b[0m \u001b[0msession\u001b[0m\u001b[0;34m:\u001b[0m\u001b[0;34m\u001b[0m\u001b[0;34m\u001b[0m\u001b[0m\n\u001b[0;32m---> 61\u001b[0;31m         \u001b[0;32mreturn\u001b[0m \u001b[0msession\u001b[0m\u001b[0;34m.\u001b[0m\u001b[0mrequest\u001b[0m\u001b[0;34m(\u001b[0m\u001b[0mmethod\u001b[0m\u001b[0;34m=\u001b[0m\u001b[0mmethod\u001b[0m\u001b[0;34m,\u001b[0m \u001b[0murl\u001b[0m\u001b[0;34m=\u001b[0m\u001b[0murl\u001b[0m\u001b[0;34m,\u001b[0m \u001b[0;34m**\u001b[0m\u001b[0mkwargs\u001b[0m\u001b[0;34m)\u001b[0m\u001b[0;34m\u001b[0m\u001b[0;34m\u001b[0m\u001b[0m\n\u001b[0m\u001b[1;32m     62\u001b[0m \u001b[0;34m\u001b[0m\u001b[0m\n\u001b[1;32m     63\u001b[0m \u001b[0;34m\u001b[0m\u001b[0m\n",
      "\u001b[0;32m~/.pyenv/versions/3.7.7/envs/lewagon-data/lib/python3.7/site-packages/requests/sessions.py\u001b[0m in \u001b[0;36mrequest\u001b[0;34m(self, method, url, params, data, headers, cookies, files, auth, timeout, allow_redirects, proxies, hooks, stream, verify, cert, json)\u001b[0m\n\u001b[1;32m    540\u001b[0m         }\n\u001b[1;32m    541\u001b[0m         \u001b[0msend_kwargs\u001b[0m\u001b[0;34m.\u001b[0m\u001b[0mupdate\u001b[0m\u001b[0;34m(\u001b[0m\u001b[0msettings\u001b[0m\u001b[0;34m)\u001b[0m\u001b[0;34m\u001b[0m\u001b[0;34m\u001b[0m\u001b[0m\n\u001b[0;32m--> 542\u001b[0;31m         \u001b[0mresp\u001b[0m \u001b[0;34m=\u001b[0m \u001b[0mself\u001b[0m\u001b[0;34m.\u001b[0m\u001b[0msend\u001b[0m\u001b[0;34m(\u001b[0m\u001b[0mprep\u001b[0m\u001b[0;34m,\u001b[0m \u001b[0;34m**\u001b[0m\u001b[0msend_kwargs\u001b[0m\u001b[0;34m)\u001b[0m\u001b[0;34m\u001b[0m\u001b[0;34m\u001b[0m\u001b[0m\n\u001b[0m\u001b[1;32m    543\u001b[0m \u001b[0;34m\u001b[0m\u001b[0m\n\u001b[1;32m    544\u001b[0m         \u001b[0;32mreturn\u001b[0m \u001b[0mresp\u001b[0m\u001b[0;34m\u001b[0m\u001b[0;34m\u001b[0m\u001b[0m\n",
      "\u001b[0;32m~/.pyenv/versions/3.7.7/envs/lewagon-data/lib/python3.7/site-packages/requests/sessions.py\u001b[0m in \u001b[0;36msend\u001b[0;34m(self, request, **kwargs)\u001b[0m\n\u001b[1;32m    653\u001b[0m \u001b[0;34m\u001b[0m\u001b[0m\n\u001b[1;32m    654\u001b[0m         \u001b[0;31m# Send the request\u001b[0m\u001b[0;34m\u001b[0m\u001b[0;34m\u001b[0m\u001b[0;34m\u001b[0m\u001b[0m\n\u001b[0;32m--> 655\u001b[0;31m         \u001b[0mr\u001b[0m \u001b[0;34m=\u001b[0m \u001b[0madapter\u001b[0m\u001b[0;34m.\u001b[0m\u001b[0msend\u001b[0m\u001b[0;34m(\u001b[0m\u001b[0mrequest\u001b[0m\u001b[0;34m,\u001b[0m \u001b[0;34m**\u001b[0m\u001b[0mkwargs\u001b[0m\u001b[0;34m)\u001b[0m\u001b[0;34m\u001b[0m\u001b[0;34m\u001b[0m\u001b[0m\n\u001b[0m\u001b[1;32m    656\u001b[0m \u001b[0;34m\u001b[0m\u001b[0m\n\u001b[1;32m    657\u001b[0m         \u001b[0;31m# Total elapsed time of the request (approximately)\u001b[0m\u001b[0;34m\u001b[0m\u001b[0;34m\u001b[0m\u001b[0;34m\u001b[0m\u001b[0m\n",
      "\u001b[0;32m~/.pyenv/versions/3.7.7/envs/lewagon-data/lib/python3.7/site-packages/requests/adapters.py\u001b[0m in \u001b[0;36msend\u001b[0;34m(self, request, stream, timeout, verify, cert, proxies)\u001b[0m\n\u001b[1;32m    447\u001b[0m                     \u001b[0mdecode_content\u001b[0m\u001b[0;34m=\u001b[0m\u001b[0;32mFalse\u001b[0m\u001b[0;34m,\u001b[0m\u001b[0;34m\u001b[0m\u001b[0;34m\u001b[0m\u001b[0m\n\u001b[1;32m    448\u001b[0m                     \u001b[0mretries\u001b[0m\u001b[0;34m=\u001b[0m\u001b[0mself\u001b[0m\u001b[0;34m.\u001b[0m\u001b[0mmax_retries\u001b[0m\u001b[0;34m,\u001b[0m\u001b[0;34m\u001b[0m\u001b[0;34m\u001b[0m\u001b[0m\n\u001b[0;32m--> 449\u001b[0;31m                     \u001b[0mtimeout\u001b[0m\u001b[0;34m=\u001b[0m\u001b[0mtimeout\u001b[0m\u001b[0;34m\u001b[0m\u001b[0;34m\u001b[0m\u001b[0m\n\u001b[0m\u001b[1;32m    450\u001b[0m                 )\n\u001b[1;32m    451\u001b[0m \u001b[0;34m\u001b[0m\u001b[0m\n",
      "\u001b[0;32m~/.pyenv/versions/3.7.7/envs/lewagon-data/lib/python3.7/site-packages/urllib3/connectionpool.py\u001b[0m in \u001b[0;36murlopen\u001b[0;34m(self, method, url, body, headers, retries, redirect, assert_same_host, timeout, pool_timeout, release_conn, chunked, body_pos, **response_kw)\u001b[0m\n\u001b[1;32m    720\u001b[0m                 \u001b[0mbody\u001b[0m\u001b[0;34m=\u001b[0m\u001b[0mbody\u001b[0m\u001b[0;34m,\u001b[0m\u001b[0;34m\u001b[0m\u001b[0;34m\u001b[0m\u001b[0m\n\u001b[1;32m    721\u001b[0m                 \u001b[0mheaders\u001b[0m\u001b[0;34m=\u001b[0m\u001b[0mheaders\u001b[0m\u001b[0;34m,\u001b[0m\u001b[0;34m\u001b[0m\u001b[0;34m\u001b[0m\u001b[0m\n\u001b[0;32m--> 722\u001b[0;31m                 \u001b[0mchunked\u001b[0m\u001b[0;34m=\u001b[0m\u001b[0mchunked\u001b[0m\u001b[0;34m,\u001b[0m\u001b[0;34m\u001b[0m\u001b[0;34m\u001b[0m\u001b[0m\n\u001b[0m\u001b[1;32m    723\u001b[0m             )\n\u001b[1;32m    724\u001b[0m \u001b[0;34m\u001b[0m\u001b[0m\n",
      "\u001b[0;32m~/.pyenv/versions/3.7.7/envs/lewagon-data/lib/python3.7/site-packages/urllib3/connectionpool.py\u001b[0m in \u001b[0;36m_make_request\u001b[0;34m(self, conn, method, url, timeout, chunked, **httplib_request_kw)\u001b[0m\n\u001b[1;32m    402\u001b[0m         \u001b[0;31m# Trigger any extra validation we need to do.\u001b[0m\u001b[0;34m\u001b[0m\u001b[0;34m\u001b[0m\u001b[0;34m\u001b[0m\u001b[0m\n\u001b[1;32m    403\u001b[0m         \u001b[0;32mtry\u001b[0m\u001b[0;34m:\u001b[0m\u001b[0;34m\u001b[0m\u001b[0;34m\u001b[0m\u001b[0m\n\u001b[0;32m--> 404\u001b[0;31m             \u001b[0mself\u001b[0m\u001b[0;34m.\u001b[0m\u001b[0m_validate_conn\u001b[0m\u001b[0;34m(\u001b[0m\u001b[0mconn\u001b[0m\u001b[0;34m)\u001b[0m\u001b[0;34m\u001b[0m\u001b[0;34m\u001b[0m\u001b[0m\n\u001b[0m\u001b[1;32m    405\u001b[0m         \u001b[0;32mexcept\u001b[0m \u001b[0;34m(\u001b[0m\u001b[0mSocketTimeout\u001b[0m\u001b[0;34m,\u001b[0m \u001b[0mBaseSSLError\u001b[0m\u001b[0;34m)\u001b[0m \u001b[0;32mas\u001b[0m \u001b[0me\u001b[0m\u001b[0;34m:\u001b[0m\u001b[0;34m\u001b[0m\u001b[0;34m\u001b[0m\u001b[0m\n\u001b[1;32m    406\u001b[0m             \u001b[0;31m# Py2 raises this as a BaseSSLError, Py3 raises it as socket timeout.\u001b[0m\u001b[0;34m\u001b[0m\u001b[0;34m\u001b[0m\u001b[0;34m\u001b[0m\u001b[0m\n",
      "\u001b[0;32m~/.pyenv/versions/3.7.7/envs/lewagon-data/lib/python3.7/site-packages/urllib3/connectionpool.py\u001b[0m in \u001b[0;36m_validate_conn\u001b[0;34m(self, conn)\u001b[0m\n\u001b[1;32m   1056\u001b[0m         \u001b[0;31m# Force connect early to allow us to validate the connection.\u001b[0m\u001b[0;34m\u001b[0m\u001b[0;34m\u001b[0m\u001b[0;34m\u001b[0m\u001b[0m\n\u001b[1;32m   1057\u001b[0m         \u001b[0;32mif\u001b[0m \u001b[0;32mnot\u001b[0m \u001b[0mgetattr\u001b[0m\u001b[0;34m(\u001b[0m\u001b[0mconn\u001b[0m\u001b[0;34m,\u001b[0m \u001b[0;34m\"sock\"\u001b[0m\u001b[0;34m,\u001b[0m \u001b[0;32mNone\u001b[0m\u001b[0;34m)\u001b[0m\u001b[0;34m:\u001b[0m  \u001b[0;31m# AppEngine might not have  `.sock`\u001b[0m\u001b[0;34m\u001b[0m\u001b[0;34m\u001b[0m\u001b[0m\n\u001b[0;32m-> 1058\u001b[0;31m             \u001b[0mconn\u001b[0m\u001b[0;34m.\u001b[0m\u001b[0mconnect\u001b[0m\u001b[0;34m(\u001b[0m\u001b[0;34m)\u001b[0m\u001b[0;34m\u001b[0m\u001b[0;34m\u001b[0m\u001b[0m\n\u001b[0m\u001b[1;32m   1059\u001b[0m \u001b[0;34m\u001b[0m\u001b[0m\n\u001b[1;32m   1060\u001b[0m         \u001b[0;32mif\u001b[0m \u001b[0;32mnot\u001b[0m \u001b[0mconn\u001b[0m\u001b[0;34m.\u001b[0m\u001b[0mis_verified\u001b[0m\u001b[0;34m:\u001b[0m\u001b[0;34m\u001b[0m\u001b[0;34m\u001b[0m\u001b[0m\n",
      "\u001b[0;32m~/.pyenv/versions/3.7.7/envs/lewagon-data/lib/python3.7/site-packages/urllib3/connection.py\u001b[0m in \u001b[0;36mconnect\u001b[0;34m(self)\u001b[0m\n\u001b[1;32m    361\u001b[0m     \u001b[0;32mdef\u001b[0m \u001b[0mconnect\u001b[0m\u001b[0;34m(\u001b[0m\u001b[0mself\u001b[0m\u001b[0;34m)\u001b[0m\u001b[0;34m:\u001b[0m\u001b[0;34m\u001b[0m\u001b[0;34m\u001b[0m\u001b[0m\n\u001b[1;32m    362\u001b[0m         \u001b[0;31m# Add certificate verification\u001b[0m\u001b[0;34m\u001b[0m\u001b[0;34m\u001b[0m\u001b[0;34m\u001b[0m\u001b[0m\n\u001b[0;32m--> 363\u001b[0;31m         \u001b[0mself\u001b[0m\u001b[0;34m.\u001b[0m\u001b[0msock\u001b[0m \u001b[0;34m=\u001b[0m \u001b[0mconn\u001b[0m \u001b[0;34m=\u001b[0m \u001b[0mself\u001b[0m\u001b[0;34m.\u001b[0m\u001b[0m_new_conn\u001b[0m\u001b[0;34m(\u001b[0m\u001b[0;34m)\u001b[0m\u001b[0;34m\u001b[0m\u001b[0;34m\u001b[0m\u001b[0m\n\u001b[0m\u001b[1;32m    364\u001b[0m         \u001b[0mhostname\u001b[0m \u001b[0;34m=\u001b[0m \u001b[0mself\u001b[0m\u001b[0;34m.\u001b[0m\u001b[0mhost\u001b[0m\u001b[0;34m\u001b[0m\u001b[0;34m\u001b[0m\u001b[0m\n\u001b[1;32m    365\u001b[0m         \u001b[0mtls_in_tls\u001b[0m \u001b[0;34m=\u001b[0m \u001b[0;32mFalse\u001b[0m\u001b[0;34m\u001b[0m\u001b[0;34m\u001b[0m\u001b[0m\n",
      "\u001b[0;32m~/.pyenv/versions/3.7.7/envs/lewagon-data/lib/python3.7/site-packages/urllib3/connection.py\u001b[0m in \u001b[0;36m_new_conn\u001b[0;34m(self)\u001b[0m\n\u001b[1;32m    173\u001b[0m         \u001b[0;32mtry\u001b[0m\u001b[0;34m:\u001b[0m\u001b[0;34m\u001b[0m\u001b[0;34m\u001b[0m\u001b[0m\n\u001b[1;32m    174\u001b[0m             conn = connection.create_connection(\n\u001b[0;32m--> 175\u001b[0;31m                 \u001b[0;34m(\u001b[0m\u001b[0mself\u001b[0m\u001b[0;34m.\u001b[0m\u001b[0m_dns_host\u001b[0m\u001b[0;34m,\u001b[0m \u001b[0mself\u001b[0m\u001b[0;34m.\u001b[0m\u001b[0mport\u001b[0m\u001b[0;34m)\u001b[0m\u001b[0;34m,\u001b[0m \u001b[0mself\u001b[0m\u001b[0;34m.\u001b[0m\u001b[0mtimeout\u001b[0m\u001b[0;34m,\u001b[0m \u001b[0;34m**\u001b[0m\u001b[0mextra_kw\u001b[0m\u001b[0;34m\u001b[0m\u001b[0;34m\u001b[0m\u001b[0m\n\u001b[0m\u001b[1;32m    176\u001b[0m             )\n\u001b[1;32m    177\u001b[0m \u001b[0;34m\u001b[0m\u001b[0m\n",
      "\u001b[0;32m~/.pyenv/versions/3.7.7/envs/lewagon-data/lib/python3.7/site-packages/urllib3/util/connection.py\u001b[0m in \u001b[0;36mcreate_connection\u001b[0;34m(address, timeout, source_address, socket_options)\u001b[0m\n\u001b[1;32m     83\u001b[0m             \u001b[0;32mif\u001b[0m \u001b[0msource_address\u001b[0m\u001b[0;34m:\u001b[0m\u001b[0;34m\u001b[0m\u001b[0;34m\u001b[0m\u001b[0m\n\u001b[1;32m     84\u001b[0m                 \u001b[0msock\u001b[0m\u001b[0;34m.\u001b[0m\u001b[0mbind\u001b[0m\u001b[0;34m(\u001b[0m\u001b[0msource_address\u001b[0m\u001b[0;34m)\u001b[0m\u001b[0;34m\u001b[0m\u001b[0;34m\u001b[0m\u001b[0m\n\u001b[0;32m---> 85\u001b[0;31m             \u001b[0msock\u001b[0m\u001b[0;34m.\u001b[0m\u001b[0mconnect\u001b[0m\u001b[0;34m(\u001b[0m\u001b[0msa\u001b[0m\u001b[0;34m)\u001b[0m\u001b[0;34m\u001b[0m\u001b[0;34m\u001b[0m\u001b[0m\n\u001b[0m\u001b[1;32m     86\u001b[0m             \u001b[0;32mreturn\u001b[0m \u001b[0msock\u001b[0m\u001b[0;34m\u001b[0m\u001b[0;34m\u001b[0m\u001b[0m\n\u001b[1;32m     87\u001b[0m \u001b[0;34m\u001b[0m\u001b[0m\n",
      "\u001b[0;31mKeyboardInterrupt\u001b[0m: "
     ]
    }
   ],
   "source": [
    "for country, values in countries.items():\n",
    "    \n",
    "    print(country)\n",
    "    \n",
    "    url_base = \"https://sell.amazon.\"\n",
    "    \n",
    "    url = url_base + values['short']\n",
    "    \n",
    "    print(url)\n",
    "    \n",
    "    response = requests.get(url)\n",
    "    print(response)"
   ]
  },
  {
   "cell_type": "code",
   "execution_count": null,
   "metadata": {},
   "outputs": [],
   "source": []
  }
 ],
 "metadata": {
  "kernelspec": {
   "display_name": "Python 3",
   "language": "python",
   "name": "python3"
  },
  "language_info": {
   "codemirror_mode": {
    "name": "ipython",
    "version": 3
   },
   "file_extension": ".py",
   "mimetype": "text/x-python",
   "name": "python",
   "nbconvert_exporter": "python",
   "pygments_lexer": "ipython3",
   "version": "3.7.7"
  },
  "toc": {
   "base_numbering": 1,
   "nav_menu": {},
   "number_sections": false,
   "sideBar": true,
   "skip_h1_title": false,
   "title_cell": "Table of Contents",
   "title_sidebar": "Contents",
   "toc_cell": false,
   "toc_position": {},
   "toc_section_display": true,
   "toc_window_display": true
  }
 },
 "nbformat": 4,
 "nbformat_minor": 4
}
