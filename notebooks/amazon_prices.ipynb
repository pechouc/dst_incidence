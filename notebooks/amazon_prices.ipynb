{
 "cells": [
  {
   "cell_type": "markdown",
   "metadata": {},
   "source": [
    "# Consumer prices on Amazon's marketplace"
   ]
  },
  {
   "cell_type": "markdown",
   "metadata": {},
   "source": [
    "This notebook serves as a Proof of Concept (PoC) for the collection of Amazon's history of consumer prices (`prices` henceforth)."
   ]
  },
  {
   "cell_type": "markdown",
   "metadata": {},
   "source": [
    "## Housekeeping"
   ]
  },
  {
   "cell_type": "markdown",
   "metadata": {},
   "source": [
    "Useful imports."
   ]
  },
  {
   "cell_type": "code",
   "execution_count": 1,
   "metadata": {},
   "outputs": [],
   "source": [
    "import os"
   ]
  },
  {
   "cell_type": "code",
   "execution_count": 2,
   "metadata": {},
   "outputs": [],
   "source": [
    "from bs4 import BeautifulSoup"
   ]
  },
  {
   "cell_type": "code",
   "execution_count": 3,
   "metadata": {},
   "outputs": [],
   "source": [
    "import numpy as np\n",
    "import pandas as pd"
   ]
  },
  {
   "cell_type": "code",
   "execution_count": 4,
   "metadata": {},
   "outputs": [],
   "source": [
    "from mimetypes import guess_extension\n",
    "from seleniumwire import webdriver"
   ]
  },
  {
   "cell_type": "code",
   "execution_count": 5,
   "metadata": {},
   "outputs": [],
   "source": [
    "from PIL import Image"
   ]
  },
  {
   "cell_type": "code",
   "execution_count": 6,
   "metadata": {},
   "outputs": [],
   "source": [
    "import matplotlib.pyplot as plt"
   ]
  },
  {
   "cell_type": "code",
   "execution_count": 7,
   "metadata": {},
   "outputs": [],
   "source": [
    "import pytesseract\n",
    "\n",
    "pytesseract.pytesseract.tesseract_cmd = \"/usr/local/Cellar/tesseract/5.2.0/bin/tesseract\""
   ]
  },
  {
   "cell_type": "code",
   "execution_count": 8,
   "metadata": {},
   "outputs": [],
   "source": [
    "import re"
   ]
  },
  {
   "cell_type": "code",
   "execution_count": 9,
   "metadata": {},
   "outputs": [],
   "source": [
    "from datetime import datetime"
   ]
  },
  {
   "cell_type": "markdown",
   "metadata": {},
   "source": [
    "Example of product with which we work in this notebook."
   ]
  },
  {
   "cell_type": "code",
   "execution_count": 10,
   "metadata": {},
   "outputs": [],
   "source": [
    "sku_reference = \"B000CRBEJ2\""
   ]
  },
  {
   "cell_type": "markdown",
   "metadata": {},
   "source": [
    "Country taken as example in this notebook."
   ]
  },
  {
   "cell_type": "code",
   "execution_count": 11,
   "metadata": {},
   "outputs": [],
   "source": [
    "# France\n",
    "country = \"fr\""
   ]
  },
  {
   "cell_type": "markdown",
   "metadata": {},
   "source": [
    "Folder where we store the price history chart."
   ]
  },
  {
   "cell_type": "code",
   "execution_count": 12,
   "metadata": {},
   "outputs": [],
   "source": [
    "temp_folder = 'temp'"
   ]
  },
  {
   "cell_type": "markdown",
   "metadata": {},
   "source": [
    "## Fetching the price history chart"
   ]
  },
  {
   "cell_type": "code",
   "execution_count": 501,
   "metadata": {},
   "outputs": [],
   "source": [
    "# Create a new instance of the Chrome driver\n",
    "driver = webdriver.Chrome()"
   ]
  },
  {
   "cell_type": "code",
   "execution_count": 502,
   "metadata": {},
   "outputs": [
    {
     "name": "stdout",
     "output_type": "stream",
     "text": [
      "URL to the price history chart: https://charts.camelcamelcamel.com/fr/B000CRBEJ2/new.png?force=1&zero=0&w=12000&h=6200&desired=false&legend=1&ilt=1&tp=all&fo=0&lang=fr_FR\n"
     ]
    }
   ],
   "source": [
    "# Creating the URL to price history chart on camelcamelcamel\n",
    "\n",
    "height = 6200\n",
    "width = 12000\n",
    "\n",
    "base = \"https://charts.camelcamelcamel.com/\"\n",
    "url_to_img = base + country + \"/\"\n",
    "url_to_img += sku_reference + \"/\"\n",
    "url_to_img += 'new.png'\n",
    "\n",
    "url_to_img += f\"?force=1&zero=0&w={width}&h={height}&desired=false&legend=1&ilt=1&tp=all&fo=0&lang=fr_FR\"\n",
    "\n",
    "print(\"URL to the price history chart:\", url_to_img)"
   ]
  },
  {
   "cell_type": "code",
   "execution_count": 503,
   "metadata": {},
   "outputs": [],
   "source": [
    "# Downloading the image\n",
    "\n",
    "driver.get(url_to_img)"
   ]
  },
  {
   "cell_type": "code",
   "execution_count": 504,
   "metadata": {},
   "outputs": [],
   "source": [
    "requests = pd.Series(driver.requests)\n",
    "\n",
    "request = requests[\n",
    "    requests.map(\n",
    "        lambda request: guess_extension(\n",
    "            request.response.headers['Content-Type'].split(';')[0].strip()\n",
    "        ) == \".png\"\n",
    "    )\n",
    "].iloc[0]\n",
    "\n",
    "file_name = os.path.join(temp_folder, sku_reference) + '.png'\n",
    "\n",
    "with open(file_name, 'wb') as file:\n",
    "    file.write(request.response.body)"
   ]
  },
  {
   "cell_type": "markdown",
   "metadata": {},
   "source": [
    "## Fetching additional information"
   ]
  },
  {
   "cell_type": "code",
   "execution_count": 505,
   "metadata": {},
   "outputs": [],
   "source": [
    "url_to_info = f\"https://{country}.camelcamelcamel.com/product/{sku_reference}?context=search\""
   ]
  },
  {
   "cell_type": "code",
   "execution_count": 506,
   "metadata": {},
   "outputs": [],
   "source": [
    "driver.get(url_to_info)"
   ]
  },
  {
   "cell_type": "code",
   "execution_count": 507,
   "metadata": {},
   "outputs": [],
   "source": [
    "soup = BeautifulSoup(driver.page_source, \"html.parser\")"
   ]
  },
  {
   "cell_type": "code",
   "execution_count": 508,
   "metadata": {},
   "outputs": [],
   "source": [
    "min_price = price_history_summary.set_index(\n",
    "    'Type de prix'\n",
    ").loc[\n",
    "    'Amazon', 'Le plus bas jamais atteint *'\n",
    "]\n",
    "\n",
    "min_price = float(min_price[:min_price.find('€')].replace(',', '.'))"
   ]
  },
  {
   "cell_type": "code",
   "execution_count": 509,
   "metadata": {},
   "outputs": [],
   "source": [
    "max_price = price_history_summary.set_index(\n",
    "    'Type de prix'\n",
    ").loc[\n",
    "    'Amazon', 'Le plus élevé de tous les temps *'\n",
    "]\n",
    "\n",
    "max_price = float(max_price[:max_price.find('€')].replace(',', '.'))"
   ]
  },
  {
   "cell_type": "code",
   "execution_count": 510,
   "metadata": {},
   "outputs": [],
   "source": [
    "product_data = pd.read_html(str(soup.find_all(class_='product_fields')[0]))[0]"
   ]
  },
  {
   "cell_type": "code",
   "execution_count": 513,
   "metadata": {},
   "outputs": [
    {
     "data": {
      "text/html": [
       "<div>\n",
       "<style scoped>\n",
       "    .dataframe tbody tr th:only-of-type {\n",
       "        vertical-align: middle;\n",
       "    }\n",
       "\n",
       "    .dataframe tbody tr th {\n",
       "        vertical-align: top;\n",
       "    }\n",
       "\n",
       "    .dataframe thead th {\n",
       "        text-align: right;\n",
       "    }\n",
       "</style>\n",
       "<table border=\"1\" class=\"dataframe\">\n",
       "  <thead>\n",
       "    <tr style=\"text-align: right;\">\n",
       "      <th></th>\n",
       "      <th>Groupe de produits</th>\n",
       "      <th>Catégorie</th>\n",
       "      <th>Fabricant</th>\n",
       "      <th>Modèle</th>\n",
       "      <th>Locale</th>\n",
       "      <th>Prix de vente</th>\n",
       "      <th>EAN</th>\n",
       "      <th>UPC</th>\n",
       "      <th>SKU</th>\n",
       "      <th>Dernier scan de mise à jour</th>\n",
       "      <th>Dernier suivi</th>\n",
       "    </tr>\n",
       "  </thead>\n",
       "  <tbody>\n",
       "    <tr>\n",
       "      <th>1</th>\n",
       "      <td>Luggage</td>\n",
       "      <td>Target</td>\n",
       "      <td>Eastpak</td>\n",
       "      <td>Padded Pak'r</td>\n",
       "      <td>FR</td>\n",
       "      <td>55,00€</td>\n",
       "      <td>540055216802</td>\n",
       "      <td>032546446202</td>\n",
       "      <td>B000CRBEJ2</td>\n",
       "      <td>il y a13 heures</td>\n",
       "      <td>27 jours</td>\n",
       "    </tr>\n",
       "  </tbody>\n",
       "</table>\n",
       "</div>"
      ],
      "text/plain": [
       "0 Groupe de produits Catégorie Fabricant        Modèle Locale Prix de vente  \\\n",
       "1            Luggage    Target   Eastpak  Padded Pak'r     FR        55,00€   \n",
       "\n",
       "0           EAN           UPC         SKU Dernier scan de mise à jour  \\\n",
       "1  540055216802  032546446202  B000CRBEJ2             il y a13 heures   \n",
       "\n",
       "0 Dernier suivi  \n",
       "1      27 jours  "
      ]
     },
     "execution_count": 513,
     "metadata": {},
     "output_type": "execute_result"
    }
   ],
   "source": [
    "product_data.set_index(0).T"
   ]
  },
  {
   "cell_type": "markdown",
   "metadata": {},
   "source": [
    "## Deducing price history from the graph"
   ]
  },
  {
   "cell_type": "code",
   "execution_count": 98,
   "metadata": {},
   "outputs": [],
   "source": [
    "img = Image.open(os.path.join(temp_folder, sku_reference + '.png'))\n",
    "img_array = np.array(img)"
   ]
  },
  {
   "cell_type": "code",
   "execution_count": 153,
   "metadata": {},
   "outputs": [
    {
     "name": "stdout",
     "output_type": "stream",
     "text": [
      "Average y-coordinate (from bottom to top of the image): 2070.5\n",
      "Writing on RHS of the graph start at x-coordinate: 3122\n"
     ]
    }
   ],
   "source": [
    "# Pixels that have the RGB code for the maximum price\n",
    "y, x = np.where(np.all(img_array == [194, 68, 68, 255], axis=2))\n",
    "\n",
    "# Average y-coordinate of the left-most pixels with this RGB code\n",
    "avg_y_coord_max = img_array.shape[0] - y[np.where(x == min(x))].mean()\n",
    "\n",
    "# Minimum x-coordinate of the pixels with this RGB code outside of the horizontal dashed line\n",
    "outside_chart_x_coord = min(\n",
    "    x[\n",
    "        np.where(\n",
    "            ~np.isin(y, y[np.where(x == min(x))])\n",
    "        )\n",
    "    ]\n",
    ")\n",
    "\n",
    "print(\"Average y-coordinate (from bottom to top of the image):\", avg_y_coord_max)\n",
    "print(\"Writing on RHS of the graph start at x-coordinate:\", outside_chart_x_coord)"
   ]
  },
  {
   "cell_type": "code",
   "execution_count": 154,
   "metadata": {},
   "outputs": [
    {
     "name": "stdout",
     "output_type": "stream",
     "text": [
      "Average y-coordinate (from bottom to top of the image): 356.5\n",
      "Writing on RHS of the graph start at x-coordinate: 3122\n"
     ]
    }
   ],
   "source": [
    "# Pixels that have the RGB code for the minimum price\n",
    "y, x = np.where(np.all(img_array == [119, 195, 107, 255], axis=2))\n",
    "\n",
    "# Average y-coordinate of the left-most pixels with this RGB code\n",
    "avg_y_coord_min = img_array.shape[0] - y[np.where(x == min(x))].mean()\n",
    "\n",
    "# Minimum x-coordinate of the pixels with this RGB code outside of the horizontal dashed line\n",
    "outside_chart_x_coord_bis = min(\n",
    "    x[\n",
    "        np.where(\n",
    "            ~np.isin(y, y[np.where(x == min(x))])\n",
    "        )\n",
    "    ]\n",
    ")\n",
    "\n",
    "if outside_chart_x_coord != outside_chart_x_coord_bis:\n",
    "    raise Exception('Writings on RHS of the graph seem misaligned.')\n",
    "\n",
    "print(\"Average y-coordinate (from bottom to top of the image):\", avg_y_coord_min)\n",
    "print(\"Writing on RHS of the graph start at x-coordinate:\", outside_chart_x_coord_bis)"
   ]
  },
  {
   "cell_type": "code",
   "execution_count": 155,
   "metadata": {},
   "outputs": [],
   "source": [
    "y, x = np.where(np.all(img_array == [99, 168, 94, 255], axis=2))\n",
    "\n",
    "x_axis_coords = []\n",
    "avg_y_coords = []\n",
    "\n",
    "for x_axis_coord in np.unique(x):\n",
    "    if x_axis_coord < outside_chart_x_coord_bis:\n",
    "        y_coords = y[np.where(x == x_axis_coord)]\n",
    "        y_coords = y_coords[y_coords < 2400 - avg_y_coord_min].copy()\n",
    "        \n",
    "        avg_y_coord = img_array.shape[0] - y_coords.mean()\n",
    "        \n",
    "        avg_y_coords.append(avg_y_coord)\n",
    "        x_axis_coords.append(x_axis_coord)\n",
    "        \n",
    "    else:\n",
    "        continue\n",
    "    \n",
    "x_axis_coords = np.array(x_axis_coords)\n",
    "avg_y_coords = np.array(avg_y_coords)"
   ]
  },
  {
   "cell_type": "code",
   "execution_count": 192,
   "metadata": {},
   "outputs": [],
   "source": [
    "prices = (\n",
    "    min_price\n",
    "    + (avg_y_coords - avg_y_coord_min) / (avg_y_coord_max - avg_y_coord_min) * (max_price - min_price)\n",
    ")"
   ]
  },
  {
   "cell_type": "code",
   "execution_count": 205,
   "metadata": {},
   "outputs": [
    {
     "data": {
      "text/html": [
       "<div>\n",
       "<style scoped>\n",
       "    .dataframe tbody tr th:only-of-type {\n",
       "        vertical-align: middle;\n",
       "    }\n",
       "\n",
       "    .dataframe tbody tr th {\n",
       "        vertical-align: top;\n",
       "    }\n",
       "\n",
       "    .dataframe thead th {\n",
       "        text-align: right;\n",
       "    }\n",
       "</style>\n",
       "<table border=\"1\" class=\"dataframe\">\n",
       "  <thead>\n",
       "    <tr style=\"text-align: right;\">\n",
       "      <th></th>\n",
       "      <th>x_axis_coord</th>\n",
       "      <th>price</th>\n",
       "    </tr>\n",
       "  </thead>\n",
       "  <tbody>\n",
       "    <tr>\n",
       "      <th>0</th>\n",
       "      <td>70.0</td>\n",
       "      <td>37.971785</td>\n",
       "    </tr>\n",
       "    <tr>\n",
       "      <th>1</th>\n",
       "      <td>71.0</td>\n",
       "      <td>37.971785</td>\n",
       "    </tr>\n",
       "    <tr>\n",
       "      <th>2</th>\n",
       "      <td>72.0</td>\n",
       "      <td>37.971785</td>\n",
       "    </tr>\n",
       "    <tr>\n",
       "      <th>3</th>\n",
       "      <td>73.0</td>\n",
       "      <td>37.971785</td>\n",
       "    </tr>\n",
       "    <tr>\n",
       "      <th>4</th>\n",
       "      <td>74.0</td>\n",
       "      <td>37.971785</td>\n",
       "    </tr>\n",
       "  </tbody>\n",
       "</table>\n",
       "</div>"
      ],
      "text/plain": [
       "   x_axis_coord      price\n",
       "0          70.0  37.971785\n",
       "1          71.0  37.971785\n",
       "2          72.0  37.971785\n",
       "3          73.0  37.971785\n",
       "4          74.0  37.971785"
      ]
     },
     "execution_count": 205,
     "metadata": {},
     "output_type": "execute_result"
    }
   ],
   "source": [
    "price_history = pd.DataFrame([x_axis_coords, prices], index=['x_axis_coord', 'price']).T\n",
    "price_history.head()"
   ]
  },
  {
   "cell_type": "code",
   "execution_count": 210,
   "metadata": {},
   "outputs": [
    {
     "data": {
      "image/png": "[encoded data removed]",
      "text/plain": [
       "<Figure size 1080x720 with 1 Axes>"
      ]
     },
     "metadata": {
      "needs_background": "light"
     },
     "output_type": "display_data"
    }
   ],
   "source": [
    "# Checking the shape of the price history\n",
    "\n",
    "plt.figure(figsize=(15, 10))\n",
    "plt.plot(x_axis_coords, prices)\n",
    "\n",
    "plt.show()"
   ]
  },
  {
   "cell_type": "markdown",
   "metadata": {},
   "source": [
    "## Determining the start and end dates on the x-axis of the graph"
   ]
  },
  {
   "cell_type": "code",
   "execution_count": 357,
   "metadata": {},
   "outputs": [
    {
     "name": "stdout",
     "output_type": "stream",
     "text": [
      "Amazon Basics - Cable HDMI A 2.0 vers HDMI A haute vitesse Ultra HD, supportant les formats 3D et avec canal de retour audio, 1,8 m, noir\n",
      "\n",
      "€15 9\n",
      "\n",
      "€7,44\n",
      "\n",
      "€0 + T T T T T T T T T T T T T T T T T T T T T T T T T T T T T T ™\n",
      "16 Apr Jul Oct ‘17 Apr Jul Oct ‘18 Apr Jul Oct ‘19 Apr Jul Oct ‘20 Apr Jul Oct ‘21 Apr Jul Oct ‘22 Apr Jul Oct ‘23 Apr Jul Oct\n",
      "Price type Lowest Highest Current\n",
      "i Amazon €4,49 (Apr 8, 2019) €11,88 (Oct 3, 2017) €7,44 (Nov 29, 2023)\n",
      "\n",
      "© camelcamelcamel.com - https://3cmls.co/FR/B014I8SSDO\n"
     ]
    }
   ],
   "source": [
    "text = pytesseract.image_to_string(img, lang='eng')\n",
    "print(text)"
   ]
  },
  {
   "cell_type": "code",
   "execution_count": 372,
   "metadata": {},
   "outputs": [
    {
     "name": "stdout",
     "output_type": "stream",
     "text": [
      "T T T ™\n",
      "16 Apr Jul Oct ‘17 Apr Jul Oct ‘18 Apr Jul Oct ‘19 Apr Jul Oct ‘20 Apr Jul Oct ‘21 Apr Jul Oct ‘22 Apr Jul Oct ‘23 Apr Jul Oct\n",
      "\n"
     ]
    }
   ],
   "source": [
    "text_extract = text[text.rfind('T T T'):text.rfind('Price type')]\n",
    "print(text_extract)"
   ]
  },
  {
   "cell_type": "code",
   "execution_count": 359,
   "metadata": {},
   "outputs": [],
   "source": [
    "months = np.array(['Jan', 'Feb', 'Mar', 'Apr', 'May', 'Jun', 'Jul', 'Aug', 'Sep', 'Oct', 'Nov', 'Dec'])\n",
    "\n",
    "months_idx = []\n",
    "\n",
    "for month in months:\n",
    "    months_idx.append(\n",
    "        text_extract.find(month) if text_extract.find(month) > 0 else np.nan\n",
    "    )\n",
    "    \n",
    "months_idx = np.array(months_idx)"
   ]
  },
  {
   "cell_type": "code",
   "execution_count": 360,
   "metadata": {
    "scrolled": true
   },
   "outputs": [
    {
     "data": {
      "text/plain": [
       "'Apr'"
      ]
     },
     "execution_count": 360,
     "metadata": {},
     "output_type": "execute_result"
    }
   ],
   "source": [
    "first_month = months[np.where(months_idx == np.nanmin(months_idx))][0]\n",
    "first_month"
   ]
  },
  {
   "cell_type": "code",
   "execution_count": 361,
   "metadata": {},
   "outputs": [],
   "source": [
    "months_idx_right = []\n",
    "\n",
    "for month in months:\n",
    "    months_idx_right.append(\n",
    "        text_extract.rfind(month) if text_extract.rfind(month) > -1 else np.nan\n",
    "    )\n",
    "    \n",
    "months_idx_right = np.array(months_idx_right)"
   ]
  },
  {
   "cell_type": "code",
   "execution_count": 362,
   "metadata": {},
   "outputs": [
    {
     "data": {
      "text/plain": [
       "'Oct'"
      ]
     },
     "execution_count": 362,
     "metadata": {},
     "output_type": "execute_result"
    }
   ],
   "source": [
    "last_month = months[np.where(months_idx_right == np.nanmax(months_idx_right))][0]\n",
    "last_month"
   ]
  },
  {
   "cell_type": "code",
   "execution_count": 366,
   "metadata": {},
   "outputs": [],
   "source": [
    "first_year = 2000 + int(re.findall(r'\\d\\d', text_extract)[0])\n",
    "last_year = 2000 + int(re.findall(r'\\d\\d', text_extract)[-1])"
   ]
  },
  {
   "cell_type": "code",
   "execution_count": 368,
   "metadata": {},
   "outputs": [],
   "source": [
    "if text_extract.find(str(first_year - 2000)) < text_extract.find(first_month):\n",
    "    first_month = 'Jan'"
   ]
  },
  {
   "cell_type": "code",
   "execution_count": 373,
   "metadata": {},
   "outputs": [],
   "source": [
    "if text_extract.rfind(str(last_year - 2000)) > text_extract.rfind(last_month):\n",
    "    last_month = 'Jan'"
   ]
  },
  {
   "cell_type": "code",
   "execution_count": 375,
   "metadata": {
    "scrolled": true
   },
   "outputs": [
    {
     "name": "stdout",
     "output_type": "stream",
     "text": [
      "First date: Jan 2016\n",
      "Last date: Oct 2023\n"
     ]
    }
   ],
   "source": [
    "print('First date:', first_month, first_year)\n",
    "print('Last date:', last_month, last_year)"
   ]
  },
  {
   "cell_type": "markdown",
   "metadata": {},
   "source": [
    "## Determining the last date from additional data"
   ]
  },
  {
   "cell_type": "code",
   "execution_count": 401,
   "metadata": {},
   "outputs": [],
   "source": [
    "last_date_clean = datetime.strptime(\n",
    "    price_history_summary.set_index(\n",
    "        'Type de prix'\n",
    "    ).loc[\n",
    "        'Amazon', 'Actuel +'\n",
    "    ].split('(')[1].strip(')').replace('.', ''), \n",
    "    \"%d %b %Y\"\n",
    ")"
   ]
  },
  {
   "cell_type": "markdown",
   "metadata": {},
   "source": [
    "## Converting x-coordinates into a time series"
   ]
  },
  {
   "cell_type": "code",
   "execution_count": 402,
   "metadata": {},
   "outputs": [],
   "source": [
    "first_date = datetime.strptime(' '.join([first_month, str(first_year)]), \"%b %Y\")\n",
    "last_date = datetime.strptime(' '.join([last_month, str(last_year)]), \"%b %Y\")"
   ]
  },
  {
   "cell_type": "code",
   "execution_count": 403,
   "metadata": {},
   "outputs": [],
   "source": [
    "time_delta = last_date_clean - first_date"
   ]
  },
  {
   "cell_type": "code",
   "execution_count": 410,
   "metadata": {},
   "outputs": [],
   "source": [
    "hour_increment = time_delta.days * 24 / len(price_history)"
   ]
  },
  {
   "cell_type": "code",
   "execution_count": 415,
   "metadata": {},
   "outputs": [],
   "source": [
    "all_time_deltas = pd.to_timedelta(price_history.reset_index()['index'] * hour_increment, unit='hours')"
   ]
  },
  {
   "cell_type": "code",
   "execution_count": 417,
   "metadata": {},
   "outputs": [],
   "source": [
    "price_history['date'] = all_time_deltas + first_date"
   ]
  },
  {
   "cell_type": "code",
   "execution_count": 419,
   "metadata": {},
   "outputs": [],
   "source": [
    "price_history = price_history.drop(columns=['x_axis_coord'])"
   ]
  },
  {
   "cell_type": "code",
   "execution_count": 420,
   "metadata": {
    "scrolled": false
   },
   "outputs": [
    {
     "data": {
      "text/html": [
       "<div>\n",
       "<style scoped>\n",
       "    .dataframe tbody tr th:only-of-type {\n",
       "        vertical-align: middle;\n",
       "    }\n",
       "\n",
       "    .dataframe tbody tr th {\n",
       "        vertical-align: top;\n",
       "    }\n",
       "\n",
       "    .dataframe thead th {\n",
       "        text-align: right;\n",
       "    }\n",
       "</style>\n",
       "<table border=\"1\" class=\"dataframe\">\n",
       "  <thead>\n",
       "    <tr style=\"text-align: right;\">\n",
       "      <th></th>\n",
       "      <th>price</th>\n",
       "      <th>date</th>\n",
       "    </tr>\n",
       "  </thead>\n",
       "  <tbody>\n",
       "    <tr>\n",
       "      <th>0</th>\n",
       "      <td>37.971785</td>\n",
       "      <td>2016-01-01 00:00:00.000000000</td>\n",
       "    </tr>\n",
       "    <tr>\n",
       "      <th>1</th>\n",
       "      <td>37.971785</td>\n",
       "      <td>2016-01-01 23:02:33.191487600</td>\n",
       "    </tr>\n",
       "    <tr>\n",
       "      <th>2</th>\n",
       "      <td>37.971785</td>\n",
       "      <td>2016-01-02 22:05:06.382978800</td>\n",
       "    </tr>\n",
       "    <tr>\n",
       "      <th>3</th>\n",
       "      <td>37.971785</td>\n",
       "      <td>2016-01-03 21:07:39.574466400</td>\n",
       "    </tr>\n",
       "    <tr>\n",
       "      <th>4</th>\n",
       "      <td>37.971785</td>\n",
       "      <td>2016-01-04 20:10:12.765957600</td>\n",
       "    </tr>\n",
       "    <tr>\n",
       "      <th>...</th>\n",
       "      <td>...</td>\n",
       "      <td>...</td>\n",
       "    </tr>\n",
       "    <tr>\n",
       "      <th>3003</th>\n",
       "      <td>26.972952</td>\n",
       "      <td>2023-11-23 04:47:14.042554800</td>\n",
       "    </tr>\n",
       "    <tr>\n",
       "      <th>3004</th>\n",
       "      <td>33.407270</td>\n",
       "      <td>2023-11-24 03:49:47.234042400</td>\n",
       "    </tr>\n",
       "    <tr>\n",
       "      <th>3005</th>\n",
       "      <td>33.407270</td>\n",
       "      <td>2023-11-25 02:52:20.425533600</td>\n",
       "    </tr>\n",
       "    <tr>\n",
       "      <th>3006</th>\n",
       "      <td>33.407270</td>\n",
       "      <td>2023-11-26 01:54:53.617021200</td>\n",
       "    </tr>\n",
       "    <tr>\n",
       "      <th>3007</th>\n",
       "      <td>33.407270</td>\n",
       "      <td>2023-11-27 00:57:26.808512400</td>\n",
       "    </tr>\n",
       "  </tbody>\n",
       "</table>\n",
       "<p>3008 rows × 2 columns</p>\n",
       "</div>"
      ],
      "text/plain": [
       "          price                          date\n",
       "0     37.971785 2016-01-01 00:00:00.000000000\n",
       "1     37.971785 2016-01-01 23:02:33.191487600\n",
       "2     37.971785 2016-01-02 22:05:06.382978800\n",
       "3     37.971785 2016-01-03 21:07:39.574466400\n",
       "4     37.971785 2016-01-04 20:10:12.765957600\n",
       "...         ...                           ...\n",
       "3003  26.972952 2023-11-23 04:47:14.042554800\n",
       "3004  33.407270 2023-11-24 03:49:47.234042400\n",
       "3005  33.407270 2023-11-25 02:52:20.425533600\n",
       "3006  33.407270 2023-11-26 01:54:53.617021200\n",
       "3007  33.407270 2023-11-27 00:57:26.808512400\n",
       "\n",
       "[3008 rows x 2 columns]"
      ]
     },
     "execution_count": 420,
     "metadata": {},
     "output_type": "execute_result"
    }
   ],
   "source": [
    "price_history"
   ]
  },
  {
   "cell_type": "markdown",
   "metadata": {},
   "source": [
    "## Debugging"
   ]
  },
  {
   "cell_type": "code",
   "execution_count": 46,
   "metadata": {},
   "outputs": [],
   "source": [
    "start_end_dates = {'amazon': {}}.copy()\n",
    "\n",
    "paths_to_charts = {\n",
    "    'amazon': '/Users/Paul-Emmanuel/Desktop/PhD/3_DST_incidence/dst_incidence/notebooks/temp/B000CRBEJ2_amazon.png',\n",
    "    'new': '/Users/Paul-Emmanuel/Desktop/PhD/3_DST_incidence/dst_incidence/notebooks/temp/B000CRBEJ2_new.png'\n",
    "}"
   ]
  },
  {
   "cell_type": "code",
   "execution_count": 49,
   "metadata": {},
   "outputs": [],
   "source": [
    "img = Image.open(paths_to_charts['new'])"
   ]
  },
  {
   "cell_type": "code",
   "execution_count": 51,
   "metadata": {},
   "outputs": [],
   "source": [
    "img_array = np.array(img)"
   ]
  },
  {
   "cell_type": "code",
   "execution_count": 53,
   "metadata": {},
   "outputs": [],
   "source": [
    "y, x = np.where(np.all(img_array == (8,52,190, 255), axis=2))"
   ]
  },
  {
   "cell_type": "code",
   "execution_count": 54,
   "metadata": {},
   "outputs": [
    {
     "data": {
      "text/plain": [
       "array([], dtype=int64)"
      ]
     },
     "execution_count": 54,
     "metadata": {},
     "output_type": "execute_result"
    }
   ],
   "source": [
    "y"
   ]
  },
  {
   "cell_type": "code",
   "execution_count": 58,
   "metadata": {},
   "outputs": [],
   "source": [
    "y, x = np.where(img_array[0:-1, 0:-1, 2] > img_array[0:-1, 0:-1, 0] * 10)"
   ]
  },
  {
   "cell_type": "code",
   "execution_count": 62,
   "metadata": {},
   "outputs": [
    {
     "data": {
      "text/plain": [
       "(2400, 3200, 4)"
      ]
     },
     "execution_count": 62,
     "metadata": {},
     "output_type": "execute_result"
    }
   ],
   "source": [
    "img_array.shape"
   ]
  },
  {
   "cell_type": "code",
   "execution_count": 65,
   "metadata": {},
   "outputs": [
    {
     "data": {
      "text/plain": [
       "array([255, 255, 255, 255], dtype=uint8)"
      ]
     },
     "execution_count": 65,
     "metadata": {},
     "output_type": "execute_result"
    }
   ],
   "source": [
    "img_array[1689, 836]"
   ]
  },
  {
   "cell_type": "code",
   "execution_count": 64,
   "metadata": {},
   "outputs": [
    {
     "data": {
      "text/plain": [
       "(2400, 3200)"
      ]
     },
     "execution_count": 64,
     "metadata": {},
     "output_type": "execute_result"
    }
   ],
   "source": [
    "img_array[0:, 0:, 2]"
   ]
  },
  {
   "cell_type": "code",
   "execution_count": 69,
   "metadata": {},
   "outputs": [],
   "source": [
    "y, x = np.where(~np.all(img_array == (255,255,255, 255), axis=2))"
   ]
  },
  {
   "cell_type": "code",
   "execution_count": 90,
   "metadata": {},
   "outputs": [],
   "source": [
    "pixels = pd.DataFrame(img_array.reshape(img_array.shape[0] * img_array.shape[1], 4))"
   ]
  },
  {
   "cell_type": "code",
   "execution_count": 91,
   "metadata": {},
   "outputs": [
    {
     "data": {
      "text/html": [
       "<div>\n",
       "<style scoped>\n",
       "    .dataframe tbody tr th:only-of-type {\n",
       "        vertical-align: middle;\n",
       "    }\n",
       "\n",
       "    .dataframe tbody tr th {\n",
       "        vertical-align: top;\n",
       "    }\n",
       "\n",
       "    .dataframe thead th {\n",
       "        text-align: right;\n",
       "    }\n",
       "</style>\n",
       "<table border=\"1\" class=\"dataframe\">\n",
       "  <thead>\n",
       "    <tr style=\"text-align: right;\">\n",
       "      <th></th>\n",
       "      <th>0</th>\n",
       "      <th>1</th>\n",
       "      <th>2</th>\n",
       "      <th>3</th>\n",
       "    </tr>\n",
       "  </thead>\n",
       "  <tbody>\n",
       "    <tr>\n",
       "      <th>0</th>\n",
       "      <td>255</td>\n",
       "      <td>255</td>\n",
       "      <td>255</td>\n",
       "      <td>143</td>\n",
       "    </tr>\n",
       "    <tr>\n",
       "      <th>1</th>\n",
       "      <td>255</td>\n",
       "      <td>255</td>\n",
       "      <td>255</td>\n",
       "      <td>191</td>\n",
       "    </tr>\n",
       "    <tr>\n",
       "      <th>2</th>\n",
       "      <td>255</td>\n",
       "      <td>255</td>\n",
       "      <td>255</td>\n",
       "      <td>191</td>\n",
       "    </tr>\n",
       "    <tr>\n",
       "      <th>3</th>\n",
       "      <td>255</td>\n",
       "      <td>255</td>\n",
       "      <td>255</td>\n",
       "      <td>191</td>\n",
       "    </tr>\n",
       "    <tr>\n",
       "      <th>4</th>\n",
       "      <td>255</td>\n",
       "      <td>255</td>\n",
       "      <td>255</td>\n",
       "      <td>191</td>\n",
       "    </tr>\n",
       "  </tbody>\n",
       "</table>\n",
       "</div>"
      ],
      "text/plain": [
       "     0    1    2    3\n",
       "0  255  255  255  143\n",
       "1  255  255  255  191\n",
       "2  255  255  255  191\n",
       "3  255  255  255  191\n",
       "4  255  255  255  191"
      ]
     },
     "execution_count": 91,
     "metadata": {},
     "output_type": "execute_result"
    }
   ],
   "source": [
    "pixels.head()"
   ]
  },
  {
   "cell_type": "code",
   "execution_count": 96,
   "metadata": {},
   "outputs": [
    {
     "data": {
      "text/plain": [
       "0    1    2    3  \n",
       "255  255  255  255    5609409\n",
       "251  251  251  255    1105430\n",
       "0    51   204  255     264924\n",
       "245  245  245  255     263583\n",
       "252  252  252  255     174176\n",
       "254  254  254  255     110381\n",
       "253  253  253  255      61559\n",
       "221  221  221  255      29428\n",
       "51   51   51   255      20873\n",
       "255  255  255  191      10324\n",
       "dtype: int64"
      ]
     },
     "execution_count": 96,
     "metadata": {},
     "output_type": "execute_result"
    }
   ],
   "source": [
    "pixels.value_counts().head(10)"
   ]
  },
  {
   "cell_type": "code",
   "execution_count": 87,
   "metadata": {},
   "outputs": [],
   "source": [
    "pixels = pixels.drop_duplicates()"
   ]
  },
  {
   "cell_type": "code",
   "execution_count": 88,
   "metadata": {},
   "outputs": [],
   "source": [
    "pixels_restr = pixels[pixels[[0, 1, 2]].mean(axis=1) != 255].copy()"
   ]
  },
  {
   "cell_type": "code",
   "execution_count": 89,
   "metadata": {},
   "outputs": [
    {
     "data": {
      "text/html": [
       "<div>\n",
       "<style scoped>\n",
       "    .dataframe tbody tr th:only-of-type {\n",
       "        vertical-align: middle;\n",
       "    }\n",
       "\n",
       "    .dataframe tbody tr th {\n",
       "        vertical-align: top;\n",
       "    }\n",
       "\n",
       "    .dataframe thead th {\n",
       "        text-align: right;\n",
       "    }\n",
       "</style>\n",
       "<table border=\"1\" class=\"dataframe\">\n",
       "  <thead>\n",
       "    <tr style=\"text-align: right;\">\n",
       "      <th></th>\n",
       "      <th>0</th>\n",
       "      <th>1</th>\n",
       "      <th>2</th>\n",
       "      <th>3</th>\n",
       "    </tr>\n",
       "  </thead>\n",
       "  <tbody>\n",
       "    <tr>\n",
       "      <th>846316</th>\n",
       "      <td>0</td>\n",
       "      <td>51</td>\n",
       "      <td>204</td>\n",
       "      <td>255</td>\n",
       "    </tr>\n",
       "    <tr>\n",
       "      <th>1535955</th>\n",
       "      <td>235</td>\n",
       "      <td>239</td>\n",
       "      <td>251</td>\n",
       "      <td>255</td>\n",
       "    </tr>\n",
       "    <tr>\n",
       "      <th>1535956</th>\n",
       "      <td>125</td>\n",
       "      <td>151</td>\n",
       "      <td>229</td>\n",
       "      <td>255</td>\n",
       "    </tr>\n",
       "    <tr>\n",
       "      <th>1535957</th>\n",
       "      <td>48</td>\n",
       "      <td>89</td>\n",
       "      <td>214</td>\n",
       "      <td>255</td>\n",
       "    </tr>\n",
       "    <tr>\n",
       "      <th>1535958</th>\n",
       "      <td>12</td>\n",
       "      <td>61</td>\n",
       "      <td>206</td>\n",
       "      <td>255</td>\n",
       "    </tr>\n",
       "    <tr>\n",
       "      <th>...</th>\n",
       "      <td>...</td>\n",
       "      <td>...</td>\n",
       "      <td>...</td>\n",
       "      <td>...</td>\n",
       "    </tr>\n",
       "    <tr>\n",
       "      <th>1587156</th>\n",
       "      <td>137</td>\n",
       "      <td>161</td>\n",
       "      <td>231</td>\n",
       "      <td>255</td>\n",
       "    </tr>\n",
       "    <tr>\n",
       "      <th>1587157</th>\n",
       "      <td>52</td>\n",
       "      <td>93</td>\n",
       "      <td>214</td>\n",
       "      <td>255</td>\n",
       "    </tr>\n",
       "    <tr>\n",
       "      <th>1587179</th>\n",
       "      <td>242</td>\n",
       "      <td>245</td>\n",
       "      <td>252</td>\n",
       "      <td>255</td>\n",
       "    </tr>\n",
       "    <tr>\n",
       "      <th>1587180</th>\n",
       "      <td>126</td>\n",
       "      <td>152</td>\n",
       "      <td>229</td>\n",
       "      <td>255</td>\n",
       "    </tr>\n",
       "    <tr>\n",
       "      <th>1587184</th>\n",
       "      <td>54</td>\n",
       "      <td>94</td>\n",
       "      <td>215</td>\n",
       "      <td>255</td>\n",
       "    </tr>\n",
       "  </tbody>\n",
       "</table>\n",
       "<p>120 rows × 4 columns</p>\n",
       "</div>"
      ],
      "text/plain": [
       "           0    1    2    3\n",
       "846316     0   51  204  255\n",
       "1535955  235  239  251  255\n",
       "1535956  125  151  229  255\n",
       "1535957   48   89  214  255\n",
       "1535958   12   61  206  255\n",
       "...      ...  ...  ...  ...\n",
       "1587156  137  161  231  255\n",
       "1587157   52   93  214  255\n",
       "1587179  242  245  252  255\n",
       "1587180  126  152  229  255\n",
       "1587184   54   94  215  255\n",
       "\n",
       "[120 rows x 4 columns]"
      ]
     },
     "execution_count": 89,
     "metadata": {},
     "output_type": "execute_result"
    }
   ],
   "source": [
    "pixels_restr[pixels_restr[2] > pixels_restr[0]].drop_duplicates()"
   ]
  },
  {
   "cell_type": "code",
   "execution_count": 59,
   "metadata": {},
   "outputs": [
    {
     "data": {
      "text/plain": [
       "array([[255, 255, 255, 143],\n",
       "       [255, 255, 255, 191],\n",
       "       [255, 255, 255, 191],\n",
       "       ...,\n",
       "       [255, 255, 255, 255],\n",
       "       [255, 255, 255, 255],\n",
       "       [255, 255, 255, 255]], dtype=uint8)"
      ]
     },
     "execution_count": 59,
     "metadata": {},
     "output_type": "execute_result"
    }
   ],
   "source": [
    "img_array[np.where(img_array[0:-1, 0:-1, 2] > img_array[0:-1, 0:-1, 0] * 10)]"
   ]
  },
  {
   "cell_type": "code",
   "execution_count": 52,
   "metadata": {
    "scrolled": true
   },
   "outputs": [
    {
     "data": {
      "text/plain": [
       "array([[[255, 255, 255, 143],\n",
       "        [255, 255, 255, 191],\n",
       "        [255, 255, 255, 191],\n",
       "        ...,\n",
       "        [255, 255, 255, 191],\n",
       "        [255, 255, 255, 191],\n",
       "        [255, 255, 255, 143]],\n",
       "\n",
       "       [[255, 255, 255, 191],\n",
       "        [255, 255, 255, 255],\n",
       "        [255, 255, 255, 255],\n",
       "        ...,\n",
       "        [255, 255, 255, 255],\n",
       "        [255, 255, 255, 255],\n",
       "        [255, 255, 255, 191]],\n",
       "\n",
       "       [[255, 255, 255, 191],\n",
       "        [255, 255, 255, 255],\n",
       "        [255, 255, 255, 255],\n",
       "        ...,\n",
       "        [255, 255, 255, 255],\n",
       "        [255, 255, 255, 255],\n",
       "        [255, 255, 255, 191]],\n",
       "\n",
       "       ...,\n",
       "\n",
       "       [[255, 255, 255, 191],\n",
       "        [255, 255, 255, 255],\n",
       "        [255, 255, 255, 255],\n",
       "        ...,\n",
       "        [255, 255, 255, 255],\n",
       "        [255, 255, 255, 255],\n",
       "        [255, 255, 255, 191]],\n",
       "\n",
       "       [[255, 255, 255, 191],\n",
       "        [255, 255, 255, 255],\n",
       "        [255, 255, 255, 255],\n",
       "        ...,\n",
       "        [255, 255, 255, 255],\n",
       "        [255, 255, 255, 255],\n",
       "        [255, 255, 255, 191]],\n",
       "\n",
       "       [[255, 255, 255, 143],\n",
       "        [255, 255, 255, 191],\n",
       "        [255, 255, 255, 191],\n",
       "        ...,\n",
       "        [255, 255, 255, 191],\n",
       "        [255, 255, 255, 191],\n",
       "        [255, 255, 255, 143]]], dtype=uint8)"
      ]
     },
     "execution_count": 52,
     "metadata": {},
     "output_type": "execute_result"
    }
   ],
   "source": [
    "(8,52,190, 255)"
   ]
  },
  {
   "cell_type": "markdown",
   "metadata": {},
   "source": [
    "## Example of price history inference"
   ]
  },
  {
   "cell_type": "code",
   "execution_count": 111,
   "metadata": {},
   "outputs": [],
   "source": [
    "path_to_price_history = \"\"\"\n",
    "    /Users/Paul-Emmanuel/Desktop/PhD/3_DST_incidence/dst_incidence/dst_incidence/data/prices/price_history.csv\n",
    "\"\"\"\n",
    "path_to_price_history_summary = \"\"\"\n",
    "    /Users/Paul-Emmanuel/Desktop/PhD/3_DST_incidence/dst_incidence/dst_incidence/data/prices/price_history_summary.csv\n",
    "\"\"\""
   ]
  },
  {
   "cell_type": "code",
   "execution_count": 112,
   "metadata": {},
   "outputs": [],
   "source": [
    "price_history_summary = pd.read_csv(path_to_price_history_summary.strip('\\n '))"
   ]
  },
  {
   "cell_type": "code",
   "execution_count": 113,
   "metadata": {},
   "outputs": [
    {
     "data": {
      "text/html": [
       "<div>\n",
       "<style scoped>\n",
       "    .dataframe tbody tr th:only-of-type {\n",
       "        vertical-align: middle;\n",
       "    }\n",
       "\n",
       "    .dataframe tbody tr th {\n",
       "        vertical-align: top;\n",
       "    }\n",
       "\n",
       "    .dataframe thead th {\n",
       "        text-align: right;\n",
       "    }\n",
       "</style>\n",
       "<table border=\"1\" class=\"dataframe\">\n",
       "  <thead>\n",
       "    <tr style=\"text-align: right;\">\n",
       "      <th></th>\n",
       "      <th>sku</th>\n",
       "      <th>country</th>\n",
       "      <th>unit</th>\n",
       "      <th>seller</th>\n",
       "      <th>min_price</th>\n",
       "      <th>min_price_date</th>\n",
       "      <th>max_price</th>\n",
       "      <th>max_price_date</th>\n",
       "      <th>current_price</th>\n",
       "      <th>current_price_date</th>\n",
       "      <th>average_price</th>\n",
       "    </tr>\n",
       "  </thead>\n",
       "  <tbody>\n",
       "    <tr>\n",
       "      <th>0</th>\n",
       "      <td>B000CRBEJ2</td>\n",
       "      <td>fr</td>\n",
       "      <td>€</td>\n",
       "      <td>amazon</td>\n",
       "      <td>23.38</td>\n",
       "      <td>2020-06-22</td>\n",
       "      <td>54.8</td>\n",
       "      <td>2023-05-29</td>\n",
       "      <td>38.57</td>\n",
       "      <td>2023-12-03</td>\n",
       "      <td>39.38</td>\n",
       "    </tr>\n",
       "    <tr>\n",
       "      <th>1</th>\n",
       "      <td>B000CRBEJ2</td>\n",
       "      <td>fr</td>\n",
       "      <td>€</td>\n",
       "      <td>new</td>\n",
       "      <td>8.00</td>\n",
       "      <td>2017-07-16</td>\n",
       "      <td>50.0</td>\n",
       "      <td>2018-10-27</td>\n",
       "      <td>NaN</td>\n",
       "      <td>NaN</td>\n",
       "      <td>36.98</td>\n",
       "    </tr>\n",
       "    <tr>\n",
       "      <th>2</th>\n",
       "      <td>B000CRBEJ2</td>\n",
       "      <td>fr</td>\n",
       "      <td>€</td>\n",
       "      <td>used</td>\n",
       "      <td>16.00</td>\n",
       "      <td>2018-10-20</td>\n",
       "      <td>125.0</td>\n",
       "      <td>2018-09-20</td>\n",
       "      <td>NaN</td>\n",
       "      <td>NaN</td>\n",
       "      <td>34.43</td>\n",
       "    </tr>\n",
       "  </tbody>\n",
       "</table>\n",
       "</div>"
      ],
      "text/plain": [
       "          sku country unit  seller  min_price min_price_date  max_price  \\\n",
       "0  B000CRBEJ2      fr    €  amazon      23.38     2020-06-22       54.8   \n",
       "1  B000CRBEJ2      fr    €     new       8.00     2017-07-16       50.0   \n",
       "2  B000CRBEJ2      fr    €    used      16.00     2018-10-20      125.0   \n",
       "\n",
       "  max_price_date  current_price current_price_date  average_price  \n",
       "0     2023-05-29          38.57         2023-12-03          39.38  \n",
       "1     2018-10-27            NaN                NaN          36.98  \n",
       "2     2018-09-20            NaN                NaN          34.43  "
      ]
     },
     "execution_count": 113,
     "metadata": {},
     "output_type": "execute_result"
    }
   ],
   "source": [
    "price_history_summary"
   ]
  },
  {
   "cell_type": "code",
   "execution_count": 99,
   "metadata": {},
   "outputs": [],
   "source": [
    "price_history = pd.read_csv(path_to_price_history.strip('\\n '))"
   ]
  },
  {
   "cell_type": "code",
   "execution_count": 105,
   "metadata": {},
   "outputs": [],
   "source": [
    "price_history['date'] = pd.to_datetime(price_history['date'])"
   ]
  },
  {
   "cell_type": "code",
   "execution_count": 116,
   "metadata": {},
   "outputs": [],
   "source": [
    "sku = price_history['sku'].unique()[0]\n",
    "seller = 'amazon'"
   ]
  },
  {
   "cell_type": "code",
   "execution_count": 117,
   "metadata": {},
   "outputs": [],
   "source": [
    "price_history_summary = price_history_summary[\n",
    "    np.logical_and(\n",
    "        price_history_summary['sku'] == sku,\n",
    "        price_history_summary['seller'] == seller\n",
    "    )\n",
    "].copy()\n",
    "price_history = price_history[\n",
    "    np.logical_and(\n",
    "        price_history['sku'] == sku,\n",
    "        price_history['seller'] == seller\n",
    "    )\n",
    "].copy()"
   ]
  },
  {
   "cell_type": "code",
   "execution_count": 118,
   "metadata": {},
   "outputs": [
    {
     "data": {
      "text/html": [
       "<div>\n",
       "<style scoped>\n",
       "    .dataframe tbody tr th:only-of-type {\n",
       "        vertical-align: middle;\n",
       "    }\n",
       "\n",
       "    .dataframe tbody tr th {\n",
       "        vertical-align: top;\n",
       "    }\n",
       "\n",
       "    .dataframe thead th {\n",
       "        text-align: right;\n",
       "    }\n",
       "</style>\n",
       "<table border=\"1\" class=\"dataframe\">\n",
       "  <thead>\n",
       "    <tr style=\"text-align: right;\">\n",
       "      <th></th>\n",
       "      <th>price</th>\n",
       "      <th>sku</th>\n",
       "      <th>country</th>\n",
       "      <th>unit</th>\n",
       "      <th>seller</th>\n",
       "      <th>date</th>\n",
       "    </tr>\n",
       "  </thead>\n",
       "  <tbody>\n",
       "    <tr>\n",
       "      <th>0</th>\n",
       "      <td>37.971785</td>\n",
       "      <td>B000CRBEJ2</td>\n",
       "      <td>fr</td>\n",
       "      <td>€</td>\n",
       "      <td>amazon</td>\n",
       "      <td>2015-07-01 00:00:00.000000</td>\n",
       "    </tr>\n",
       "    <tr>\n",
       "      <th>1</th>\n",
       "      <td>37.971785</td>\n",
       "      <td>B000CRBEJ2</td>\n",
       "      <td>fr</td>\n",
       "      <td>€</td>\n",
       "      <td>amazon</td>\n",
       "      <td>2015-07-02 00:33:01.914894</td>\n",
       "    </tr>\n",
       "    <tr>\n",
       "      <th>2</th>\n",
       "      <td>37.971785</td>\n",
       "      <td>B000CRBEJ2</td>\n",
       "      <td>fr</td>\n",
       "      <td>€</td>\n",
       "      <td>amazon</td>\n",
       "      <td>2015-07-03 01:06:03.829788</td>\n",
       "    </tr>\n",
       "    <tr>\n",
       "      <th>3</th>\n",
       "      <td>37.971785</td>\n",
       "      <td>B000CRBEJ2</td>\n",
       "      <td>fr</td>\n",
       "      <td>€</td>\n",
       "      <td>amazon</td>\n",
       "      <td>2015-07-04 01:39:05.744682</td>\n",
       "    </tr>\n",
       "    <tr>\n",
       "      <th>4</th>\n",
       "      <td>37.971785</td>\n",
       "      <td>B000CRBEJ2</td>\n",
       "      <td>fr</td>\n",
       "      <td>€</td>\n",
       "      <td>amazon</td>\n",
       "      <td>2015-07-05 02:12:07.659576</td>\n",
       "    </tr>\n",
       "  </tbody>\n",
       "</table>\n",
       "</div>"
      ],
      "text/plain": [
       "       price         sku country unit  seller                       date\n",
       "0  37.971785  B000CRBEJ2      fr    €  amazon 2015-07-01 00:00:00.000000\n",
       "1  37.971785  B000CRBEJ2      fr    €  amazon 2015-07-02 00:33:01.914894\n",
       "2  37.971785  B000CRBEJ2      fr    €  amazon 2015-07-03 01:06:03.829788\n",
       "3  37.971785  B000CRBEJ2      fr    €  amazon 2015-07-04 01:39:05.744682\n",
       "4  37.971785  B000CRBEJ2      fr    €  amazon 2015-07-05 02:12:07.659576"
      ]
     },
     "execution_count": 118,
     "metadata": {},
     "output_type": "execute_result"
    }
   ],
   "source": [
    "price_history.head()"
   ]
  },
  {
   "cell_type": "code",
   "execution_count": 140,
   "metadata": {
    "scrolled": false
   },
   "outputs": [
    {
     "data": {
      "image/png": "[encoded data removed]",
      "text/plain": [
       "<Figure size 1080x720 with 1 Axes>"
      ]
     },
     "metadata": {
      "needs_background": "light"
     },
     "output_type": "display_data"
    }
   ],
   "source": [
    "plt.figure(figsize=(15, 10))\n",
    "plt.plot(price_history['date'], price_history['price'], color=np.array((99, 168, 94, 255)) / 255)\n",
    "plt.axhline(\n",
    "    price_history_summary.loc[price_history_summary.index[0], 'min_price'],\n",
    "    linestyle='--', color=np.array((119, 195, 107, 255)) / 255\n",
    ")\n",
    "plt.axhline(\n",
    "    price_history_summary.loc[price_history_summary.index[0], 'max_price'],\n",
    "    linestyle='--', color=np.array((194, 68, 68, 255)) / 255\n",
    ")\n",
    "plt.rcParams.update({'font.size': 20})\n",
    "plt.savefig(\n",
    "    \"/Users/Paul-Emmanuel/Dropbox/Applications/Overleaf/DST Incidence/static/price_history_inference_example.png\",\n",
    "    bbox_inches='tight'\n",
    ")\n",
    "plt.show()"
   ]
  },
  {
   "cell_type": "code",
   "execution_count": 138,
   "metadata": {},
   "outputs": [
    {
     "data": {
      "text/plain": [
       "<Figure size 432x288 with 0 Axes>"
      ]
     },
     "metadata": {},
     "output_type": "display_data"
    }
   ],
   "source": []
  },
  {
   "cell_type": "code",
   "execution_count": null,
   "metadata": {},
   "outputs": [],
   "source": []
  }
 ],
 "metadata": {
  "kernelspec": {
   "display_name": "Python 3",
   "language": "python",
   "name": "python3"
  },
  "language_info": {
   "codemirror_mode": {
    "name": "ipython",
    "version": 3
   },
   "file_extension": ".py",
   "mimetype": "text/x-python",
   "name": "python",
   "nbconvert_exporter": "python",
   "pygments_lexer": "ipython3",
   "version": "3.7.7"
  },
  "toc": {
   "base_numbering": 1,
   "nav_menu": {},
   "number_sections": false,
   "sideBar": true,
   "skip_h1_title": false,
   "title_cell": "Table of Contents",
   "title_sidebar": "Contents",
   "toc_cell": false,
   "toc_position": {},
   "toc_section_display": true,
   "toc_window_display": true
  }
 },
 "nbformat": 4,
 "nbformat_minor": 4
}
